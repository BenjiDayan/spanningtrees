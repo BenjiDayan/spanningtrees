{
 "cells": [
  {
   "cell_type": "code",
   "execution_count": 1,
   "metadata": {
    "executionInfo": {
     "elapsed": 6,
     "status": "ok",
     "timestamp": 1660223085807,
     "user": {
      "displayName": "Benjamin Dayan",
      "userId": "11817114914797936108"
     },
     "user_tz": -120
    },
    "id": "mZx_t8qYAZHV"
   },
   "outputs": [],
   "source": [
    "from IPython.core.interactiveshell import InteractiveShell\n",
    "InteractiveShell.ast_node_interactivity = \"all\""
   ]
  },
  {
   "cell_type": "code",
   "execution_count": 2,
   "metadata": {
    "colab": {
     "base_uri": "https://localhost:8080/",
     "height": 562,
     "referenced_widgets": [
      "858aca51e3c941adb23c05887a8fd6c5",
      "e6613a12dd2d4ab1a00377d85652482e",
      "66c08bb2d82f4a509b8917223171800b",
      "ab5dffe74f174911a2db030911e37f6b",
      "b235e2ca68c84d72bfda8a0bc11bd5e8",
      "f5fae821f8a24b0081eda231c4fff9ed",
      "e73de0df248442c0a7190464bf840e02",
      "17a26ccfea9047449857153dccd2a7ed",
      "e6cbb36b889c49fe9feebf46d45f044f",
      "eedbdeac83fd4948955639cb68f595be",
      "202086d9a08540a68e3aa7441bad5d39",
      "1cfc4e1f2f07493e9a4d06175a4fe249",
      "b656cfac056740e8b99b81cf6a92f104",
      "215c37dc96e94fa9a9447707861753be",
      "80413e28c57041c7b45c8bd22319c1f5",
      "87c57c9cf3884b80bade9c80d1b0b96a",
      "1c3d6c0af27a40538b7a3cf03dc1efc4",
      "01fc9fbb98104b4daf77b222d5d3e37d",
      "313a0dcfc09d4ca7973ccdc1a1f54d1c",
      "c863c8c3692245d49ccd3667f9e54dd7",
      "eab7eddfeb7c44c496e14f3bdd2c2591",
      "32442c56e3354f5e96bccb115f2207de",
      "f940c27ddf7b414897a7f7a60f452c85",
      "89f8c69c5a88404c95e974afd3889803",
      "8de2ab894c5d4feb869a97904fc91692",
      "9f6e14f4bd234909b6bf7abdc8608ad5",
      "614fab9013a548a791772c7175a4df4e",
      "3dc9e4d8780641c98abb807360707430",
      "959b48c91ca2497b8b5a7cdd85c7e4df",
      "639e258521fb41189ee386167fada461",
      "4a65196dd5184089b1da25e8020bc4b0",
      "6c9b875278be4e738e535ae024ec8459",
      "35cc4e22470a4a63b10f4303e939f0ff",
      "23f900649d0a4d849f06ad6fdc12cb8a",
      "9b9fec6b947646a3b840c61be493a36f",
      "af9b950d445e48c09c683dd71c3bb33a",
      "89ada6c4b6dc4f3fb498558f725a65ec",
      "3a6003fe7dcc495fab4e5a908fc8c139",
      "9d03836f04424ab9a3d5772d82c6962e",
      "1cbe812b5c0441408cc6c477b8d5098a",
      "c002f88955fc4854874428a216d0045a",
      "fc4fab18d128426293d814dad9d78659",
      "b577f12a5c71441a903681ae362bf3e8",
      "f3cc84debfef420d9518b6b11e9dd993",
      "bb1957f5864e4441be988c6ce3409304",
      "d928d75aa573495c971ba3a0ab9c999b",
      "aa78f5fdeb99409ea5c4f841e7240765",
      "1ef42ceebb55402fbc42d48c1c34c7b6",
      "31069fab2d714bfaa91568fa1a1c03fb",
      "4314191836fc450f8a64085f45f623e8",
      "3b0f718a5540494e95507457ee6ab2fa",
      "0398b5b564c74ece99b3b03723cb5736",
      "ca93ebcfa1e74289ba0d3cb797830704",
      "c210828d03504160afe9850ad0dd3032",
      "dab3bb4ada6846c8b61861d3faf168be",
      "4666c5e6b6cf4dc187b7328d1e01a866",
      "fe3b0f825f254387b80fd10682f421dc",
      "d2c7346dc0034df39eb01199c4a6be64",
      "f35e2f7dc684472fbefecd2143049ff4",
      "dc5b3b514c874cbba0c959e062cf9262",
      "845656eb4e214d798cc029f012f21a09",
      "73ca0d50d9d44de2bb7e24b73ebfd42f",
      "af6412e64b40437a8ac1442a466d522c",
      "aa4a5ca4b6b24cfb9f2a0d0370f03150",
      "639c7623ed784d1c988f8eabf1fdf4e5",
      "15e54667ece74fc0974f59614f842e91",
      "4b5178d20d7247978cd456903fcbaa6e",
      "0fe618c5a010448bb62f2b0df2031a9f",
      "99bbdf663e7844a08da97c3488c28dc6",
      "aa15cf0487ac4350b2f24514bc926969",
      "e48791eb74dd47a59ece78ff031a4d5a",
      "a5c4d0f5f79542dea7d2a0c588d9d5ef",
      "bedf5f275ad94e46a582c28e1f306107",
      "c1c4353c96834b6496d86f2eb77048b0",
      "15100945961745c5a950f1376603cc74",
      "f268c424d43141de977373c93cd7f06d",
      "fdbc14baed124afd91f6803f6afe14a9",
      "40f3ff1ad2554b9cb8b3d947aa7fdbe0",
      "978ca4fe6b1f4edb81264ec347879f4b",
      "0afc35c935874ab3b99ce1d7a1ba05f9",
      "986ed9fb283144308512f31bbd83fc2b",
      "615f9754930d4a3d9318fd1dfc5d86a5",
      "39e77f29553c455ebea790f613b09448",
      "e87c504975b74979bccf9de6ce56d603",
      "b19e9f92ef014513a7bbd3a13486c013",
      "5162823d4b3043aaa349387aef3289d1",
      "23d77f335f5541b380d0ca13610b2239",
      "6a19c0acd9a1470d821194558a7600ab",
      "e83c2c22e21e44eebfa46f326248ffb7",
      "f646aceb09e240c1a16524fe9128ed95",
      "5a6b5a8354ee40b2be220d1dba6834cc",
      "fc2e39a7d2cd440e8524d56c9313c8ae",
      "d1ec5f26e08a40bea3c6645c8581b5e4",
      "43738b8a3b8041d4a9bd5e5619f0058b",
      "b1e1baf4494d4daa8121dc5401997600",
      "8b3b5f4d55c04e248933d3a5cfb1a658",
      "4f0f9a6e366445ad8c977c21ecbea561",
      "f7ebbcbde3834abb8ddc609317e2f9b6",
      "3b60ef22d3874e1db64a2fa02ba24924",
      "01310df292ee43709de11cf4f2aa4ccd",
      "a593548ae92c4928b6638cf53efb0876",
      "a755cac4cd544a44a946ab7f3ac050e9",
      "684021e59dae4fc7890617ccdfcf6c33",
      "27e7aad89ccd4936be0f6b4acc06dd5b",
      "d263c6fc5a3d449984c2c71201b8350a",
      "aa7767a7fbbe47a9b85b452fd0149caa",
      "9f684070b1394e36ab2bde172acf1ab8",
      "b98d91479ce54b2d8d0f31ca9502a0aa",
      "18f3083df3fe4bc2a9363642cc80e139",
      "7d76ae6dc47c42688b461e081485931e",
      "6b66a63be25740f1ba03eb8bf19ae531",
      "c1ee1b86c9ef43359dd6ed58c3e009a8",
      "705571dcafad4b38a79e35b4c7cf8155",
      "60fca973df7842f785bf2d813627a662",
      "6d381e10f6594b5e804440587fc66479",
      "f04fb1fa6be84ec9bc71701ea9c0dd3a",
      "6ea8f1b216674fe0b3082a289ebbf9a5",
      "6dabfdcf91f64a1d9402aa6c39bf5efe",
      "426ef7f531ac463997dc10b1af0c89d3",
      "c0e76d2f04e14bb2b317cb2cce25e92b",
      "a7b0c212aae84d8b969cbe0e31d2773e",
      "ac381b3d52464711a4781331dbf98e91",
      "bf374a4e5065406d9ebf4e73120d9c64",
      "ace0fea60d394aff9cbe880bf7659aff",
      "1c393ec54d1f462b939600af9330b151",
      "21fa453f4ea941eb806c08e3ca7d846d",
      "b7cea8bc17e04e488abd2159c215bc2a",
      "f3088e403d774b14b89801e3e5104813",
      "b298f63095de4ce08fabf13f6cdc7708",
      "4e2ca3929a34420d8eafef9cc6386078",
      "0b7384a87f1f48fb97d042b4caa70df6",
      "adc1203fadaf4f4593a8cf214ac68c99",
      "e20cd7be959d44cfa6a2ae4db48c9c61",
      "e21f3832ca7247c5adfa4fd6849f7c5a",
      "d26510e9b0254d1d938cde3ace664913",
      "3d637b688fe44fdeaf6e6ca36e7798a0",
      "c37ffd97fd344cd1bd4400ec4931b572",
      "7650b13297044e6c92a2b9083e466785",
      "8629e2f846524d64a9ce29d7ccd449a0",
      "96fe1966987b437ebce00832378481ab",
      "9d3b9decb20a49c18b9753f012b44cff",
      "c5e9dee8a14d4119b8d3d176d644c6fa",
      "8066755cca9f4ed980893dfc4c2c6c23",
      "24a335d68f9941448e9609da200198a1",
      "5162c1b4e09a4a2d8976bc2dcc5ee6ae",
      "0c312f30ced14eb79ea5dd7612246544",
      "05a409713172412badd66b81773d6014",
      "17df30852cef4b21afff78563efc79ad",
      "4cf16db5ddb74bf798c560d62042e6e9",
      "cc7a6c47101f416c8f96ec486920ee83",
      "a0687b0ad2f545bc992220cc10648fe3",
      "68f54113a4e44ca7ad1092a579fcd742",
      "cbeeb337829d43c79c279275cedb9852",
      "9890fe952c0240a89ceabe7380e9898e",
      "fe2e993f8557459f973475c710625795",
      "6b9f1d6c65074d54992acd70054df0f4",
      "9225fd2442094f0a856d9e1ccf0d836d",
      "629fdf5f59df481e9dd25fabc1d19152",
      "d501a09fe8fc42d08e733a203af28989",
      "29dbaabd0991420fb3a92f5cf80793f7",
      "0a68acd4aa444895934c2ad8de1b7cb4",
      "da5203cf0e3a4f6e93f946d0c533ca68",
      "9c13c9d6cd894282b8d452ba4eaf0473",
      "e7f0a4ded68747f49d8ea6a0d35b6361",
      "dbf7da01f33e48f78fa5e345a20ac190",
      "54a00d9507a04650955fe48a08780632",
      "a0ce256141f94c20a218ef172ae8f6e8",
      "dd07de931a7d404887bb05d389345f5b",
      "bd656132b4bd4a14954cd7190563f469",
      "3860157ad93d4aac9de1b983793a9a98",
      "176592c89ed34a16b1876e97b899d423",
      "9cf69a329bb7438ba5d5fe703ba08245",
      "5f04d6feff6041268763bc7674be5a2a",
      "7baf08a340754abe99d03552512d7ccb",
      "536a6ac4457a4e23874f4589cca4575c",
      "815f0734480b4c639ca8dbc39134262f"
     ]
    },
    "executionInfo": {
     "elapsed": 48095,
     "status": "ok",
     "timestamp": 1660223149619,
     "user": {
      "displayName": "Benjamin Dayan",
      "userId": "11817114914797936108"
     },
     "user_tz": -120
    },
    "id": "jAyOZ3Lj7IUC",
    "outputId": "c9939576-6682-40fb-841a-153350d3cec8"
   },
   "outputs": [
    {
     "name": "stderr",
     "output_type": "stream",
     "text": [
      "C:\\Users\\Buse\\anaconda3\\envs\\afltproj\\lib\\site-packages\\tqdm\\auto.py:22: TqdmWarning: IProgress not found. Please update jupyter and ipywidgets. See https://ipywidgets.readthedocs.io/en/stable/user_install.html\n",
      "  from .autonotebook import tqdm as notebook_tqdm\n"
     ]
    },
    {
     "data": {
      "text/plain": [
       "<All keys matched successfully>"
      ]
     },
     "execution_count": 2,
     "metadata": {},
     "output_type": "execute_result"
    },
    {
     "name": "stderr",
     "output_type": "stream",
     "text": [
      "Reusing dataset universal_dependencies (C:\\Users\\Buse\\.cache\\huggingface\\datasets\\universal_dependencies\\en_gum\\2.7.0\\1ac001f0e8a0021f19388e810c94599f3ac13cc45d6b5b8c69f7847b2188bdf7)\n",
      "100%|███████████████████████████████████████████████████████████████████████████████████| 3/3 [00:00<00:00, 115.40it/s]\n",
      "Some weights of the model checkpoint at bert-base-cased were not used when initializing BertModel: ['cls.predictions.transform.LayerNorm.bias', 'cls.predictions.bias', 'cls.seq_relationship.weight', 'cls.predictions.decoder.weight', 'cls.predictions.transform.LayerNorm.weight', 'cls.seq_relationship.bias', 'cls.predictions.transform.dense.bias', 'cls.predictions.transform.dense.weight']\n",
      "- This IS expected if you are initializing BertModel from the checkpoint of a model trained on another task or with another architecture (e.g. initializing a BertForSequenceClassification model from a BertForPreTraining model).\n",
      "- This IS NOT expected if you are initializing BertModel from the checkpoint of a model that you expect to be exactly identical (initializing a BertForSequenceClassification model from a BertForSequenceClassification model).\n"
     ]
    }
   ],
   "source": [
    "from benji_transformer_play import *\n",
    "\n",
    "scorer = Scorer2().to(device)\n",
    "scorer.load_state_dict(torch.load('runs/colab_07_21-14_26_16/save_epoch29.pt', map_location=device))\n",
    "\n",
    "data = datasets.load_dataset(\"universal_dependencies\", \"en_gum\")\n",
    "tokenizer = AutoTokenizer.from_pretrained(\"bert-base-cased\")\n",
    "val_data = [sequence for sequence in data['test'] if len(sequence['tokens']) < 20]\n",
    "model = AutoModel.from_pretrained(\"bert-base-cased\", output_hidden_states=True).to(device)"
   ]
  },
  {
   "cell_type": "code",
   "execution_count": 3,
   "metadata": {},
   "outputs": [],
   "source": [
    "length_sequence = 10 # we need this limit for the intersection not to get too big"
   ]
  },
  {
   "cell_type": "code",
   "execution_count": 4,
   "metadata": {},
   "outputs": [
    {
     "data": {
      "text/plain": [
       "890"
      ]
     },
     "execution_count": 4,
     "metadata": {},
     "output_type": "execute_result"
    },
    {
     "data": {
      "text/plain": [
       "540"
      ]
     },
     "execution_count": 4,
     "metadata": {},
     "output_type": "execute_result"
    },
    {
     "data": {
      "text/plain": [
       "256"
      ]
     },
     "execution_count": 4,
     "metadata": {},
     "output_type": "execute_result"
    }
   ],
   "source": [
    "val_short_data = [sequence for sequence in data['test'] if len(sequence['tokens']) < length_sequence]\n",
    "len(data['test'])\n",
    "len(val_data)\n",
    "len(val_short_data)"
   ]
  },
  {
   "cell_type": "code",
   "execution_count": 5,
   "metadata": {},
   "outputs": [
    {
     "data": {
      "text/plain": [
       "[{'idx': 'GUM_academic_discrimination-2',\n",
       "  'text': 'Results from a nationally representative sample of adults',\n",
       "  'tokens': ['Results',\n",
       "   'from',\n",
       "   'a',\n",
       "   'nationally',\n",
       "   'representative',\n",
       "   'sample',\n",
       "   'of',\n",
       "   'adults'],\n",
       "  'lemmas': ['result',\n",
       "   'from',\n",
       "   'a',\n",
       "   'nationally',\n",
       "   'representative',\n",
       "   'sample',\n",
       "   'of',\n",
       "   'adult'],\n",
       "  'upos': [0, 2, 8, 14, 6, 0, 2, 0],\n",
       "  'xpos': ['NNS', 'IN', 'DT', 'RB', 'JJ', 'NN', 'IN', 'NNS'],\n",
       "  'feats': [\"{'Number': 'Plur'}\",\n",
       "   'None',\n",
       "   \"{'Definite': 'Ind', 'PronType': 'Art'}\",\n",
       "   'None',\n",
       "   \"{'Degree': 'Pos'}\",\n",
       "   \"{'Number': 'Sing'}\",\n",
       "   'None',\n",
       "   \"{'Number': 'Plur'}\"],\n",
       "  'head': ['0', '6', '6', '5', '6', '1', '8', '6'],\n",
       "  'deprel': ['root', 'case', 'det', 'advmod', 'amod', 'nmod', 'case', 'nmod'],\n",
       "  'deps': ['None', 'None', 'None', 'None', 'None', 'None', 'None', 'None'],\n",
       "  'misc': [\"{'Discourse': 'elaboration:2->1', 'Entity': '(abstract-5'}\",\n",
       "   'None',\n",
       "   \"{'Entity': '(person-6'}\",\n",
       "   'None',\n",
       "   'None',\n",
       "   'None',\n",
       "   'None',\n",
       "   \"{'Entity': '(person-7)abstract-5)person-6)'}\"]},\n",
       " {'idx': 'GUM_academic_discrimination-3',\n",
       "  'text': 'Introduction.',\n",
       "  'tokens': ['Introduction', '.'],\n",
       "  'lemmas': ['introduction', '.'],\n",
       "  'upos': [0, 1],\n",
       "  'xpos': ['NN', '.'],\n",
       "  'feats': [\"{'Number': 'Sing'}\", 'None'],\n",
       "  'head': ['0', '1'],\n",
       "  'deprel': ['root', 'punct'],\n",
       "  'deps': ['None', 'None'],\n",
       "  'misc': [\"{'Discourse': 'preparation:3->38', 'Entity': '(abstract-8)', 'SpaceAfter': 'No'}\",\n",
       "   'None']},\n",
       " {'idx': 'GUM_academic_discrimination-17',\n",
       "  'text': 'Reason for discrimination.',\n",
       "  'tokens': ['Reason', 'for', 'discrimination', '.'],\n",
       "  'lemmas': ['reason', 'for', 'discrimination', '.'],\n",
       "  'upos': [0, 2, 0, 1],\n",
       "  'xpos': ['NN', 'IN', 'NN', '.'],\n",
       "  'feats': [\"{'Number': 'Sing'}\", 'None', \"{'Number': 'Sing'}\", 'None'],\n",
       "  'head': ['0', '3', '1', '1'],\n",
       "  'deprel': ['root', 'case', 'nmod', 'punct'],\n",
       "  'deps': ['None', 'None', 'None', 'None'],\n",
       "  'misc': [\"{'Discourse': 'preparation:41->49', 'Entity': '(abstract-82'}\",\n",
       "   'None',\n",
       "   \"{'Entity': '(abstract-2)abstract-82)', 'SpaceAfter': 'No'}\",\n",
       "   'None']},\n",
       " {'idx': 'GUM_academic_discrimination-22',\n",
       "  'text': 'race / ancestry / skin color;',\n",
       "  'tokens': ['race', '/', 'ancestry', '/', 'skin', 'color', ';'],\n",
       "  'lemmas': ['race', '/', 'ancestry', '/', 'skin', 'color', ';'],\n",
       "  'upos': [0, 4, 0, 4, 0, 0, 1],\n",
       "  'xpos': ['NN', 'SYM', 'NN', 'SYM', 'NN', 'NN', ':'],\n",
       "  'feats': [\"{'Number': 'Sing'}\",\n",
       "   'None',\n",
       "   \"{'Number': 'Sing'}\",\n",
       "   'None',\n",
       "   \"{'Number': 'Sing'}\",\n",
       "   \"{'Number': 'Sing'}\",\n",
       "   'None'],\n",
       "  'head': ['0', '3', '1', '6', '6', '1', '1'],\n",
       "  'deprel': ['root', 'cc', 'conj', 'cc', 'compound', 'conj', 'punct'],\n",
       "  'deps': ['None', 'None', 'None', 'None', 'None', 'None', 'None'],\n",
       "  'misc': [\"{'Discourse': 'elaboration:53->52', 'Entity': '(abstract-92)'}\",\n",
       "   'None',\n",
       "   \"{'Entity': '(abstract-93)'}\",\n",
       "   'None',\n",
       "   \"{'Entity': '(abstract-94(object-95)'}\",\n",
       "   \"{'Entity': 'abstract-94)', 'SpaceAfter': 'No'}\",\n",
       "   'None']}]"
      ]
     },
     "execution_count": 5,
     "metadata": {},
     "output_type": "execute_result"
    }
   ],
   "source": [
    "val_short_data[:4]"
   ]
  },
  {
   "cell_type": "code",
   "execution_count": 6,
   "metadata": {
    "colab": {
     "base_uri": "https://localhost:8080/"
    },
    "executionInfo": {
     "elapsed": 630,
     "status": "ok",
     "timestamp": 1660223150245,
     "user": {
      "displayName": "Benjamin Dayan",
      "userId": "11817114914797936108"
     },
     "user_tz": -120
    },
    "id": "pSBDAjnF7btV",
    "outputId": "52439b74-8110-4592-98ec-c30df531df63"
   },
   "outputs": [
    {
     "data": {
      "text/plain": [
       "['race', '/', 'ancestry', '/', 'skin', 'color', ';']"
      ]
     },
     "execution_count": 6,
     "metadata": {},
     "output_type": "execute_result"
    },
    {
     "data": {
      "text/plain": [
       "array([-1,  2,  0,  1,  6,  6,  1,  1])"
      ]
     },
     "execution_count": 6,
     "metadata": {},
     "output_type": "execute_result"
    },
    {
     "data": {
      "text/plain": [
       "['0', '3', '1', '6', '6', '1', '1']"
      ]
     },
     "execution_count": 6,
     "metadata": {},
     "output_type": "execute_result"
    },
    {
     "data": {
      "text/plain": [
       "False"
      ]
     },
     "execution_count": 6,
     "metadata": {},
     "output_type": "execute_result"
    }
   ],
   "source": [
    "input_data = val_short_data[:4]\n",
    "sentences_embedding, sentences_word_embeddings, targets = get_embeddings(input_data, tokenizer, model)\n",
    "i = 3\n",
    "word_embeddings, sentence_embedding, target = sentences_word_embeddings[i], sentences_embedding[i], targets[i]\n",
    "\n",
    "\n",
    "\n",
    "loss, pred, constr, mst_prob, mst_neg_log_prob, target_prob, target_neg_log_probs = train_on_sentence(word_embeddings, sentence_embedding, target, scorer)\n",
    "\n",
    "input_data[i]['tokens']\n",
    "constr\n",
    "input_data[i]['head']\n",
    "\n",
    "target_np = target.detach().cpu().numpy()\n",
    "np.all(target_np == constr[1:])"
   ]
  },
  {
   "cell_type": "code",
   "execution_count": 7,
   "metadata": {
    "colab": {
     "base_uri": "https://localhost:8080/",
     "height": 833
    },
    "executionInfo": {
     "elapsed": 378,
     "status": "ok",
     "timestamp": 1660223150620,
     "user": {
      "displayName": "Benjamin Dayan",
      "userId": "11817114914797936108"
     },
     "user_tz": -120
    },
    "id": "er-36XfD7cTp",
    "outputId": "7192b315-ed0b-40a7-8cc8-d32cbddf110e"
   },
   "outputs": [
    {
     "name": "stdout",
     "output_type": "stream",
     "text": [
      "['race', '/', 'ancestry', '/', 'skin', 'color', ';']\n"
     ]
    },
    {
     "data": {
      "image/svg+xml": [
       "<?xml version=\"1.0\" encoding=\"UTF-8\" standalone=\"no\"?>\n",
       "<!DOCTYPE svg PUBLIC \"-//W3C//DTD SVG 1.1//EN\"\n",
       " \"http://www.w3.org/Graphics/SVG/1.1/DTD/svg11.dtd\">\n",
       "<!-- Generated by graphviz version 4.0.0 (20220529.0937)\n",
       " -->\n",
       "<!-- Pages: 1 -->\n",
       "<svg width=\"276pt\" height=\"332pt\"\n",
       " viewBox=\"0.00 0.00 276.05 332.00\" xmlns=\"http://www.w3.org/2000/svg\" xmlns:xlink=\"http://www.w3.org/1999/xlink\">\n",
       "<g id=\"graph0\" class=\"graph\" transform=\"scale(1 1) rotate(0) translate(4 328)\">\n",
       "<polygon fill=\"white\" stroke=\"transparent\" points=\"-4,4 -4,-328 272.05,-328 272.05,4 -4,4\"/>\n",
       "<!-- q0 -->\n",
       "<g id=\"node1\" class=\"node\">\n",
       "<title>q0</title>\n",
       "<ellipse fill=\"none\" stroke=\"black\" cx=\"157.05\" cy=\"-306\" rx=\"35.19\" ry=\"18\"/>\n",
       "<text text-anchor=\"middle\" x=\"157.05\" y=\"-302.3\" font-family=\"Times New Roman,serif\" font-size=\"14.00\">0_root</text>\n",
       "</g>\n",
       "<!-- q2 -->\n",
       "<g id=\"node3\" class=\"node\">\n",
       "<title>q2</title>\n",
       "<ellipse fill=\"none\" stroke=\"black\" cx=\"157.05\" cy=\"-234\" rx=\"27\" ry=\"18\"/>\n",
       "<text text-anchor=\"middle\" x=\"157.05\" y=\"-230.3\" font-family=\"Times New Roman,serif\" font-size=\"14.00\">2_/</text>\n",
       "</g>\n",
       "<!-- q0&#45;&gt;q2 -->\n",
       "<g id=\"edge2\" class=\"edge\">\n",
       "<title>q0&#45;&gt;q2</title>\n",
       "<path fill=\"none\" stroke=\"black\" d=\"M157.05,-287.7C157.05,-279.98 157.05,-270.71 157.05,-262.11\"/>\n",
       "<polygon fill=\"black\" stroke=\"black\" points=\"160.55,-262.1 157.05,-252.1 153.55,-262.1 160.55,-262.1\"/>\n",
       "</g>\n",
       "<!-- q1 -->\n",
       "<g id=\"node2\" class=\"node\">\n",
       "<title>q1</title>\n",
       "<ellipse fill=\"none\" stroke=\"black\" cx=\"157.05\" cy=\"-162\" rx=\"35.19\" ry=\"18\"/>\n",
       "<text text-anchor=\"middle\" x=\"157.05\" y=\"-158.3\" font-family=\"Times New Roman,serif\" font-size=\"14.00\">1_race</text>\n",
       "</g>\n",
       "<!-- q3 -->\n",
       "<g id=\"node4\" class=\"node\">\n",
       "<title>q3</title>\n",
       "<ellipse fill=\"none\" stroke=\"black\" cx=\"50.05\" cy=\"-90\" rx=\"50.09\" ry=\"18\"/>\n",
       "<text text-anchor=\"middle\" x=\"50.05\" y=\"-86.3\" font-family=\"Times New Roman,serif\" font-size=\"14.00\">3_ancestry</text>\n",
       "</g>\n",
       "<!-- q1&#45;&gt;q3 -->\n",
       "<g id=\"edge3\" class=\"edge\">\n",
       "<title>q1&#45;&gt;q3</title>\n",
       "<path fill=\"none\" stroke=\"black\" d=\"M136.16,-147.34C120.73,-137.24 99.44,-123.31 81.89,-111.83\"/>\n",
       "<polygon fill=\"black\" stroke=\"black\" points=\"83.39,-108.63 73.1,-106.08 79.56,-114.49 83.39,-108.63\"/>\n",
       "</g>\n",
       "<!-- q6 -->\n",
       "<g id=\"node7\" class=\"node\">\n",
       "<title>q6</title>\n",
       "<ellipse fill=\"none\" stroke=\"black\" cx=\"157.05\" cy=\"-90\" rx=\"38.99\" ry=\"18\"/>\n",
       "<text text-anchor=\"middle\" x=\"157.05\" y=\"-86.3\" font-family=\"Times New Roman,serif\" font-size=\"14.00\">6_color</text>\n",
       "</g>\n",
       "<!-- q1&#45;&gt;q6 -->\n",
       "<g id=\"edge6\" class=\"edge\">\n",
       "<title>q1&#45;&gt;q6</title>\n",
       "<path fill=\"none\" stroke=\"black\" d=\"M157.05,-143.7C157.05,-135.98 157.05,-126.71 157.05,-118.11\"/>\n",
       "<polygon fill=\"black\" stroke=\"black\" points=\"160.55,-118.1 157.05,-108.1 153.55,-118.1 160.55,-118.1\"/>\n",
       "</g>\n",
       "<!-- q7 -->\n",
       "<g id=\"node8\" class=\"node\">\n",
       "<title>q7</title>\n",
       "<ellipse fill=\"none\" stroke=\"black\" cx=\"241.05\" cy=\"-90\" rx=\"27\" ry=\"18\"/>\n",
       "<text text-anchor=\"middle\" x=\"241.05\" y=\"-86.3\" font-family=\"Times New Roman,serif\" font-size=\"14.00\">7_;</text>\n",
       "</g>\n",
       "<!-- q1&#45;&gt;q7 -->\n",
       "<g id=\"edge7\" class=\"edge\">\n",
       "<title>q1&#45;&gt;q7</title>\n",
       "<path fill=\"none\" stroke=\"black\" d=\"M174.86,-146.15C187.06,-135.98 203.4,-122.37 216.79,-111.21\"/>\n",
       "<polygon fill=\"black\" stroke=\"black\" points=\"219.24,-113.73 224.68,-104.64 214.76,-108.35 219.24,-113.73\"/>\n",
       "</g>\n",
       "<!-- q2&#45;&gt;q1 -->\n",
       "<g id=\"edge1\" class=\"edge\">\n",
       "<title>q2&#45;&gt;q1</title>\n",
       "<path fill=\"none\" stroke=\"black\" d=\"M157.05,-215.7C157.05,-207.98 157.05,-198.71 157.05,-190.11\"/>\n",
       "<polygon fill=\"black\" stroke=\"black\" points=\"160.55,-190.1 157.05,-180.1 153.55,-190.1 160.55,-190.1\"/>\n",
       "</g>\n",
       "<!-- q4 -->\n",
       "<g id=\"node5\" class=\"node\">\n",
       "<title>q4</title>\n",
       "<ellipse fill=\"none\" stroke=\"black\" cx=\"117.05\" cy=\"-18\" rx=\"27\" ry=\"18\"/>\n",
       "<text text-anchor=\"middle\" x=\"117.05\" y=\"-14.3\" font-family=\"Times New Roman,serif\" font-size=\"14.00\">4_/</text>\n",
       "</g>\n",
       "<!-- q5 -->\n",
       "<g id=\"node6\" class=\"node\">\n",
       "<title>q5</title>\n",
       "<ellipse fill=\"none\" stroke=\"black\" cx=\"196.05\" cy=\"-18\" rx=\"34.39\" ry=\"18\"/>\n",
       "<text text-anchor=\"middle\" x=\"196.05\" y=\"-14.3\" font-family=\"Times New Roman,serif\" font-size=\"14.00\">5_skin</text>\n",
       "</g>\n",
       "<!-- q6&#45;&gt;q4 -->\n",
       "<g id=\"edge4\" class=\"edge\">\n",
       "<title>q6&#45;&gt;q4</title>\n",
       "<path fill=\"none\" stroke=\"black\" d=\"M147.57,-72.41C142.71,-63.92 136.71,-53.41 131.31,-43.96\"/>\n",
       "<polygon fill=\"black\" stroke=\"black\" points=\"134.18,-41.93 126.18,-34.99 128.1,-45.41 134.18,-41.93\"/>\n",
       "</g>\n",
       "<!-- q6&#45;&gt;q5 -->\n",
       "<g id=\"edge5\" class=\"edge\">\n",
       "<title>q6&#45;&gt;q5</title>\n",
       "<path fill=\"none\" stroke=\"black\" d=\"M166.29,-72.41C170.95,-64.04 176.71,-53.71 181.91,-44.37\"/>\n",
       "<polygon fill=\"black\" stroke=\"black\" points=\"185.06,-45.91 186.87,-35.47 178.94,-42.5 185.06,-45.91\"/>\n",
       "</g>\n",
       "</g>\n",
       "</svg>\n"
      ],
      "text/plain": [
       "<graphviz.graphs.Digraph at 0x1ac3afe8f10>"
      ]
     },
     "execution_count": 7,
     "metadata": {},
     "output_type": "execute_result"
    },
    {
     "data": {
      "image/svg+xml": [
       "<?xml version=\"1.0\" encoding=\"UTF-8\" standalone=\"no\"?>\n",
       "<!DOCTYPE svg PUBLIC \"-//W3C//DTD SVG 1.1//EN\"\n",
       " \"http://www.w3.org/Graphics/SVG/1.1/DTD/svg11.dtd\">\n",
       "<!-- Generated by graphviz version 4.0.0 (20220529.0937)\n",
       " -->\n",
       "<!-- Pages: 1 -->\n",
       "<svg width=\"276pt\" height=\"260pt\"\n",
       " viewBox=\"0.00 0.00 276.05 260.00\" xmlns=\"http://www.w3.org/2000/svg\" xmlns:xlink=\"http://www.w3.org/1999/xlink\">\n",
       "<g id=\"graph0\" class=\"graph\" transform=\"scale(1 1) rotate(0) translate(4 256)\">\n",
       "<polygon fill=\"white\" stroke=\"transparent\" points=\"-4,4 -4,-256 272.05,-256 272.05,4 -4,4\"/>\n",
       "<!-- q0 -->\n",
       "<g id=\"node1\" class=\"node\">\n",
       "<title>q0</title>\n",
       "<ellipse fill=\"none\" stroke=\"black\" cx=\"157.05\" cy=\"-234\" rx=\"35.19\" ry=\"18\"/>\n",
       "<text text-anchor=\"middle\" x=\"157.05\" y=\"-230.3\" font-family=\"Times New Roman,serif\" font-size=\"14.00\">0_root</text>\n",
       "</g>\n",
       "<!-- q1 -->\n",
       "<g id=\"node2\" class=\"node\">\n",
       "<title>q1</title>\n",
       "<ellipse fill=\"none\" stroke=\"black\" cx=\"157.05\" cy=\"-162\" rx=\"35.19\" ry=\"18\"/>\n",
       "<text text-anchor=\"middle\" x=\"157.05\" y=\"-158.3\" font-family=\"Times New Roman,serif\" font-size=\"14.00\">1_race</text>\n",
       "</g>\n",
       "<!-- q0&#45;&gt;q1 -->\n",
       "<g id=\"edge1\" class=\"edge\">\n",
       "<title>q0&#45;&gt;q1</title>\n",
       "<path fill=\"none\" stroke=\"black\" d=\"M157.05,-215.7C157.05,-207.98 157.05,-198.71 157.05,-190.11\"/>\n",
       "<polygon fill=\"black\" stroke=\"black\" points=\"160.55,-190.1 157.05,-180.1 153.55,-190.1 160.55,-190.1\"/>\n",
       "</g>\n",
       "<!-- q3 -->\n",
       "<g id=\"node4\" class=\"node\">\n",
       "<title>q3</title>\n",
       "<ellipse fill=\"none\" stroke=\"black\" cx=\"50.05\" cy=\"-90\" rx=\"50.09\" ry=\"18\"/>\n",
       "<text text-anchor=\"middle\" x=\"50.05\" y=\"-86.3\" font-family=\"Times New Roman,serif\" font-size=\"14.00\">3_ancestry</text>\n",
       "</g>\n",
       "<!-- q1&#45;&gt;q3 -->\n",
       "<g id=\"edge3\" class=\"edge\">\n",
       "<title>q1&#45;&gt;q3</title>\n",
       "<path fill=\"none\" stroke=\"black\" d=\"M136.16,-147.34C120.73,-137.24 99.44,-123.31 81.89,-111.83\"/>\n",
       "<polygon fill=\"black\" stroke=\"black\" points=\"83.39,-108.63 73.1,-106.08 79.56,-114.49 83.39,-108.63\"/>\n",
       "</g>\n",
       "<!-- q6 -->\n",
       "<g id=\"node7\" class=\"node\">\n",
       "<title>q6</title>\n",
       "<ellipse fill=\"none\" stroke=\"black\" cx=\"157.05\" cy=\"-90\" rx=\"38.99\" ry=\"18\"/>\n",
       "<text text-anchor=\"middle\" x=\"157.05\" y=\"-86.3\" font-family=\"Times New Roman,serif\" font-size=\"14.00\">6_color</text>\n",
       "</g>\n",
       "<!-- q1&#45;&gt;q6 -->\n",
       "<g id=\"edge6\" class=\"edge\">\n",
       "<title>q1&#45;&gt;q6</title>\n",
       "<path fill=\"none\" stroke=\"black\" d=\"M157.05,-143.7C157.05,-135.98 157.05,-126.71 157.05,-118.11\"/>\n",
       "<polygon fill=\"black\" stroke=\"black\" points=\"160.55,-118.1 157.05,-108.1 153.55,-118.1 160.55,-118.1\"/>\n",
       "</g>\n",
       "<!-- q7 -->\n",
       "<g id=\"node8\" class=\"node\">\n",
       "<title>q7</title>\n",
       "<ellipse fill=\"none\" stroke=\"black\" cx=\"241.05\" cy=\"-90\" rx=\"27\" ry=\"18\"/>\n",
       "<text text-anchor=\"middle\" x=\"241.05\" y=\"-86.3\" font-family=\"Times New Roman,serif\" font-size=\"14.00\">7_;</text>\n",
       "</g>\n",
       "<!-- q1&#45;&gt;q7 -->\n",
       "<g id=\"edge7\" class=\"edge\">\n",
       "<title>q1&#45;&gt;q7</title>\n",
       "<path fill=\"none\" stroke=\"black\" d=\"M174.86,-146.15C187.06,-135.98 203.4,-122.37 216.79,-111.21\"/>\n",
       "<polygon fill=\"black\" stroke=\"black\" points=\"219.24,-113.73 224.68,-104.64 214.76,-108.35 219.24,-113.73\"/>\n",
       "</g>\n",
       "<!-- q2 -->\n",
       "<g id=\"node3\" class=\"node\">\n",
       "<title>q2</title>\n",
       "<ellipse fill=\"none\" stroke=\"black\" cx=\"50.05\" cy=\"-18\" rx=\"27\" ry=\"18\"/>\n",
       "<text text-anchor=\"middle\" x=\"50.05\" y=\"-14.3\" font-family=\"Times New Roman,serif\" font-size=\"14.00\">2_/</text>\n",
       "</g>\n",
       "<!-- q3&#45;&gt;q2 -->\n",
       "<g id=\"edge2\" class=\"edge\">\n",
       "<title>q3&#45;&gt;q2</title>\n",
       "<path fill=\"none\" stroke=\"black\" d=\"M50.05,-71.7C50.05,-63.98 50.05,-54.71 50.05,-46.11\"/>\n",
       "<polygon fill=\"black\" stroke=\"black\" points=\"53.55,-46.1 50.05,-36.1 46.55,-46.1 53.55,-46.1\"/>\n",
       "</g>\n",
       "<!-- q4 -->\n",
       "<g id=\"node5\" class=\"node\">\n",
       "<title>q4</title>\n",
       "<ellipse fill=\"none\" stroke=\"black\" cx=\"139.05\" cy=\"-18\" rx=\"27\" ry=\"18\"/>\n",
       "<text text-anchor=\"middle\" x=\"139.05\" y=\"-14.3\" font-family=\"Times New Roman,serif\" font-size=\"14.00\">4_/</text>\n",
       "</g>\n",
       "<!-- q5 -->\n",
       "<g id=\"node6\" class=\"node\">\n",
       "<title>q5</title>\n",
       "<ellipse fill=\"none\" stroke=\"black\" cx=\"218.05\" cy=\"-18\" rx=\"34.39\" ry=\"18\"/>\n",
       "<text text-anchor=\"middle\" x=\"218.05\" y=\"-14.3\" font-family=\"Times New Roman,serif\" font-size=\"14.00\">5_skin</text>\n",
       "</g>\n",
       "<!-- q6&#45;&gt;q4 -->\n",
       "<g id=\"edge4\" class=\"edge\">\n",
       "<title>q6&#45;&gt;q4</title>\n",
       "<path fill=\"none\" stroke=\"black\" d=\"M152.69,-72.05C150.65,-64.14 148.18,-54.54 145.91,-45.69\"/>\n",
       "<polygon fill=\"black\" stroke=\"black\" points=\"149.24,-44.6 143.36,-35.79 142.46,-46.35 149.24,-44.6\"/>\n",
       "</g>\n",
       "<!-- q6&#45;&gt;q5 -->\n",
       "<g id=\"edge5\" class=\"edge\">\n",
       "<title>q6&#45;&gt;q5</title>\n",
       "<path fill=\"none\" stroke=\"black\" d=\"M170.89,-73.12C178.76,-64.08 188.78,-52.58 197.55,-42.52\"/>\n",
       "<polygon fill=\"black\" stroke=\"black\" points=\"200.33,-44.66 204.26,-34.82 195.05,-40.06 200.33,-44.66\"/>\n",
       "</g>\n",
       "</g>\n",
       "</svg>\n"
      ],
      "text/plain": [
       "<graphviz.graphs.Digraph at 0x1ac3afe8fa0>"
      ]
     },
     "execution_count": 7,
     "metadata": {},
     "output_type": "execute_result"
    }
   ],
   "source": [
    "import graphviz\n",
    "\n",
    "def get_graphviz(tokens, dep_to_head):\n",
    "  G = graphviz.Digraph()\n",
    "  tokens = ['root'] + tokens\n",
    "  # print(tokens)\n",
    "  for i, token in enumerate(tokens):\n",
    "    G.node('q' + str(i), str(i) + '_' + token)\n",
    "\n",
    "  for dep_i, head_i in enumerate(dep_to_head):\n",
    "    h, d = tokens[head_i], tokens[dep_i + 1]\n",
    "    # print(h, d)\n",
    "    G.edge('q' + str(head_i), 'q' + str(dep_i + 1))\n",
    "  return G\n",
    "\n",
    "G1 = get_graphviz(input_data[i]['tokens'], constr[1:])\n",
    "print(input_data[i]['tokens'])\n",
    "G2 = get_graphviz(input_data[i]['tokens'], list(target.detach().numpy()))\n",
    "G1\n",
    "G2"
   ]
  },
  {
   "cell_type": "markdown",
   "metadata": {},
   "source": [
    "## Automata Constraints"
   ]
  },
  {
   "cell_type": "code",
   "execution_count": 8,
   "metadata": {},
   "outputs": [],
   "source": [
    "from rayuela.base.semiring import Boolean\n",
    "from rayuela.base.symbol import Sym, ε\n",
    "from rayuela.fsa.fsa import FSA\n",
    "from rayuela.fsa.state import State"
   ]
  },
  {
   "cell_type": "code",
   "execution_count": 9,
   "metadata": {},
   "outputs": [],
   "source": [
    "def charify(inp_number: int) -> chr:\n",
    "    \"\"\"Converts a number (potentially represented by two characters) into a char for easy fsa reading\n",
    "    \"\"\"\n",
    "    return chr(ord('A')+ inp_number)"
   ]
  },
  {
   "cell_type": "code",
   "execution_count": 10,
   "metadata": {},
   "outputs": [],
   "source": [
    "def one_root_FSA():\n",
    "    fsa = FSA(Boolean)\n",
    "    space = \" \"\n",
    "    nl = \"\\n\"\n",
    "    alphabet = [charify(x) for x in range(-1, length_sequence+1)]\n",
    "    alphabet.extend([\"(\", \",\", \")\"])\n",
    "\n",
    "    fsa.set_I(State(0))\n",
    "    for c in alphabet:\n",
    "        if c != charify(0):\n",
    "            fsa.add_arc(State(0), Sym(c), State(0))\n",
    "            fsa.add_arc(State(1), Sym(c), State(1))\n",
    "            fsa.add_arc(State(2), Sym(c), State(2))\n",
    "        else:\n",
    "            fsa.add_arc(State(0), Sym(c), State(1))\n",
    "            fsa.add_arc(State(1), Sym(c), State(2))\n",
    "            fsa.add_arc(State(2), Sym(c), State(2))\n",
    "    fsa.set_F(State(0))\n",
    "    fsa.set_F(State(1))\n",
    "    return fsa\n",
    "\n",
    "def no_cycle_FSA(checked_ind):\n",
    "    fsa = FSA(Boolean)\n",
    "    space = \" \"\n",
    "    nl = \"\\n\"\n",
    "    alphabet = [charify(x) for x in range(-1, length_sequence+1)]\n",
    "    alphabet.extend([\"(\", \",\", \")\"])\n",
    "\n",
    "    fsa.set_I(State(0))\n",
    "    for c in alphabet:\n",
    "        if c == \"(\":\n",
    "            fsa.add_arc(State(0), Sym(c), State(1))\n",
    "            fsa.add_arc(State(1), Sym(c), State(0))\n",
    "            fsa.add_arc(State(2), Sym(c), State(2))\n",
    "            fsa.add_arc(State(3), Sym(c), State(2))\n",
    "        elif c == checked_ind:\n",
    "            fsa.add_arc(State(0), Sym(c), State(0))\n",
    "            fsa.add_arc(State(1), Sym(c), State(2))\n",
    "            fsa.add_arc(State(2), Sym(c), State(2))\n",
    "            fsa.add_arc(State(3), Sym(c), State(4))\n",
    "        elif c == \",\":\n",
    "            fsa.add_arc(State(0), Sym(c), State(0))\n",
    "            fsa.add_arc(State(1), Sym(c), State(0))\n",
    "            fsa.add_arc(State(2), Sym(c), State(3))\n",
    "            fsa.add_arc(State(3), Sym(c), State(2))\n",
    "        else:\n",
    "            fsa.add_arc(State(0), Sym(c), State(0))\n",
    "            fsa.add_arc(State(1), Sym(c), State(0))\n",
    "            fsa.add_arc(State(2), Sym(c), State(2))\n",
    "            fsa.add_arc(State(3), Sym(c), State(2))\n",
    "    fsa.set_F(State(0))\n",
    "    fsa.set_F(State(1))\n",
    "    fsa.set_F(State(2))\n",
    "    fsa.set_F(State(3))\n",
    "    return fsa"
   ]
  },
  {
   "cell_type": "code",
   "execution_count": 11,
   "metadata": {},
   "outputs": [
    {
     "data": {
      "text/html": [
       "\n",
       "\t\t<script>\n",
       "\t\ttry {\n",
       "\t\trequire.config({\n",
       "\t\tpaths: {\n",
       "\t\t\"d3\": \"https://cdnjs.cloudflare.com/ajax/libs/d3/4.13.0/d3\",\n",
       "\t\t\"dagreD3\": \"https://cdnjs.cloudflare.com/ajax/libs/dagre-d3/0.6.1/dagre-d3.min\"\n",
       "\t\t}\n",
       "\t\t});\n",
       "\t\t} catch {\n",
       "\t\t[\"https://cdnjs.cloudflare.com/ajax/libs/d3/4.13.0/d3.js\",\n",
       "\t\t\"https://cdnjs.cloudflare.com/ajax/libs/dagre-d3/0.6.1/dagre-d3.min.js\"].forEach(function (src) {\n",
       "\t\t\tvar tag = document.createElement('script');\n",
       "\t\t\ttag.src = src;\n",
       "\t\t\tdocument.body.appendChild(tag);\n",
       "\t\t})\n",
       "\t\t}\n",
       "\t\ttry {\n",
       "\t\trequirejs(['d3', 'dagreD3'], function() {});\n",
       "\t\t} catch (e) {}\n",
       "\t\ttry {\n",
       "\t\trequire(['d3', 'dagreD3'], function() {});\n",
       "\t\t} catch (e) {}\n",
       "\t\t</script>\n",
       "\t\t<style>\n",
       "\t\t.node rect,\n",
       "\t\t.node circle,\n",
       "\t\t.node ellipse {\n",
       "\t\tstroke: #333;\n",
       "\t\tfill: #fff;\n",
       "\t\tstroke-width: 1px;\n",
       "\t\t}\n",
       "\n",
       "\t\t.edgePath path {\n",
       "\t\tstroke: #333;\n",
       "\t\tfill: #333;\n",
       "\t\tstroke-width: 1.5px;\n",
       "\t\t}\n",
       "\t\t</style>\n",
       "\t\t<center><svg width=\"850\" height=\"600\" id=\"fst_0b7a0617dd894125b5fcda46101be109\"><g/></svg></center>\n",
       "\t\t<script>\n",
       "\t\t(function render_d3() {\n",
       "\t\tvar d3, dagreD3;\n",
       "\t\ttry { // requirejs is broken on external domains\n",
       "\t\td3 = require('d3');\n",
       "\t\tdagreD3 = require('dagreD3');\n",
       "\t\t} catch (e) {\n",
       "\t\t// for google colab\n",
       "\t\tif(typeof window.d3 !== \"undefined\" && typeof window.dagreD3 !== \"undefined\") {\n",
       "\t\t\td3 = window.d3;\n",
       "\t\t\tdagreD3 = window.dagreD3;\n",
       "\t\t} else { // not loaded yet, so wait and try again\n",
       "\t\t\tsetTimeout(render_d3, 50);\n",
       "\t\t\treturn;\n",
       "\t\t}\n",
       "\t\t}\n",
       "\t\t//alert(\"loaded\");\n",
       "\t\tvar g = new dagreD3.graphlib.Graph().setGraph({ 'rankdir': 'LR' });\n",
       "\t\tg.setNode(\"0\", { label: \"0 / [True / True]\" , shape: \"circle\" });\n",
       "g.node(\"0\").style = \"fill: #af8dc3\"; \n",
       "g.setNode(\"2\", { label: \"2\" , shape: \"circle\" });\n",
       "g.node(\"2\").style = \"fill: #8da0cb\"; \n",
       "g.setNode(\"1\", { label: \"1 / True\" , shape: \"circle\" });\n",
       "g.node(\"1\").style = \"fill: #fc8d62\"; \n",
       "g.setEdge(\"0\", \"0\", { arrowhead: \"vee\", label: \"@ / True\\nB / True\\nC / True\\n. . .\" });\n",
       "g.setEdge(\"0\", \"1\", { arrowhead: \"vee\", label: \"A / True\" });\n",
       "g.setEdge(\"1\", \"1\", { arrowhead: \"vee\", label: \"@ / True\\nB / True\\nC / True\\n. . .\" });\n",
       "g.setEdge(\"1\", \"2\", { arrowhead: \"vee\", label: \"A / True\" });\n",
       "g.setEdge(\"2\", \"2\", { arrowhead: \"vee\", label: \"@ / True\\nA / True\\nB / True\\n. . .\" });\n",
       "var svg = d3.select(\"#fst_0b7a0617dd894125b5fcda46101be109\"); \n",
       "\n",
       "\t\tvar inner = svg.select(\"g\");\n",
       "\n",
       "\t\t// Set up zoom support\n",
       "\t\tvar zoom = d3.zoom().scaleExtent([0.3, 5]).on(\"zoom\", function() {\n",
       "\t\tinner.attr(\"transform\", d3.event.transform);\n",
       "\t\t});\n",
       "\t\tsvg.call(zoom);\n",
       "\n",
       "\t\t// Create the renderer\n",
       "\t\tvar render = new dagreD3.render();\n",
       "\n",
       "\t\t// Run the renderer. This is what draws the final graph.\n",
       "\t\trender(inner, g);\n",
       "\n",
       "\t\t// Center the graph\n",
       "\t\tvar initialScale = 0.75;\n",
       "\t\tsvg.call(zoom.transform, d3.zoomIdentity.translate(\n",
       "\t\t\t(svg.attr(\"width\") - g.graph().width * initialScale) / 2, 20).scale(initialScale));\n",
       "\n",
       "\t\tsvg.attr('height', g.graph().height * initialScale + 50);\n",
       "\t\t})();\n",
       "\n",
       "\t\t</script>\n",
       "\t\t"
      ],
      "text/plain": [
       "WFSA(3 states, <class 'rayuela.base.semiring.Boolean'>)"
      ]
     },
     "execution_count": 11,
     "metadata": {},
     "output_type": "execute_result"
    }
   ],
   "source": [
    "one_root_FSA()"
   ]
  },
  {
   "cell_type": "code",
   "execution_count": 12,
   "metadata": {},
   "outputs": [
    {
     "data": {
      "text/html": [
       "\n",
       "\t\t<script>\n",
       "\t\ttry {\n",
       "\t\trequire.config({\n",
       "\t\tpaths: {\n",
       "\t\t\"d3\": \"https://cdnjs.cloudflare.com/ajax/libs/d3/4.13.0/d3\",\n",
       "\t\t\"dagreD3\": \"https://cdnjs.cloudflare.com/ajax/libs/dagre-d3/0.6.1/dagre-d3.min\"\n",
       "\t\t}\n",
       "\t\t});\n",
       "\t\t} catch {\n",
       "\t\t[\"https://cdnjs.cloudflare.com/ajax/libs/d3/4.13.0/d3.js\",\n",
       "\t\t\"https://cdnjs.cloudflare.com/ajax/libs/dagre-d3/0.6.1/dagre-d3.min.js\"].forEach(function (src) {\n",
       "\t\t\tvar tag = document.createElement('script');\n",
       "\t\t\ttag.src = src;\n",
       "\t\t\tdocument.body.appendChild(tag);\n",
       "\t\t})\n",
       "\t\t}\n",
       "\t\ttry {\n",
       "\t\trequirejs(['d3', 'dagreD3'], function() {});\n",
       "\t\t} catch (e) {}\n",
       "\t\ttry {\n",
       "\t\trequire(['d3', 'dagreD3'], function() {});\n",
       "\t\t} catch (e) {}\n",
       "\t\t</script>\n",
       "\t\t<style>\n",
       "\t\t.node rect,\n",
       "\t\t.node circle,\n",
       "\t\t.node ellipse {\n",
       "\t\tstroke: #333;\n",
       "\t\tfill: #fff;\n",
       "\t\tstroke-width: 1px;\n",
       "\t\t}\n",
       "\n",
       "\t\t.edgePath path {\n",
       "\t\tstroke: #333;\n",
       "\t\tfill: #333;\n",
       "\t\tstroke-width: 1.5px;\n",
       "\t\t}\n",
       "\t\t</style>\n",
       "\t\t<center><svg width=\"850\" height=\"600\" id=\"fst_1195d89cfa804d51a7d174db2679ca58\"><g/></svg></center>\n",
       "\t\t<script>\n",
       "\t\t(function render_d3() {\n",
       "\t\tvar d3, dagreD3;\n",
       "\t\ttry { // requirejs is broken on external domains\n",
       "\t\td3 = require('d3');\n",
       "\t\tdagreD3 = require('dagreD3');\n",
       "\t\t} catch (e) {\n",
       "\t\t// for google colab\n",
       "\t\tif(typeof window.d3 !== \"undefined\" && typeof window.dagreD3 !== \"undefined\") {\n",
       "\t\t\td3 = window.d3;\n",
       "\t\t\tdagreD3 = window.dagreD3;\n",
       "\t\t} else { // not loaded yet, so wait and try again\n",
       "\t\t\tsetTimeout(render_d3, 50);\n",
       "\t\t\treturn;\n",
       "\t\t}\n",
       "\t\t}\n",
       "\t\t//alert(\"loaded\");\n",
       "\t\tvar g = new dagreD3.graphlib.Graph().setGraph({ 'rankdir': 'LR' });\n",
       "\t\tg.setNode(\"0\", { label: \"0 / [True / True]\" , shape: \"circle\" });\n",
       "g.node(\"0\").style = \"fill: #af8dc3\"; \n",
       "g.setNode(\"4\", { label: \"4\" , shape: \"circle\" });\n",
       "g.node(\"4\").style = \"fill: #8da0cb\"; \n",
       "g.setNode(\"1\", { label: \"1 / True\" , shape: \"circle\" });\n",
       "g.node(\"1\").style = \"fill: #fc8d62\"; \n",
       "g.setNode(\"2\", { label: \"2 / True\" , shape: \"circle\" });\n",
       "g.node(\"2\").style = \"fill: #fc8d62\"; \n",
       "g.setNode(\"3\", { label: \"3 / True\" , shape: \"circle\" });\n",
       "g.node(\"3\").style = \"fill: #fc8d62\"; \n",
       "g.setEdge(\"0\", \"0\", { arrowhead: \"vee\", label: \"@ / True\\nA / True\\nB / True\\n. . .\" });\n",
       "g.setEdge(\"0\", \"1\", { arrowhead: \"vee\", label: \"( / True\" });\n",
       "g.setEdge(\"1\", \"0\", { arrowhead: \"vee\", label: \"@ / True\\nA / True\\nB / True\\n. . .\" });\n",
       "g.setEdge(\"1\", \"2\", { arrowhead: \"vee\", label: \"K / True\" });\n",
       "g.setEdge(\"2\", \"2\", { arrowhead: \"vee\", label: \"@ / True\\nA / True\\nB / True\\n. . .\" });\n",
       "g.setEdge(\"2\", \"3\", { arrowhead: \"vee\", label: \", / True\" });\n",
       "g.setEdge(\"3\", \"2\", { arrowhead: \"vee\", label: \"@ / True\\nA / True\\nB / True\\n. . .\" });\n",
       "g.setEdge(\"3\", \"4\", { arrowhead: \"vee\", label: \"K / True\" });\n",
       "var svg = d3.select(\"#fst_1195d89cfa804d51a7d174db2679ca58\"); \n",
       "\n",
       "\t\tvar inner = svg.select(\"g\");\n",
       "\n",
       "\t\t// Set up zoom support\n",
       "\t\tvar zoom = d3.zoom().scaleExtent([0.3, 5]).on(\"zoom\", function() {\n",
       "\t\tinner.attr(\"transform\", d3.event.transform);\n",
       "\t\t});\n",
       "\t\tsvg.call(zoom);\n",
       "\n",
       "\t\t// Create the renderer\n",
       "\t\tvar render = new dagreD3.render();\n",
       "\n",
       "\t\t// Run the renderer. This is what draws the final graph.\n",
       "\t\trender(inner, g);\n",
       "\n",
       "\t\t// Center the graph\n",
       "\t\tvar initialScale = 0.75;\n",
       "\t\tsvg.call(zoom.transform, d3.zoomIdentity.translate(\n",
       "\t\t\t(svg.attr(\"width\") - g.graph().width * initialScale) / 2, 20).scale(initialScale));\n",
       "\n",
       "\t\tsvg.attr('height', g.graph().height * initialScale + 50);\n",
       "\t\t})();\n",
       "\n",
       "\t\t</script>\n",
       "\t\t"
      ],
      "text/plain": [
       "WFSA(5 states, <class 'rayuela.base.semiring.Boolean'>)"
      ]
     },
     "execution_count": 12,
     "metadata": {},
     "output_type": "execute_result"
    }
   ],
   "source": [
    "no_cycle_FSA(charify(10))"
   ]
  },
  {
   "cell_type": "code",
   "execution_count": 13,
   "metadata": {},
   "outputs": [],
   "source": [
    "def intersect_all_constraints():\n",
    "    result_fsa = one_root_FSA()\n",
    "    for i in range(length_sequence+1):\n",
    "        print(i)\n",
    "        result_fsa = result_fsa.intersect(no_cycle_FSA(charify(i))).trim()\n",
    "    return result_fsa"
   ]
  },
  {
   "cell_type": "code",
   "execution_count": 14,
   "metadata": {},
   "outputs": [
    {
     "name": "stdout",
     "output_type": "stream",
     "text": [
      "0\n",
      "1\n",
      "2\n",
      "3\n",
      "4\n",
      "5\n",
      "6\n",
      "7\n",
      "8\n",
      "9\n",
      "10\n"
     ]
    }
   ],
   "source": [
    "const_fsa = intersect_all_constraints()"
   ]
  },
  {
   "cell_type": "markdown",
   "metadata": {},
   "source": [
    "### Check if it works as expected"
   ]
  },
  {
   "cell_type": "code",
   "execution_count": 15,
   "metadata": {},
   "outputs": [],
   "source": [
    "max_seq_length=10"
   ]
  },
  {
   "cell_type": "markdown",
   "metadata": {},
   "source": [
    "The following function is a helper function for our beam search with fsa to turn the parsing result into a string that can be recognized by our constraint fsa, with this let's check if our constraint fsa works as expected. "
   ]
  },
  {
   "cell_type": "code",
   "execution_count": 16,
   "metadata": {},
   "outputs": [],
   "source": [
    "def topologically_sort_and_stringify_heads(current_heads: np.ndarray) -> str:\n",
    "    \"\"\"Turns the heads array into a string to feed into the fsa, the following way:\n",
    "    [3, 1, 2, 0, -1, 2] means (3->1) (1->2)... so these will be represented as (3,1) (1,2)...\n",
    "    sorting will be done starting with the minimum left values and continuing by topological order\n",
    "    until either all nodes are covered or there are no more connected nodes left, in which case we will go to\n",
    "    the next minimum left value that is not covered in the heads array. An example result:\n",
    "    [3, 1, 2, 0, -1, 2] -> '(-1,5)(0,4)(1,2)(2,3)(2,6)(3,1)' \n",
    "    \"\"\"\n",
    "    checker = current_heads.copy()\n",
    "    result_string = \"\"\n",
    "    q = deque()\n",
    "    print(current_heads)\n",
    "\n",
    "    while not np.all(checker > max_seq_length):\n",
    "        curr_ind = q.popleft() if q else np.argmin(checker)\n",
    "        print(\"Current index: \", curr_ind)\n",
    "        result_string += f'({charify(checker[curr_ind])},{charify(curr_ind+1)})'\n",
    "        print(\"Current string: \", result_string)\n",
    "\n",
    "        \n",
    "        next_indices = np.where(checker == curr_ind+1)[0]\n",
    "        next_indices = next_indices[next_indices != curr_ind]\n",
    "        print(next_indices)\n",
    "        if next_indices.size > 0:\n",
    "            q.extend(next_indices)\n",
    "        \n",
    "        checker[curr_ind] = max_seq_length*5\n",
    "\n",
    "    return result_string"
   ]
  },
  {
   "cell_type": "code",
   "execution_count": 17,
   "metadata": {},
   "outputs": [],
   "source": [
    "inp1 = np.array([-1, -1,  0, -1, -1, -1,  0, -1]) # breaks root constraint (>1 root)"
   ]
  },
  {
   "cell_type": "code",
   "execution_count": 18,
   "metadata": {},
   "outputs": [
    {
     "name": "stdout",
     "output_type": "stream",
     "text": [
      "[-1 -1  0 -1 -1 -1  0 -1]\n",
      "Current index:  0\n",
      "Current string:  (@,B)\n",
      "[]\n",
      "Current index:  1\n",
      "Current string:  (@,B)(@,C)\n",
      "[]\n",
      "Current index:  3\n",
      "Current string:  (@,B)(@,C)(@,E)\n",
      "[]\n",
      "Current index:  4\n",
      "Current string:  (@,B)(@,C)(@,E)(@,F)\n",
      "[]\n",
      "Current index:  5\n",
      "Current string:  (@,B)(@,C)(@,E)(@,F)(@,G)\n",
      "[]\n",
      "Current index:  7\n",
      "Current string:  (@,B)(@,C)(@,E)(@,F)(@,G)(@,I)\n",
      "[]\n",
      "Current index:  2\n",
      "Current string:  (@,B)(@,C)(@,E)(@,F)(@,G)(@,I)(A,D)\n",
      "[]\n",
      "Current index:  6\n",
      "Current string:  (@,B)(@,C)(@,E)(@,F)(@,G)(@,I)(A,D)(A,H)\n",
      "[]\n"
     ]
    },
    {
     "data": {
      "text/plain": [
       "'(@,B)(@,C)(@,E)(@,F)(@,G)(@,I)(A,D)(A,H)'"
      ]
     },
     "execution_count": 18,
     "metadata": {},
     "output_type": "execute_result"
    },
    {
     "data": {
      "text/plain": [
       "False"
      ]
     },
     "execution_count": 18,
     "metadata": {},
     "output_type": "execute_result"
    }
   ],
   "source": [
    "input_str = topologically_sort_and_stringify_heads(inp1)\n",
    "input_str\n",
    "const_fsa.accept(input_str)"
   ]
  },
  {
   "cell_type": "code",
   "execution_count": 19,
   "metadata": {},
   "outputs": [],
   "source": [
    "inp2 = np.array([3, 1, 2, 0, -1, 2]) # breaks loop constraint"
   ]
  },
  {
   "cell_type": "code",
   "execution_count": 20,
   "metadata": {
    "id": "BrtyyUjZud31"
   },
   "outputs": [
    {
     "name": "stdout",
     "output_type": "stream",
     "text": [
      "[ 3  1  2  0 -1  2]\n",
      "Current index:  4\n",
      "Current string:  (@,F)\n",
      "[]\n",
      "Current index:  3\n",
      "Current string:  (@,F)(A,E)\n",
      "[]\n",
      "Current index:  1\n",
      "Current string:  (@,F)(A,E)(B,C)\n",
      "[2 5]\n",
      "Current index:  2\n",
      "Current string:  (@,F)(A,E)(B,C)(C,D)\n",
      "[0]\n",
      "Current index:  5\n",
      "Current string:  (@,F)(A,E)(B,C)(C,D)(C,G)\n",
      "[]\n",
      "Current index:  0\n",
      "Current string:  (@,F)(A,E)(B,C)(C,D)(C,G)(D,B)\n",
      "[]\n"
     ]
    },
    {
     "data": {
      "text/plain": [
       "'(@,F)(A,E)(B,C)(C,D)(C,G)(D,B)'"
      ]
     },
     "execution_count": 20,
     "metadata": {},
     "output_type": "execute_result"
    },
    {
     "data": {
      "text/plain": [
       "False"
      ]
     },
     "execution_count": 20,
     "metadata": {},
     "output_type": "execute_result"
    }
   ],
   "source": [
    "input_str = topologically_sort_and_stringify_heads(inp2)\n",
    "input_str\n",
    "const_fsa.accept(input_str)"
   ]
  },
  {
   "cell_type": "code",
   "execution_count": 21,
   "metadata": {},
   "outputs": [],
   "source": [
    "inp3 = np.array([6, 1, 1, 1, 1, 1]) # breaks root constraint and loop constraint"
   ]
  },
  {
   "cell_type": "code",
   "execution_count": 22,
   "metadata": {},
   "outputs": [
    {
     "name": "stdout",
     "output_type": "stream",
     "text": [
      "[6 1 1 1 1 1]\n",
      "Current index:  1\n",
      "Current string:  (B,C)\n",
      "[]\n",
      "Current index:  2\n",
      "Current string:  (B,C)(B,D)\n",
      "[]\n",
      "Current index:  3\n",
      "Current string:  (B,C)(B,D)(B,E)\n",
      "[]\n",
      "Current index:  4\n",
      "Current string:  (B,C)(B,D)(B,E)(B,F)\n",
      "[]\n",
      "Current index:  5\n",
      "Current string:  (B,C)(B,D)(B,E)(B,F)(B,G)\n",
      "[0]\n",
      "Current index:  0\n",
      "Current string:  (B,C)(B,D)(B,E)(B,F)(B,G)(G,B)\n",
      "[]\n"
     ]
    },
    {
     "data": {
      "text/plain": [
       "'(B,C)(B,D)(B,E)(B,F)(B,G)(G,B)'"
      ]
     },
     "execution_count": 22,
     "metadata": {},
     "output_type": "execute_result"
    },
    {
     "data": {
      "text/plain": [
       "False"
      ]
     },
     "execution_count": 22,
     "metadata": {},
     "output_type": "execute_result"
    }
   ],
   "source": [
    "input_str = topologically_sort_and_stringify_heads(inp3)\n",
    "input_str\n",
    "const_fsa.accept(input_str)"
   ]
  },
  {
   "cell_type": "code",
   "execution_count": 23,
   "metadata": {},
   "outputs": [],
   "source": [
    "inp4 = np.array([4, 1, 2, -1, -1, 2]) # acceptable"
   ]
  },
  {
   "cell_type": "code",
   "execution_count": 24,
   "metadata": {},
   "outputs": [
    {
     "name": "stdout",
     "output_type": "stream",
     "text": [
      "[ 4  1  2 -1 -1  2]\n",
      "Current index:  3\n",
      "Current string:  (@,E)\n",
      "[0]\n",
      "Current index:  0\n",
      "Current string:  (@,E)(E,B)\n",
      "[1]\n",
      "Current index:  1\n",
      "Current string:  (@,E)(E,B)(B,C)\n",
      "[2 5]\n",
      "Current index:  2\n",
      "Current string:  (@,E)(E,B)(B,C)(C,D)\n",
      "[]\n",
      "Current index:  5\n",
      "Current string:  (@,E)(E,B)(B,C)(C,D)(C,G)\n",
      "[]\n",
      "Current index:  4\n",
      "Current string:  (@,E)(E,B)(B,C)(C,D)(C,G)(@,F)\n",
      "[]\n"
     ]
    },
    {
     "data": {
      "text/plain": [
       "'(@,E)(E,B)(B,C)(C,D)(C,G)(@,F)'"
      ]
     },
     "execution_count": 24,
     "metadata": {},
     "output_type": "execute_result"
    },
    {
     "data": {
      "text/plain": [
       "True"
      ]
     },
     "execution_count": 24,
     "metadata": {},
     "output_type": "execute_result"
    }
   ],
   "source": [
    "input_str = topologically_sort_and_stringify_heads(inp4)\n",
    "input_str\n",
    "const_fsa.accept(input_str)"
   ]
  },
  {
   "cell_type": "code",
   "execution_count": 25,
   "metadata": {},
   "outputs": [],
   "source": [
    "inp5 = np.array([-1, 1, 2, 0]) # acceptable"
   ]
  },
  {
   "cell_type": "code",
   "execution_count": 26,
   "metadata": {},
   "outputs": [
    {
     "name": "stdout",
     "output_type": "stream",
     "text": [
      "[-1  1  2  0]\n",
      "Current index:  0\n",
      "Current string:  (@,B)\n",
      "[1]\n",
      "Current index:  1\n",
      "Current string:  (@,B)(B,C)\n",
      "[2]\n",
      "Current index:  2\n",
      "Current string:  (@,B)(B,C)(C,D)\n",
      "[]\n",
      "Current index:  3\n",
      "Current string:  (@,B)(B,C)(C,D)(A,E)\n",
      "[]\n"
     ]
    },
    {
     "data": {
      "text/plain": [
       "'(@,B)(B,C)(C,D)(A,E)'"
      ]
     },
     "execution_count": 26,
     "metadata": {},
     "output_type": "execute_result"
    },
    {
     "data": {
      "text/plain": [
       "True"
      ]
     },
     "execution_count": 26,
     "metadata": {},
     "output_type": "execute_result"
    }
   ],
   "source": [
    "input_str = topologically_sort_and_stringify_heads(inp5)\n",
    "input_str\n",
    "const_fsa.accept(input_str)"
   ]
  },
  {
   "cell_type": "markdown",
   "metadata": {},
   "source": [
    "## Parsing without constraint checking"
   ]
  },
  {
   "cell_type": "code",
   "execution_count": 27,
   "metadata": {
    "colab": {
     "base_uri": "https://localhost:8080/",
     "height": 390
    },
    "executionInfo": {
     "elapsed": 97758,
     "status": "error",
     "timestamp": 1660223537890,
     "user": {
      "displayName": "Benjamin Dayan",
      "userId": "11817114914797936108"
     },
     "user_tz": -120
    },
    "id": "wjz5xzSgMhY0",
    "outputId": "fb0510f3-d3dc-4042-8591-f2acb5baf1b0"
   },
   "outputs": [
    {
     "name": "stderr",
     "output_type": "stream",
     "text": [
      "100%|███████████████████████████████████████████████████████████████████████████████▋| 255/256 [00:23<00:00, 10.82it/s]\n"
     ]
    },
    {
     "ename": "IndexError",
     "evalue": "too many indices for tensor of dimension 2",
     "output_type": "error",
     "traceback": [
      "\u001b[1;31m---------------------------------------------------------------------------\u001b[0m",
      "\u001b[1;31mIndexError\u001b[0m                                Traceback (most recent call last)",
      "Input \u001b[1;32mIn [27]\u001b[0m, in \u001b[0;36m<cell line: 4>\u001b[1;34m()\u001b[0m\n\u001b[0;32m      4\u001b[0m \u001b[38;5;28;01mfor\u001b[39;00m j \u001b[38;5;129;01min\u001b[39;00m tqdm\u001b[38;5;241m.\u001b[39mtqdm(\u001b[38;5;28mrange\u001b[39m(\u001b[38;5;28mlen\u001b[39m(val_short_data))):\n\u001b[0;32m      5\u001b[0m   input_data \u001b[38;5;241m=\u001b[39m val_short_data[j:j\u001b[38;5;241m+\u001b[39m\u001b[38;5;241m2\u001b[39m]\n\u001b[1;32m----> 6\u001b[0m   sentences_embedding, sentences_word_embeddings, targets \u001b[38;5;241m=\u001b[39m \u001b[43mget_embeddings\u001b[49m\u001b[43m(\u001b[49m\u001b[43minput_data\u001b[49m\u001b[43m,\u001b[49m\u001b[43m \u001b[49m\u001b[43mtokenizer\u001b[49m\u001b[43m,\u001b[49m\u001b[43m \u001b[49m\u001b[43mmodel\u001b[49m\u001b[43m)\u001b[49m\n\u001b[0;32m      7\u001b[0m   i \u001b[38;5;241m=\u001b[39m \u001b[38;5;241m0\u001b[39m\n\u001b[0;32m      8\u001b[0m   word_embeddings, sentence_embedding, target \u001b[38;5;241m=\u001b[39m sentences_word_embeddings[i], sentences_embedding[i], targets[i]\n",
      "File \u001b[1;32m~\\Desktop\\Zurich\\Sem2\\AFLT\\Project\\spanningtrees\\benji_transformer_play.py:299\u001b[0m, in \u001b[0;36mget_embeddings\u001b[1;34m(input_data, tokenizer, model)\u001b[0m\n\u001b[0;32m    295\u001b[0m     output \u001b[38;5;241m=\u001b[39m model(\u001b[38;5;241m*\u001b[39m\u001b[38;5;241m*\u001b[39mbatch_encoded)\n\u001b[0;32m    297\u001b[0m last_layers \u001b[38;5;241m=\u001b[39m get_bert_seq_layers(output)\n\u001b[1;32m--> 299\u001b[0m sentences_embedding \u001b[38;5;241m=\u001b[39m \u001b[43mlast_layers\u001b[49m\u001b[43m[\u001b[49m\u001b[43m:\u001b[49m\u001b[43m,\u001b[49m\u001b[43m \u001b[49m\u001b[38;5;241;43m0\u001b[39;49m\u001b[43m,\u001b[49m\u001b[43m \u001b[49m\u001b[43m:\u001b[49m\u001b[43m]\u001b[49m\u001b[38;5;241m.\u001b[39munsqueeze(\n\u001b[0;32m    300\u001b[0m     dim\u001b[38;5;241m=\u001b[39m\u001b[38;5;241m1\u001b[39m)  \u001b[38;5;66;03m# first token of each sequence embedding\u001b[39;00m\n\u001b[0;32m    302\u001b[0m sentences_word_embeddings \u001b[38;5;241m=\u001b[39m []\n\u001b[0;32m    303\u001b[0m \u001b[38;5;28;01mfor\u001b[39;00m sentence_i, (BERT_to_input_word_ids, encoded, all_fit) \u001b[38;5;129;01min\u001b[39;00m \u001b[38;5;28menumerate\u001b[39m(\u001b[38;5;28mzip\u001b[39m(sentences_word_id_tuples, encodeds, all_fits)):\n",
      "\u001b[1;31mIndexError\u001b[0m: too many indices for tensor of dimension 2"
     ]
    }
   ],
   "source": [
    "import tqdm\n",
    "mst_matches = []\n",
    "mst_percent_matches = []\n",
    "for j in tqdm.tqdm(range(len(val_short_data))):\n",
    "  input_data = val_short_data[j:j+2]\n",
    "  sentences_embedding, sentences_word_embeddings, targets = get_embeddings(input_data, tokenizer, model)\n",
    "  i = 0\n",
    "  word_embeddings, sentence_embedding, target = sentences_word_embeddings[i], sentences_embedding[i], targets[i]\n",
    "\n",
    "  loss, pred, constr, mst_prob, mst_neg_log_prob, target_prob, target_neg_log_probs = train_on_sentence(word_embeddings, sentence_embedding, target, scorer)\n",
    "\n",
    "  target_np = target.detach().cpu().numpy()\n",
    "  mst_match = np.all(target_np == constr[1:])\n",
    "\n",
    "  mst_percent_match = np.sum(target_np == constr[1:])/len(target_np == constr[1:])\n",
    "  mst_matches.append(mst_match)\n",
    "  mst_percent_matches.append(mst_percent_match)\n",
    "\n",
    "  # big_mat = scorer(torch.concat([sentence_embedding, word_embeddings]), tanh=False)\n",
    "\n",
    "  # mat = big_mat[1:, 1:]  # nxn word head x dep scores\n",
    "  # r = big_mat[0, 1:]  # n root -> word scores\n",
    "\n",
    "  # extended_mat = torch.concat([r.unsqueeze(dim=0), mat], dim=0)\n",
    "  # extended_mat_np = extended_mat.detach().cpu().numpy()\n",
    "\n",
    "  # bs_out = beam_search_matrix(extended_mat_np, n_beam=10)\n",
    "\n",
    "  # parses = [triple[1] for triple in bs_out]\n",
    "\n",
    "  # correct = [np.all(parse == target_np) for parse in parses]\n",
    "  # correct_i = np.where(correct)[0]\n",
    "  # correct_i = correct_i[0] if len(correct_i) != 0 else None\n",
    "\n",
    "  # mst_correct = [np.all(parse == constr[1:]) for parse in parses]\n",
    "  # mst_correct_i = np.where(mst_correct)[0]\n",
    "  # mst_correct_i = mst_correct_i[0] if len(mst_correct_i) != 0 else None\n",
    "\n",
    "  # stats.append((mst_matches, correct_i, mst_correct_i))\n",
    "\n"
   ]
  },
  {
   "cell_type": "code",
   "execution_count": 28,
   "metadata": {
    "colab": {
     "base_uri": "https://localhost:8080/"
    },
    "executionInfo": {
     "elapsed": 4,
     "status": "ok",
     "timestamp": 1660223670717,
     "user": {
      "displayName": "Benjamin Dayan",
      "userId": "11817114914797936108"
     },
     "user_tz": -120
    },
    "id": "z-lxXWVrA7LN",
    "outputId": "66505ed9-5fcf-4ddf-8e1d-6bcfd18878d2"
   },
   "outputs": [
    {
     "data": {
      "text/plain": [
       "(0.6666666666666666,)"
      ]
     },
     "execution_count": 28,
     "metadata": {},
     "output_type": "execute_result"
    },
    {
     "data": {
      "text/plain": [
       "0.8867615935262995"
      ]
     },
     "execution_count": 28,
     "metadata": {},
     "output_type": "execute_result"
    }
   ],
   "source": [
    "np.mean(mst_matches),\n",
    "np.mean(mst_percent_matches)"
   ]
  },
  {
   "cell_type": "markdown",
   "metadata": {},
   "source": [
    "## Parsing with automata constraint"
   ]
  },
  {
   "cell_type": "markdown",
   "metadata": {},
   "source": [
    "### One example for testing"
   ]
  },
  {
   "cell_type": "code",
   "execution_count": 29,
   "metadata": {},
   "outputs": [],
   "source": [
    "input_data = val_short_data[:4]\n",
    "sentences_embedding, sentences_word_embeddings, targets = get_embeddings(input_data, tokenizer, model)\n",
    "i = 0\n",
    "word_embeddings, sentence_embedding, target = sentences_word_embeddings[i], sentences_embedding[i], targets[i]\n",
    "\n",
    "big_mat = scorer(torch.concat([sentence_embedding, word_embeddings]), tanh=False)\n",
    "\n",
    "mat = big_mat[1:, 1:]  # nxn word head x dep scores\n",
    "r = big_mat[0, 1:]  # n root -> word scores\n",
    "\n",
    "extended_mat = torch.concat([r.unsqueeze(dim=0), mat], dim=0)\n",
    "extended_mat_np = extended_mat.detach().cpu().numpy()\n",
    "\n",
    "bs_out = beam_search_matrix_fsa(extended_mat_np, const_fsa, length_sequence, n_beam=1)"
   ]
  },
  {
   "cell_type": "code",
   "execution_count": 30,
   "metadata": {},
   "outputs": [
    {
     "data": {
      "text/plain": [
       "['Results',\n",
       " 'from',\n",
       " 'a',\n",
       " 'nationally',\n",
       " 'representative',\n",
       " 'sample',\n",
       " 'of',\n",
       " 'adults']"
      ]
     },
     "execution_count": 30,
     "metadata": {},
     "output_type": "execute_result"
    },
    {
     "data": {
      "text/plain": [
       "['0', '6', '6', '5', '6', '1', '8', '6']"
      ]
     },
     "execution_count": 30,
     "metadata": {},
     "output_type": "execute_result"
    },
    {
     "data": {
      "text/plain": [
       "[(array([6, 6, 6, 5, 6, 0, 8, 6], dtype=int16), -149.30055809020996)]"
      ]
     },
     "execution_count": 30,
     "metadata": {},
     "output_type": "execute_result"
    }
   ],
   "source": [
    "input_data[i]['tokens']\n",
    "input_data[i]['head']\n",
    "bs_out"
   ]
  },
  {
   "cell_type": "markdown",
   "metadata": {},
   "source": [
    "### Model with 3 beams"
   ]
  },
  {
   "cell_type": "code",
   "execution_count": 45,
   "metadata": {},
   "outputs": [
    {
     "name": "stdout",
     "output_type": "stream",
     "text": [
      "num_beams: 1\n"
     ]
    },
    {
     "name": "stderr",
     "output_type": "stream",
     "text": [
      "  0%|▎                                                                               | 1/255 [00:47<3:22:22, 47.81s/it]"
     ]
    },
    {
     "name": "stdout",
     "output_type": "stream",
     "text": [
      "[(array([6, 6, 6, 5, 6, 0, 8, 6], dtype=int16), -149.30055809020996)]\n"
     ]
    },
    {
     "name": "stderr",
     "output_type": "stream",
     "text": [
      "\r",
      "  1%|▋                                                                               | 2/255 [00:48<1:25:45, 20.34s/it]"
     ]
    },
    {
     "name": "stdout",
     "output_type": "stream",
     "text": [
      "[(array([0, 1], dtype=int16), -18.356449127197266)]\n"
     ]
    },
    {
     "name": "stderr",
     "output_type": "stream",
     "text": [
      "\r",
      "  1%|▉                                                                                 | 3/255 [00:54<57:59, 13.81s/it]"
     ]
    },
    {
     "name": "stdout",
     "output_type": "stream",
     "text": [
      "[(array([0, 3, 1, 1], dtype=int16), -77.98986911773682)]\n"
     ]
    },
    {
     "name": "stderr",
     "output_type": "stream",
     "text": [
      "\r",
      "  2%|█▎                                                                              | 4/255 [01:25<1:25:42, 20.49s/it]"
     ]
    },
    {
     "name": "stdout",
     "output_type": "stream",
     "text": [
      "[(array([0, 3, 1, 6, 6, 1, 1], dtype=int16), -2.80145263671875)]\n"
     ]
    },
    {
     "name": "stderr",
     "output_type": "stream",
     "text": [
      "\r",
      "  2%|█▌                                                                                | 5/255 [01:26<56:16, 13.50s/it]"
     ]
    },
    {
     "name": "stdout",
     "output_type": "stream",
     "text": [
      "[(array([0, 1], dtype=int16), -66.24103927612305)]\n"
     ]
    },
    {
     "name": "stderr",
     "output_type": "stream",
     "text": [
      "\r",
      "  2%|█▉                                                                                | 6/255 [01:27<38:32,  9.29s/it]"
     ]
    },
    {
     "name": "stdout",
     "output_type": "stream",
     "text": [
      "[(array([0, 1], dtype=int16), -42.23233890533447)]\n"
     ]
    },
    {
     "name": "stderr",
     "output_type": "stream",
     "text": [
      "\r",
      "  3%|██▎                                                                               | 7/255 [01:29<27:22,  6.62s/it]"
     ]
    },
    {
     "name": "stdout",
     "output_type": "stream",
     "text": [
      "[(array([0, 1], dtype=int16), -63.29503631591797)]\n"
     ]
    },
    {
     "name": "stderr",
     "output_type": "stream",
     "text": [
      "\r",
      "  3%|██▌                                                                               | 8/255 [01:35<26:37,  6.47s/it]"
     ]
    },
    {
     "name": "stdout",
     "output_type": "stream",
     "text": [
      "[(array([0, 3, 1, 1], dtype=int16), -36.14278221130371)]\n"
     ]
    },
    {
     "name": "stderr",
     "output_type": "stream",
     "text": [
      "\r",
      "  4%|██▉                                                                               | 9/255 [01:38<21:58,  5.36s/it]"
     ]
    },
    {
     "name": "stdout",
     "output_type": "stream",
     "text": [
      "[(array([0, 1, 2], dtype=int16), -57.266563415527344)]\n"
     ]
    },
    {
     "name": "stderr",
     "output_type": "stream",
     "text": [
      "\r",
      "  4%|███▏                                                                             | 10/255 [01:44<23:44,  5.82s/it]"
     ]
    },
    {
     "name": "stdout",
     "output_type": "stream",
     "text": [
      "[(array([0, 3, 1, 3], dtype=int16), -42.47189140319824)]\n"
     ]
    },
    {
     "name": "stderr",
     "output_type": "stream",
     "text": [
      "\r",
      "  4%|███▍                                                                             | 11/255 [01:47<20:02,  4.93s/it]"
     ]
    },
    {
     "name": "stdout",
     "output_type": "stream",
     "text": [
      "[(array([2, 0, 2], dtype=int16), -36.55851173400879)]\n"
     ]
    },
    {
     "name": "stderr",
     "output_type": "stream",
     "text": [
      "\r",
      "  5%|███▊                                                                             | 12/255 [01:50<17:30,  4.32s/it]"
     ]
    },
    {
     "name": "stdout",
     "output_type": "stream",
     "text": [
      "[(array([0, 3, 1], dtype=int16), -71.5994930267334)]\n"
     ]
    },
    {
     "name": "stderr",
     "output_type": "stream",
     "text": [
      "\r",
      "  5%|████▏                                                                            | 13/255 [01:53<15:47,  3.92s/it]"
     ]
    },
    {
     "name": "stdout",
     "output_type": "stream",
     "text": [
      "[(array([2, 0, 2], dtype=int16), -32.5551643371582)]\n"
     ]
    },
    {
     "name": "stderr",
     "output_type": "stream",
     "text": [
      "\r",
      "  5%|████▍                                                                            | 14/255 [01:56<14:28,  3.61s/it]"
     ]
    },
    {
     "name": "stdout",
     "output_type": "stream",
     "text": [
      "[(array([2, 0, 2], dtype=int16), -85.10127639770508)]\n"
     ]
    },
    {
     "name": "stderr",
     "output_type": "stream",
     "text": [
      "\r",
      "  6%|████▊                                                                            | 15/255 [01:59<13:31,  3.38s/it]"
     ]
    },
    {
     "name": "stdout",
     "output_type": "stream",
     "text": [
      "[(array([2, 0, 2], dtype=int16), -25.6915225982666)]\n"
     ]
    },
    {
     "name": "stderr",
     "output_type": "stream",
     "text": [
      "\r",
      "  6%|████▉                                                                          | 16/255 [02:44<1:03:49, 16.02s/it]"
     ]
    },
    {
     "name": "stdout",
     "output_type": "stream",
     "text": [
      "[(array([3, 3, 4, 0, 7, 7, 4, 4], dtype=int16), -54.28832149505615)]\n"
     ]
    },
    {
     "name": "stderr",
     "output_type": "stream",
     "text": [
      "\r",
      "  7%|█████▎                                                                         | 17/255 [03:53<2:06:27, 31.88s/it]"
     ]
    },
    {
     "name": "stdout",
     "output_type": "stream",
     "text": [
      "[(array([6, 6, 6, 6, 6, 0, 6, 9, 6], dtype=int16), -183.95253372192383)]\n"
     ]
    },
    {
     "name": "stderr",
     "output_type": "stream",
     "text": [
      "\r",
      "  7%|█████▌                                                                         | 18/255 [03:56<1:31:25, 23.14s/it]"
     ]
    },
    {
     "name": "stdout",
     "output_type": "stream",
     "text": [
      "[(array([0, 1, 1], dtype=int16), -23.913196563720703)]\n"
     ]
    },
    {
     "name": "stderr",
     "output_type": "stream",
     "text": [
      "\r",
      "  7%|█████▉                                                                         | 19/255 [05:04<2:23:29, 36.48s/it]"
     ]
    },
    {
     "name": "stdout",
     "output_type": "stream",
     "text": [
      "[(array([0, 3, 1, 5, 1, 8, 8, 5, 5], dtype=int16), -90.83283424377441)]\n"
     ]
    },
    {
     "name": "stderr",
     "output_type": "stream",
     "text": [
      "\r",
      "  8%|██████▏                                                                        | 20/255 [05:07<1:43:54, 26.53s/it]"
     ]
    },
    {
     "name": "stdout",
     "output_type": "stream",
     "text": [
      "[(array([0, 1, 1], dtype=int16), -29.7462739944458)]\n"
     ]
    },
    {
     "name": "stderr",
     "output_type": "stream",
     "text": [
      "\r",
      "  8%|██████▌                                                                        | 21/255 [05:29<1:38:23, 25.23s/it]"
     ]
    },
    {
     "name": "stdout",
     "output_type": "stream",
     "text": [
      "[(array([0, 6, 6, 6, 6, 1], dtype=int16), -45.10251331329346)]\n"
     ]
    },
    {
     "name": "stderr",
     "output_type": "stream",
     "text": [
      "\r",
      "  9%|██████▊                                                                        | 22/255 [06:35<2:25:30, 37.47s/it]"
     ]
    },
    {
     "name": "stdout",
     "output_type": "stream",
     "text": [
      "[(array([2, 4, 4, 0, 8, 8, 8, 4, 4], dtype=int16), -73.26775455474854)]\n"
     ]
    },
    {
     "name": "stderr",
     "output_type": "stream",
     "text": [
      "\r",
      "  9%|███████▏                                                                       | 23/255 [06:36<1:42:45, 26.57s/it]"
     ]
    },
    {
     "name": "stdout",
     "output_type": "stream",
     "text": [
      "[(array([0, 1], dtype=int16), -13.111198425292969)]\n"
     ]
    },
    {
     "name": "stderr",
     "output_type": "stream",
     "text": [
      "\r",
      "  9%|███████▍                                                                       | 24/255 [06:37<1:12:53, 18.93s/it]"
     ]
    },
    {
     "name": "stdout",
     "output_type": "stream",
     "text": [
      "[(array([0, 1], dtype=int16), -13.111211776733398)]\n"
     ]
    },
    {
     "name": "stderr",
     "output_type": "stream",
     "text": [
      "\r",
      " 10%|███████▋                                                                       | 25/255 [07:23<1:43:21, 26.96s/it]"
     ]
    },
    {
     "name": "stdout",
     "output_type": "stream",
     "text": [
      "[(array([3, 3, 5, 5, 0, 7, 5, 5], dtype=int16), 8.518848419189453)]\n"
     ]
    },
    {
     "name": "stderr",
     "output_type": "stream",
     "text": [
      "\r",
      " 10%|████████                                                                       | 26/255 [07:24<1:13:17, 19.20s/it]"
     ]
    },
    {
     "name": "stdout",
     "output_type": "stream",
     "text": [
      "[(array([0, 1], dtype=int16), -24.485973358154297)]\n"
     ]
    },
    {
     "name": "stderr",
     "output_type": "stream",
     "text": [
      "\r",
      " 11%|████████▌                                                                        | 27/255 [07:25<52:20, 13.78s/it]"
     ]
    },
    {
     "name": "stdout",
     "output_type": "stream",
     "text": [
      "[(array([2, 0], dtype=int16), -50.53729438781738)]\n"
     ]
    },
    {
     "name": "stderr",
     "output_type": "stream",
     "text": [
      "\r",
      " 11%|████████▋                                                                      | 28/255 [08:36<1:56:20, 30.75s/it]"
     ]
    },
    {
     "name": "stdout",
     "output_type": "stream",
     "text": [
      "[(array([4, 1, 4, 0, 6, 1, 8, 6, 4], dtype=int16), 156.99615573883057)]\n"
     ]
    },
    {
     "name": "stderr",
     "output_type": "stream",
     "text": [
      "\r",
      " 11%|████████▉                                                                      | 29/255 [09:21<2:12:35, 35.20s/it]"
     ]
    },
    {
     "name": "stdout",
     "output_type": "stream",
     "text": [
      "[(array([3, 3, 0, 5, 3, 7, 3, 3], dtype=int16), 73.39049625396729)]\n"
     ]
    },
    {
     "name": "stderr",
     "output_type": "stream",
     "text": [
      "\r",
      " 12%|█████████▎                                                                     | 30/255 [09:27<1:39:08, 26.44s/it]"
     ]
    },
    {
     "name": "stdout",
     "output_type": "stream",
     "text": [
      "[(array([4, 0, 4, 2], dtype=int16), -35.41568374633789)]\n"
     ]
    },
    {
     "name": "stderr",
     "output_type": "stream",
     "text": [
      "\r",
      " 12%|█████████▌                                                                     | 31/255 [09:58<1:43:30, 27.73s/it]"
     ]
    },
    {
     "name": "stdout",
     "output_type": "stream",
     "text": [
      "[(array([2, 0, 5, 5, 2, 2, 2], dtype=int16), 156.93054389953613)]\n"
     ]
    },
    {
     "name": "stderr",
     "output_type": "stream",
     "text": [
      "\r",
      " 13%|█████████▉                                                                     | 32/255 [11:04<2:25:18, 39.10s/it]"
     ]
    },
    {
     "name": "stdout",
     "output_type": "stream",
     "text": [
      "[(array([4, 4, 4, 0, 6, 4, 8, 4, 4], dtype=int16), -15.637337684631348)]\n"
     ]
    },
    {
     "name": "stderr",
     "output_type": "stream",
     "text": [
      "\r",
      " 13%|██████████▏                                                                    | 33/255 [11:04<1:41:37, 27.47s/it]"
     ]
    },
    {
     "name": "stdout",
     "output_type": "stream",
     "text": [
      "[(array([0], dtype=int16), -10.055390357971191)]\n"
     ]
    },
    {
     "name": "stderr",
     "output_type": "stream",
     "text": [
      "\r",
      " 13%|██████████▌                                                                    | 34/255 [11:49<2:01:14, 32.92s/it]"
     ]
    },
    {
     "name": "stdout",
     "output_type": "stream",
     "text": [
      "[(array([3, 6, 0, 6, 7, 3, 6, 3], dtype=int16), -135.12293338775635)]\n"
     ]
    },
    {
     "name": "stderr",
     "output_type": "stream",
     "text": [
      "\r",
      " 14%|██████████▊                                                                    | 35/255 [12:20<1:57:43, 32.11s/it]"
     ]
    },
    {
     "name": "stdout",
     "output_type": "stream",
     "text": [
      "[(array([2, 3, 6, 6, 6, 0, 6], dtype=int16), -154.07481479644775)]\n"
     ]
    },
    {
     "name": "stderr",
     "output_type": "stream",
     "text": [
      "\r",
      " 14%|███████████▏                                                                   | 36/255 [12:50<1:55:17, 31.59s/it]"
     ]
    },
    {
     "name": "stdout",
     "output_type": "stream",
     "text": [
      "[(array([3, 3, 0, 3, 3, 3, 3], dtype=int16), -217.25213718414307)]\n"
     ]
    },
    {
     "name": "stderr",
     "output_type": "stream",
     "text": [
      "\r",
      " 15%|███████████▍                                                                   | 37/255 [13:21<1:54:25, 31.49s/it]"
     ]
    },
    {
     "name": "stdout",
     "output_type": "stream",
     "text": [
      "[(array([3, 3, 0, 5, 3, 5, 3], dtype=int16), -69.80475997924805)]\n"
     ]
    },
    {
     "name": "stderr",
     "output_type": "stream",
     "text": [
      "\r",
      " 15%|███████████▊                                                                   | 38/255 [13:40<1:40:24, 27.76s/it]"
     ]
    },
    {
     "name": "stdout",
     "output_type": "stream",
     "text": [
      "[(array([5, 5, 5, 5, 0, 5], dtype=int16), -123.30189228057861)]\n"
     ]
    },
    {
     "name": "stderr",
     "output_type": "stream",
     "text": [
      "\r",
      " 15%|████████████                                                                   | 39/255 [13:52<1:22:08, 22.82s/it]"
     ]
    },
    {
     "name": "stdout",
     "output_type": "stream",
     "text": [
      "[(array([2, 0, 4, 2, 2], dtype=int16), -18.936744689941406)]\n"
     ]
    },
    {
     "name": "stderr",
     "output_type": "stream",
     "text": [
      "\r",
      " 16%|████████████▍                                                                  | 40/255 [14:57<2:07:46, 35.66s/it]"
     ]
    },
    {
     "name": "stdout",
     "output_type": "stream",
     "text": [
      "[(array([5, 3, 4, 5, 0, 8, 8, 5, 5], dtype=int16), -27.735017776489258)]\n"
     ]
    },
    {
     "name": "stderr",
     "output_type": "stream",
     "text": [
      "\r",
      " 16%|████████████▋                                                                  | 41/255 [15:28<2:01:28, 34.06s/it]"
     ]
    },
    {
     "name": "stdout",
     "output_type": "stream",
     "text": [
      "[(array([3, 3, 0, 3, 6, 3, 3], dtype=int16), -142.9273500442505)]\n"
     ]
    },
    {
     "name": "stderr",
     "output_type": "stream",
     "text": [
      "\r",
      " 16%|█████████████                                                                  | 42/255 [15:30<1:27:38, 24.69s/it]"
     ]
    },
    {
     "name": "stdout",
     "output_type": "stream",
     "text": [
      "[(array([2, 0, 2], dtype=int16), -15.397510528564453)]\n"
     ]
    },
    {
     "name": "stderr",
     "output_type": "stream",
     "text": [
      "\r",
      " 17%|█████████████▎                                                                 | 43/255 [16:16<1:49:40, 31.04s/it]"
     ]
    },
    {
     "name": "stdout",
     "output_type": "stream",
     "text": [
      "[(array([2, 3, 6, 2, 2, 0, 6, 6], dtype=int16), -135.41814613342285)]\n"
     ]
    },
    {
     "name": "stderr",
     "output_type": "stream",
     "text": [
      "\r",
      " 17%|█████████████▋                                                                 | 44/255 [16:46<1:48:08, 30.75s/it]"
     ]
    },
    {
     "name": "stdout",
     "output_type": "stream",
     "text": [
      "[(array([2, 0, 6, 6, 6, 2, 2], dtype=int16), -99.12908840179443)]\n"
     ]
    },
    {
     "name": "stderr",
     "output_type": "stream",
     "text": [
      "\r",
      " 18%|█████████████▉                                                                 | 45/255 [17:17<1:47:15, 30.64s/it]"
     ]
    },
    {
     "name": "stdout",
     "output_type": "stream",
     "text": [
      "[(array([2, 0, 2, 6, 2, 2, 2], dtype=int16), 27.541287422180176)]\n"
     ]
    },
    {
     "name": "stderr",
     "output_type": "stream",
     "text": [
      "\r",
      " 18%|██████████████▎                                                                | 46/255 [18:22<2:22:58, 41.04s/it]"
     ]
    },
    {
     "name": "stdout",
     "output_type": "stream",
     "text": [
      "[(array([3, 3, 0, 3, 8, 8, 8, 3, 3], dtype=int16), -96.69469356536865)]\n"
     ]
    },
    {
     "name": "stderr",
     "output_type": "stream",
     "text": [
      "\r",
      " 18%|██████████████▌                                                                | 47/255 [18:25<1:42:21, 29.53s/it]"
     ]
    },
    {
     "name": "stdout",
     "output_type": "stream",
     "text": [
      "[(array([0, 1, 1], dtype=int16), -43.71372032165527)]\n"
     ]
    },
    {
     "name": "stderr",
     "output_type": "stream",
     "text": [
      "\r",
      " 19%|██████████████▊                                                                | 48/255 [19:09<1:57:01, 33.92s/it]"
     ]
    },
    {
     "name": "stdout",
     "output_type": "stream",
     "text": [
      "[(array([6, 3, 6, 6, 6, 0, 6, 6], dtype=int16), -147.78965663909912)]\n"
     ]
    },
    {
     "name": "stderr",
     "output_type": "stream",
     "text": [
      "\r",
      " 19%|███████████████▏                                                               | 49/255 [19:51<2:05:06, 36.44s/it]"
     ]
    },
    {
     "name": "stdout",
     "output_type": "stream",
     "text": [
      "[(array([6, 4, 4, 0, 6, 4, 4, 4], dtype=int16), -109.43223476409912)]\n"
     ]
    },
    {
     "name": "stderr",
     "output_type": "stream",
     "text": [
      "\r",
      " 20%|███████████████▍                                                               | 50/255 [20:19<1:55:55, 33.93s/it]"
     ]
    },
    {
     "name": "stdout",
     "output_type": "stream",
     "text": [
      "[(array([6, 4, 4, 6, 6, 0, 6], dtype=int16), -130.84261798858643)]\n"
     ]
    },
    {
     "name": "stderr",
     "output_type": "stream",
     "text": [
      "\r",
      " 20%|███████████████▊                                                               | 51/255 [21:01<2:03:09, 36.22s/it]"
     ]
    },
    {
     "name": "stdout",
     "output_type": "stream",
     "text": [
      "[(array([2, 0, 5, 5, 2, 7, 5, 2], dtype=int16), 19.466578483581543)]\n"
     ]
    },
    {
     "name": "stderr",
     "output_type": "stream",
     "text": [
      "\r",
      " 20%|████████████████                                                               | 52/255 [21:43<2:08:24, 37.95s/it]"
     ]
    },
    {
     "name": "stdout",
     "output_type": "stream",
     "text": [
      "[(array([4, 4, 4, 0, 7, 7, 4, 4], dtype=int16), -70.4324083328247)]\n"
     ]
    },
    {
     "name": "stderr",
     "output_type": "stream",
     "text": [
      "\r",
      " 21%|████████████████▍                                                              | 53/255 [22:01<1:47:20, 31.88s/it]"
     ]
    },
    {
     "name": "stdout",
     "output_type": "stream",
     "text": [
      "[(array([3, 3, 0, 3, 3, 3], dtype=int16), -172.67176246643066)]\n"
     ]
    },
    {
     "name": "stderr",
     "output_type": "stream",
     "text": [
      "\r",
      " 21%|████████████████▋                                                              | 54/255 [22:06<1:20:19, 23.98s/it]"
     ]
    },
    {
     "name": "stdout",
     "output_type": "stream",
     "text": [
      "[(array([0, 1, 1, 1], dtype=int16), -42.67728233337402)]\n"
     ]
    },
    {
     "name": "stderr",
     "output_type": "stream",
     "text": [
      "\r",
      " 22%|█████████████████                                                              | 55/255 [22:16<1:06:16, 19.88s/it]"
     ]
    },
    {
     "name": "stdout",
     "output_type": "stream",
     "text": [
      "[(array([2, 3, 0, 3, 3], dtype=int16), -48.13954448699951)]\n"
     ]
    },
    {
     "name": "stderr",
     "output_type": "stream",
     "text": [
      "\r",
      " 22%|█████████████████▎                                                             | 56/255 [23:17<1:46:52, 32.22s/it]"
     ]
    },
    {
     "name": "stdout",
     "output_type": "stream",
     "text": [
      "[(array([2, 0, 5, 5, 2, 8, 8, 5, 2], dtype=int16), -101.1060905456543)]\n"
     ]
    },
    {
     "name": "stderr",
     "output_type": "stream",
     "text": [
      "\r",
      " 22%|█████████████████▋                                                             | 57/255 [23:47<1:43:16, 31.29s/it]"
     ]
    },
    {
     "name": "stdout",
     "output_type": "stream",
     "text": [
      "[(array([4, 4, 4, 6, 6, 0, 6], dtype=int16), -63.70725059509277)]\n"
     ]
    },
    {
     "name": "stderr",
     "output_type": "stream",
     "text": [
      "\r",
      " 23%|█████████████████▉                                                             | 58/255 [23:58<1:23:13, 25.35s/it]"
     ]
    },
    {
     "name": "stdout",
     "output_type": "stream",
     "text": [
      "[(array([2, 0, 4, 2, 2], dtype=int16), -66.11412620544434)]\n"
     ]
    },
    {
     "name": "stderr",
     "output_type": "stream",
     "text": [
      "\r",
      " 23%|██████████████████▋                                                              | 59/255 [23:59<58:58, 18.06s/it]"
     ]
    },
    {
     "name": "stdout",
     "output_type": "stream",
     "text": [
      "[(array([0, 1], dtype=int16), -8.511991500854492)]\n"
     ]
    },
    {
     "name": "stderr",
     "output_type": "stream",
     "text": [
      "\r",
      " 24%|██████████████████▌                                                            | 60/255 [24:28<1:09:10, 21.29s/it]"
     ]
    },
    {
     "name": "stdout",
     "output_type": "stream",
     "text": [
      "[(array([6, 3, 6, 0, 6, 4, 6], dtype=int16), -234.2134494781494)]\n"
     ]
    },
    {
     "name": "stderr",
     "output_type": "stream",
     "text": [
      "\r",
      " 24%|██████████████████▉                                                            | 61/255 [24:47<1:06:17, 20.50s/it]"
     ]
    },
    {
     "name": "stdout",
     "output_type": "stream",
     "text": [
      "[(array([2, 0, 2, 5, 2, 2], dtype=int16), -40.13825988769531)]\n"
     ]
    },
    {
     "name": "stderr",
     "output_type": "stream",
     "text": [
      "\r",
      " 24%|███████████████████▏                                                           | 62/255 [25:47<1:44:51, 32.60s/it]"
     ]
    },
    {
     "name": "stdout",
     "output_type": "stream",
     "text": [
      "[(array([2, 3, 0, 5, 3, 7, 5, 3, 3], dtype=int16), -138.25659370422363)]\n"
     ]
    },
    {
     "name": "stderr",
     "output_type": "stream",
     "text": [
      "\r",
      " 25%|███████████████████▌                                                           | 63/255 [26:48<2:11:37, 41.13s/it]"
     ]
    },
    {
     "name": "stdout",
     "output_type": "stream",
     "text": [
      "[(array([8, 8, 4, 0, 8, 8, 8, 4, 8], dtype=int16), -146.05942726135254)]\n"
     ]
    },
    {
     "name": "stderr",
     "output_type": "stream",
     "text": [
      "\r",
      " 25%|███████████████████▊                                                           | 64/255 [27:31<2:12:41, 41.68s/it]"
     ]
    },
    {
     "name": "stdout",
     "output_type": "stream",
     "text": [
      "[(array([2, 0, 5, 5, 2, 7, 5, 7], dtype=int16), -212.36495876312256)]\n"
     ]
    },
    {
     "name": "stderr",
     "output_type": "stream",
     "text": [
      "\r",
      " 25%|████████████████████▏                                                          | 65/255 [27:42<1:42:23, 32.33s/it]"
     ]
    },
    {
     "name": "stdout",
     "output_type": "stream",
     "text": [
      "[(array([2, 0, 4, 2, 2], dtype=int16), 25.46737766265869)]\n"
     ]
    },
    {
     "name": "stderr",
     "output_type": "stream",
     "text": [
      "\r",
      " 26%|████████████████████▍                                                          | 66/255 [28:43<2:09:06, 40.99s/it]"
     ]
    },
    {
     "name": "stdout",
     "output_type": "stream",
     "text": [
      "[(array([3, 3, 8, 3, 3, 3, 8, 0, 8], dtype=int16), 275.94163703918457)]\n"
     ]
    },
    {
     "name": "stderr",
     "output_type": "stream",
     "text": [
      "\r",
      " 26%|████████████████████▊                                                          | 67/255 [29:12<1:56:45, 37.26s/it]"
     ]
    },
    {
     "name": "stdout",
     "output_type": "stream",
     "text": [
      "[(array([3, 3, 0, 6, 6, 3, 3], dtype=int16), -3.957545280456543)]\n"
     ]
    },
    {
     "name": "stderr",
     "output_type": "stream",
     "text": [
      "\r",
      " 27%|█████████████████████                                                          | 68/255 [29:29<1:37:46, 31.37s/it]"
     ]
    },
    {
     "name": "stdout",
     "output_type": "stream",
     "text": [
      "[(array([2, 0, 4, 2, 2, 2], dtype=int16), 30.67875576019287)]\n"
     ]
    },
    {
     "name": "stderr",
     "output_type": "stream",
     "text": [
      "\r",
      " 27%|█████████████████████▍                                                         | 69/255 [29:32<1:10:31, 22.75s/it]"
     ]
    },
    {
     "name": "stdout",
     "output_type": "stream",
     "text": [
      "[(array([2, 0, 2], dtype=int16), -28.572702407836914)]\n"
     ]
    },
    {
     "name": "stderr",
     "output_type": "stream",
     "text": [
      "\r",
      " 27%|██████████████████████▏                                                          | 70/255 [29:33<50:03, 16.24s/it]"
     ]
    },
    {
     "name": "stdout",
     "output_type": "stream",
     "text": [
      "[(array([2, 0], dtype=int16), -46.417232513427734)]\n"
     ]
    },
    {
     "name": "stderr",
     "output_type": "stream",
     "text": [
      "\r",
      " 28%|█████████████████████▉                                                         | 71/255 [30:01<1:00:47, 19.82s/it]"
     ]
    },
    {
     "name": "stdout",
     "output_type": "stream",
     "text": [
      "[(array([2, 0, 6, 2, 6, 2, 2], dtype=int16), -147.23870944976807)]\n"
     ]
    },
    {
     "name": "stderr",
     "output_type": "stream",
     "text": [
      "\r",
      " 28%|██████████████████████▎                                                        | 72/255 [30:29<1:08:02, 22.31s/it]"
     ]
    },
    {
     "name": "stdout",
     "output_type": "stream",
     "text": [
      "[(array([5, 5, 5, 3, 0, 5, 5], dtype=int16), -52.294859886169434)]\n"
     ]
    },
    {
     "name": "stderr",
     "output_type": "stream",
     "text": [
      "\r",
      " 29%|██████████████████████▌                                                        | 73/255 [30:57<1:12:41, 23.96s/it]"
     ]
    },
    {
     "name": "stdout",
     "output_type": "stream",
     "text": [
      "[(array([3, 1, 0, 5, 3, 3, 3], dtype=int16), -204.52375507354736)]\n"
     ]
    },
    {
     "name": "stderr",
     "output_type": "stream",
     "text": [
      "\r",
      " 29%|██████████████████████▉                                                        | 74/255 [31:25<1:16:01, 25.20s/it]"
     ]
    },
    {
     "name": "stdout",
     "output_type": "stream",
     "text": [
      "[(array([2, 5, 2, 5, 0, 5, 5], dtype=int16), 9.810072898864746)]\n"
     ]
    },
    {
     "name": "stderr",
     "output_type": "stream",
     "text": [
      "\r",
      " 29%|███████████████████████▏                                                       | 75/255 [31:53<1:18:05, 26.03s/it]"
     ]
    },
    {
     "name": "stdout",
     "output_type": "stream",
     "text": [
      "[(array([2, 5, 2, 5, 0, 5, 5], dtype=int16), 9.810072898864746)]\n"
     ]
    },
    {
     "name": "stderr",
     "output_type": "stream",
     "text": [
      "\r",
      " 30%|███████████████████████▌                                                       | 76/255 [32:04<1:03:40, 21.35s/it]"
     ]
    },
    {
     "name": "stdout",
     "output_type": "stream",
     "text": [
      "[(array([4, 4, 4, 0, 4], dtype=int16), -158.19549942016602)]\n"
     ]
    },
    {
     "name": "stderr",
     "output_type": "stream",
     "text": [
      "\r",
      " 30%|████████████████████████▍                                                        | 77/255 [32:04<44:37, 15.04s/it]"
     ]
    },
    {
     "name": "stdout",
     "output_type": "stream",
     "text": [
      "[(array([0], dtype=int16), -6.770124435424805)]\n"
     ]
    },
    {
     "name": "stderr",
     "output_type": "stream",
     "text": [
      "\r",
      " 31%|████████████████████████▊                                                        | 78/255 [32:04<31:20, 10.62s/it]"
     ]
    },
    {
     "name": "stdout",
     "output_type": "stream",
     "text": [
      "[(array([0], dtype=int16), -6.770124435424805)]\n"
     ]
    },
    {
     "name": "stderr",
     "output_type": "stream",
     "text": [
      "\r",
      " 31%|█████████████████████████                                                        | 79/255 [32:15<31:03, 10.59s/it]"
     ]
    },
    {
     "name": "stdout",
     "output_type": "stream",
     "text": [
      "[(array([2, 0, 4, 2, 2], dtype=int16), -148.94342613220215)]\n"
     ]
    },
    {
     "name": "stderr",
     "output_type": "stream",
     "text": [
      "\r",
      " 31%|████████████████████████▊                                                      | 80/255 [33:17<1:15:49, 26.00s/it]"
     ]
    },
    {
     "name": "stdout",
     "output_type": "stream",
     "text": [
      "[(array([3, 3, 6, 6, 6, 0, 8, 6, 6], dtype=int16), 199.24769592285156)]\n"
     ]
    },
    {
     "name": "stderr",
     "output_type": "stream",
     "text": [
      "\r",
      " 32%|█████████████████████████                                                      | 81/255 [34:17<1:45:30, 36.38s/it]"
     ]
    },
    {
     "name": "stdout",
     "output_type": "stream",
     "text": [
      "[(array([3, 3, 0, 5, 3, 8, 8, 3, 3], dtype=int16), -64.82843112945557)]\n"
     ]
    },
    {
     "name": "stderr",
     "output_type": "stream",
     "text": [
      "\r",
      " 32%|█████████████████████████▍                                                     | 82/255 [34:36<1:29:47, 31.14s/it]"
     ]
    },
    {
     "name": "stdout",
     "output_type": "stream",
     "text": [
      "[(array([2, 3, 0, 5, 3, 3], dtype=int16), -47.095863342285156)]\n"
     ]
    },
    {
     "name": "stderr",
     "output_type": "stream",
     "text": [
      "\r",
      " 33%|█████████████████████████▋                                                     | 83/255 [34:42<1:07:23, 23.51s/it]"
     ]
    },
    {
     "name": "stdout",
     "output_type": "stream",
     "text": [
      "[(array([0, 3, 1, 1], dtype=int16), -94.50948715209961)]\n"
     ]
    },
    {
     "name": "stderr",
     "output_type": "stream",
     "text": [
      "\r",
      " 33%|██████████████████████████                                                     | 84/255 [35:50<1:44:45, 36.76s/it]"
     ]
    },
    {
     "name": "stdout",
     "output_type": "stream",
     "text": [
      "[(array([3, 3, 0, 5, 3, 5, 8, 5, 3], dtype=int16), -56.462331771850586)]\n"
     ]
    },
    {
     "name": "stderr",
     "output_type": "stream",
     "text": [
      "\r",
      " 33%|██████████████████████████▎                                                    | 85/255 [36:51<2:05:08, 44.17s/it]"
     ]
    },
    {
     "name": "stdout",
     "output_type": "stream",
     "text": [
      "[(array([2, 0, 5, 5, 6, 2, 8, 6, 2], dtype=int16), 115.33935070037842)]\n"
     ]
    },
    {
     "name": "stderr",
     "output_type": "stream",
     "text": [
      "\r",
      " 34%|██████████████████████████▋                                                    | 86/255 [37:33<2:02:31, 43.50s/it]"
     ]
    },
    {
     "name": "stdout",
     "output_type": "stream",
     "text": [
      "[(array([4, 7, 4, 7, 7, 7, 0, 7], dtype=int16), -53.07006072998047)]\n"
     ]
    },
    {
     "name": "stderr",
     "output_type": "stream",
     "text": [
      "\r",
      " 34%|██████████████████████████▉                                                    | 87/255 [38:03<1:50:02, 39.30s/it]"
     ]
    },
    {
     "name": "stdout",
     "output_type": "stream",
     "text": [
      "[(array([2, 6, 2, 6, 6, 0, 6], dtype=int16), -48.97237014770508)]\n"
     ]
    },
    {
     "name": "stderr",
     "output_type": "stream",
     "text": [
      "\r",
      " 35%|███████████████████████████▎                                                   | 88/255 [39:03<2:06:39, 45.51s/it]"
     ]
    },
    {
     "name": "stdout",
     "output_type": "stream",
     "text": [
      "[(array([7, 1, 7, 7, 7, 7, 0, 7, 7], dtype=int16), -186.15621185302734)]\n"
     ]
    },
    {
     "name": "stderr",
     "output_type": "stream",
     "text": [
      "\r",
      " 35%|███████████████████████████▌                                                   | 89/255 [39:44<2:02:40, 44.34s/it]"
     ]
    },
    {
     "name": "stdout",
     "output_type": "stream",
     "text": [
      "[(array([0, 6, 6, 6, 6, 1, 8, 6], dtype=int16), -103.93814086914062)]\n"
     ]
    },
    {
     "name": "stderr",
     "output_type": "stream",
     "text": [
      "\r",
      " 35%|███████████████████████████▉                                                   | 90/255 [39:50<1:29:54, 32.70s/it]"
     ]
    },
    {
     "name": "stdout",
     "output_type": "stream",
     "text": [
      "[(array([0, 3, 1, 1], dtype=int16), -51.69460964202881)]\n"
     ]
    },
    {
     "name": "stderr",
     "output_type": "stream",
     "text": [
      "\r",
      " 36%|████████████████████████████▏                                                  | 91/255 [40:31<1:36:44, 35.39s/it]"
     ]
    },
    {
     "name": "stdout",
     "output_type": "stream",
     "text": [
      "[(array([0, 7, 5, 5, 7, 7, 1, 5], dtype=int16), -147.81563472747803)]\n"
     ]
    },
    {
     "name": "stderr",
     "output_type": "stream",
     "text": [
      "\r",
      " 36%|████████████████████████████▌                                                  | 92/255 [40:37<1:11:48, 26.43s/it]"
     ]
    },
    {
     "name": "stdout",
     "output_type": "stream",
     "text": [
      "[(array([3, 3, 0, 3], dtype=int16), -14.053327560424805)]\n"
     ]
    },
    {
     "name": "stderr",
     "output_type": "stream",
     "text": [
      "\r",
      " 36%|████████████████████████████▊                                                  | 93/255 [41:19<1:23:49, 31.05s/it]"
     ]
    },
    {
     "name": "stdout",
     "output_type": "stream",
     "text": [
      "[(array([4, 4, 4, 7, 7, 7, 0, 7], dtype=int16), -293.84423637390137)]\n"
     ]
    },
    {
     "name": "stderr",
     "output_type": "stream",
     "text": [
      "\r",
      " 37%|█████████████████████████████                                                  | 94/255 [41:36<1:12:21, 26.97s/it]"
     ]
    },
    {
     "name": "stdout",
     "output_type": "stream",
     "text": [
      "[(array([0, 4, 4, 1, 6, 4], dtype=int16), 348.13332748413086)]\n"
     ]
    },
    {
     "name": "stderr",
     "output_type": "stream",
     "text": [
      "\r",
      " 37%|██████████████████████████████▏                                                  | 95/255 [41:36<50:37, 18.98s/it]"
     ]
    },
    {
     "name": "stdout",
     "output_type": "stream",
     "text": [
      "[(array([0], dtype=int16), -6.7701263427734375)]\n"
     ]
    },
    {
     "name": "stderr",
     "output_type": "stream",
     "text": [
      "\r",
      " 38%|█████████████████████████████▋                                                 | 96/255 [42:38<1:23:52, 31.65s/it]"
     ]
    },
    {
     "name": "stdout",
     "output_type": "stream",
     "text": [
      "[(array([5, 5, 5, 5, 0, 5, 8, 5, 5], dtype=int16), -154.47074508666992)]\n"
     ]
    },
    {
     "name": "stderr",
     "output_type": "stream",
     "text": [
      "\r",
      " 38%|██████████████████████████████                                                 | 97/255 [43:19<1:31:20, 34.69s/it]"
     ]
    },
    {
     "name": "stdout",
     "output_type": "stream",
     "text": [
      "[(array([4, 4, 4, 0, 6, 4, 1, 4], dtype=int16), -161.15764713287354)]\n"
     ]
    },
    {
     "name": "stderr",
     "output_type": "stream",
     "text": [
      "\r",
      " 38%|██████████████████████████████▎                                                | 98/255 [43:22<1:05:35, 25.07s/it]"
     ]
    },
    {
     "name": "stdout",
     "output_type": "stream",
     "text": [
      "[(array([0, 1, 1], dtype=int16), -29.89072895050049)]\n"
     ]
    },
    {
     "name": "stderr",
     "output_type": "stream",
     "text": [
      "\r",
      " 39%|██████████████████████████████▋                                                | 99/255 [43:50<1:07:19, 25.90s/it]"
     ]
    },
    {
     "name": "stdout",
     "output_type": "stream",
     "text": [
      "[(array([6, 5, 5, 5, 0, 5, 5], dtype=int16), -373.6126136779785)]\n"
     ]
    },
    {
     "name": "stderr",
     "output_type": "stream",
     "text": [
      "\r",
      " 39%|███████████████████████████████▎                                                | 100/255 [43:53<49:01, 18.98s/it]"
     ]
    },
    {
     "name": "stdout",
     "output_type": "stream",
     "text": [
      "[(array([0, 1, 1], dtype=int16), -14.639002799987793)]\n"
     ]
    },
    {
     "name": "stderr",
     "output_type": "stream",
     "text": [
      "\r",
      " 40%|███████████████████████████████▋                                                | 101/255 [44:10<47:36, 18.55s/it]"
     ]
    },
    {
     "name": "stdout",
     "output_type": "stream",
     "text": [
      "[(array([0, 3, 1, 5, 1, 1], dtype=int16), -84.96236419677734)]\n"
     ]
    },
    {
     "name": "stderr",
     "output_type": "stream",
     "text": [
      "\r",
      " 40%|████████████████████████████████                                                | 102/255 [44:28<46:28, 18.23s/it]"
     ]
    },
    {
     "name": "stdout",
     "output_type": "stream",
     "text": [
      "[(array([0, 3, 1, 5, 3, 1], dtype=int16), -196.16018676757812)]\n"
     ]
    },
    {
     "name": "stderr",
     "output_type": "stream",
     "text": [
      "\r",
      " 40%|████████████████████████████████▎                                               | 103/255 [44:33<36:30, 14.41s/it]"
     ]
    },
    {
     "name": "stdout",
     "output_type": "stream",
     "text": [
      "[(array([0, 3, 1, 1], dtype=int16), -83.83464241027832)]\n"
     ]
    },
    {
     "name": "stderr",
     "output_type": "stream",
     "text": [
      "\r",
      " 41%|████████████████████████████████▋                                               | 104/255 [44:51<38:33, 15.32s/it]"
     ]
    },
    {
     "name": "stdout",
     "output_type": "stream",
     "text": [
      "[(array([0, 5, 4, 1, 1, 5], dtype=int16), -30.41847324371338)]\n"
     ]
    },
    {
     "name": "stderr",
     "output_type": "stream",
     "text": [
      "\r",
      " 41%|████████████████████████████████▉                                               | 105/255 [45:09<40:18, 16.12s/it]"
     ]
    },
    {
     "name": "stdout",
     "output_type": "stream",
     "text": [
      "[(array([0, 4, 4, 1, 6, 4], dtype=int16), 362.89729499816895)]\n"
     ]
    },
    {
     "name": "stderr",
     "output_type": "stream",
     "text": [
      "\r",
      " 42%|█████████████████████████████████▎                                              | 106/255 [45:26<41:04, 16.54s/it]"
     ]
    },
    {
     "name": "stdout",
     "output_type": "stream",
     "text": [
      "[(array([3, 3, 0, 3, 3, 3], dtype=int16), -50.75829601287842)]\n"
     ]
    },
    {
     "name": "stderr",
     "output_type": "stream",
     "text": [
      "\r",
      " 42%|████████████████████████████████▋                                             | 107/255 [46:12<1:02:30, 25.34s/it]"
     ]
    },
    {
     "name": "stdout",
     "output_type": "stream",
     "text": [
      "[(array([6, 5, 5, 5, 6, 0, 6, 5], dtype=int16), -189.2701301574707)]\n"
     ]
    },
    {
     "name": "stderr",
     "output_type": "stream",
     "text": [
      "\r",
      " 42%|█████████████████████████████████▉                                              | 108/255 [46:22<51:04, 20.84s/it]"
     ]
    },
    {
     "name": "stdout",
     "output_type": "stream",
     "text": [
      "[(array([3, 4, 4, 0, 4], dtype=int16), -167.6317901611328)]\n"
     ]
    },
    {
     "name": "stderr",
     "output_type": "stream",
     "text": [
      "\r",
      " 43%|██████████████████████████████████▏                                             | 109/255 [46:29<40:16, 16.55s/it]"
     ]
    },
    {
     "name": "stdout",
     "output_type": "stream",
     "text": [
      "[(array([0, 1, 1, 1], dtype=int16), -114.2257490158081)]\n"
     ]
    },
    {
     "name": "stderr",
     "output_type": "stream",
     "text": [
      "\r",
      " 43%|██████████████████████████████████▌                                             | 110/255 [46:32<30:00, 12.42s/it]"
     ]
    },
    {
     "name": "stdout",
     "output_type": "stream",
     "text": [
      "[(array([0, 3, 1], dtype=int16), -48.1386079788208)]\n"
     ]
    },
    {
     "name": "stderr",
     "output_type": "stream",
     "text": [
      "\r",
      " 44%|██████████████████████████████████▊                                             | 111/255 [46:38<25:26, 10.60s/it]"
     ]
    },
    {
     "name": "stdout",
     "output_type": "stream",
     "text": [
      "[(array([0, 3, 1, 3], dtype=int16), -141.7404556274414)]\n"
     ]
    },
    {
     "name": "stderr",
     "output_type": "stream",
     "text": [
      "\r",
      " 44%|███████████████████████████████████▏                                            | 112/255 [46:49<25:41, 10.78s/it]"
     ]
    },
    {
     "name": "stdout",
     "output_type": "stream",
     "text": [
      "[(array([3, 3, 0, 5, 3], dtype=int16), -62.515005111694336)]\n"
     ]
    },
    {
     "name": "stderr",
     "output_type": "stream",
     "text": [
      "\r",
      " 44%|███████████████████████████████████▍                                            | 113/255 [46:56<22:46,  9.62s/it]"
     ]
    },
    {
     "name": "stdout",
     "output_type": "stream",
     "text": [
      "[(array([3, 3, 0, 3], dtype=int16), -216.19050788879395)]\n"
     ]
    },
    {
     "name": "stderr",
     "output_type": "stream",
     "text": [
      "\r",
      " 45%|███████████████████████████████████▊                                            | 114/255 [46:57<16:40,  7.09s/it]"
     ]
    },
    {
     "name": "stdout",
     "output_type": "stream",
     "text": [
      "[(array([2, 0], dtype=int16), -39.402488708496094)]\n"
     ]
    },
    {
     "name": "stderr",
     "output_type": "stream",
     "text": [
      "\r",
      " 45%|████████████████████████████████████                                            | 115/255 [47:09<19:30,  8.36s/it]"
     ]
    },
    {
     "name": "stdout",
     "output_type": "stream",
     "text": [
      "[(array([3, 1, 0, 3, 1], dtype=int16), -98.62771606445312)]\n"
     ]
    },
    {
     "name": "stderr",
     "output_type": "stream",
     "text": [
      "\r",
      " 45%|████████████████████████████████████▍                                           | 116/255 [47:54<44:56, 19.40s/it]"
     ]
    },
    {
     "name": "stdout",
     "output_type": "stream",
     "text": [
      "[(array([0, 1, 1, 7, 3, 1, 3, 1], dtype=int16), -190.77953624725342)]\n"
     ]
    },
    {
     "name": "stderr",
     "output_type": "stream",
     "text": [
      "\r",
      " 46%|████████████████████████████████████▋                                           | 117/255 [48:12<43:30, 18.91s/it]"
     ]
    },
    {
     "name": "stdout",
     "output_type": "stream",
     "text": [
      "[(array([3, 3, 0, 5, 3, 3], dtype=int16), -147.9871425628662)]\n"
     ]
    },
    {
     "name": "stderr",
     "output_type": "stream",
     "text": [
      "\r",
      " 46%|█████████████████████████████████████                                           | 118/255 [48:17<34:02, 14.91s/it]"
     ]
    },
    {
     "name": "stdout",
     "output_type": "stream",
     "text": [
      "[(array([2, 0, 1, 1], dtype=int16), -148.7898998260498)]\n"
     ]
    },
    {
     "name": "stderr",
     "output_type": "stream",
     "text": [
      "\r",
      " 47%|█████████████████████████████████████▎                                          | 119/255 [48:18<24:20, 10.74s/it]"
     ]
    },
    {
     "name": "stdout",
     "output_type": "stream",
     "text": [
      "[(array([0, 1], dtype=int16), -89.62084197998047)]\n"
     ]
    },
    {
     "name": "stderr",
     "output_type": "stream",
     "text": [
      "\r",
      " 47%|█████████████████████████████████████▋                                          | 120/255 [48:36<28:46, 12.79s/it]"
     ]
    },
    {
     "name": "stdout",
     "output_type": "stream",
     "text": [
      "[(array([2, 0, 2, 5, 2, 2], dtype=int16), -4.840778350830078)]\n"
     ]
    },
    {
     "name": "stderr",
     "output_type": "stream",
     "text": [
      "\r",
      " 47%|█████████████████████████████████████▉                                          | 121/255 [48:53<31:44, 14.22s/it]"
     ]
    },
    {
     "name": "stdout",
     "output_type": "stream",
     "text": [
      "[(array([0, 4, 4, 1, 6, 4], dtype=int16), 369.19936084747314)]\n"
     ]
    },
    {
     "name": "stderr",
     "output_type": "stream",
     "text": [
      "\r",
      " 48%|██████████████████████████████████████▎                                         | 122/255 [49:04<28:54, 13.04s/it]"
     ]
    },
    {
     "name": "stdout",
     "output_type": "stream",
     "text": [
      "[(array([0, 3, 1, 3, 1], dtype=int16), -18.503426551818848)]\n"
     ]
    },
    {
     "name": "stderr",
     "output_type": "stream",
     "text": [
      "\r",
      " 48%|██████████████████████████████████████▌                                         | 123/255 [49:06<21:48,  9.91s/it]"
     ]
    },
    {
     "name": "stdout",
     "output_type": "stream",
     "text": [
      "[(array([0, 1, 1], dtype=int16), -50.302846908569336)]\n"
     ]
    },
    {
     "name": "stderr",
     "output_type": "stream",
     "text": [
      "\r",
      " 49%|██████████████████████████████████████▉                                         | 124/255 [49:17<21:54, 10.03s/it]"
     ]
    },
    {
     "name": "stdout",
     "output_type": "stream",
     "text": [
      "[(array([0, 3, 1, 3, 1], dtype=int16), -18.50336265563965)]\n"
     ]
    },
    {
     "name": "stderr",
     "output_type": "stream",
     "text": [
      "\r",
      " 49%|███████████████████████████████████████▏                                        | 125/255 [49:27<21:54, 10.11s/it]"
     ]
    },
    {
     "name": "stdout",
     "output_type": "stream",
     "text": [
      "[(array([0, 3, 1, 5, 1], dtype=int16), -32.860517501831055)]\n"
     ]
    },
    {
     "name": "stderr",
     "output_type": "stream",
     "text": [
      "\r",
      " 49%|███████████████████████████████████████▌                                        | 126/255 [49:37<21:57, 10.21s/it]"
     ]
    },
    {
     "name": "stdout",
     "output_type": "stream",
     "text": [
      "[(array([0, 3, 1, 3, 1], dtype=int16), -18.50336265563965)]\n"
     ]
    },
    {
     "name": "stderr",
     "output_type": "stream",
     "text": [
      "\r",
      " 50%|███████████████████████████████████████▊                                        | 127/255 [50:19<41:56, 19.66s/it]"
     ]
    },
    {
     "name": "stdout",
     "output_type": "stream",
     "text": [
      "[(array([2, 0, 7, 7, 6, 7, 2, 2], dtype=int16), -59.21164798736572)]\n"
     ]
    },
    {
     "name": "stderr",
     "output_type": "stream",
     "text": [
      "\r",
      " 50%|████████████████████████████████████████▏                                       | 128/255 [50:29<35:38, 16.84s/it]"
     ]
    },
    {
     "name": "stdout",
     "output_type": "stream",
     "text": [
      "[(array([0, 3, 1, 3, 1], dtype=int16), -18.50336265563965)]\n"
     ]
    },
    {
     "name": "stderr",
     "output_type": "stream",
     "text": [
      "\r",
      " 51%|████████████████████████████████████████▍                                       | 129/255 [50:47<36:00, 17.15s/it]"
     ]
    },
    {
     "name": "stdout",
     "output_type": "stream",
     "text": [
      "[(array([2, 3, 0, 5, 3, 3], dtype=int16), -13.224489212036133)]\n"
     ]
    },
    {
     "name": "stderr",
     "output_type": "stream",
     "text": [
      "\r",
      " 51%|████████████████████████████████████████▊                                       | 130/255 [50:58<31:35, 15.16s/it]"
     ]
    },
    {
     "name": "stdout",
     "output_type": "stream",
     "text": [
      "[(array([0, 3, 1, 3, 1], dtype=int16), -18.50336265563965)]\n"
     ]
    },
    {
     "name": "stderr",
     "output_type": "stream",
     "text": [
      "\r",
      " 51%|█████████████████████████████████████████                                       | 131/255 [51:15<32:50, 15.89s/it]"
     ]
    },
    {
     "name": "stdout",
     "output_type": "stream",
     "text": [
      "[(array([2, 0, 4, 2, 6, 4], dtype=int16), -17.52479839324951)]\n"
     ]
    },
    {
     "name": "stderr",
     "output_type": "stream",
     "text": [
      "\r",
      " 52%|█████████████████████████████████████████▍                                      | 132/255 [51:33<33:29, 16.34s/it]"
     ]
    },
    {
     "name": "stdout",
     "output_type": "stream",
     "text": [
      "[(array([0, 1, 2, 5, 1, 1], dtype=int16), -81.79160976409912)]\n"
     ]
    },
    {
     "name": "stderr",
     "output_type": "stream",
     "text": [
      "\r",
      " 52%|█████████████████████████████████████████▋                                      | 133/255 [51:43<29:31, 14.52s/it]"
     ]
    },
    {
     "name": "stdout",
     "output_type": "stream",
     "text": [
      "[(array([0, 3, 1, 3, 1], dtype=int16), -18.503426551818848)]\n"
     ]
    },
    {
     "name": "stderr",
     "output_type": "stream",
     "text": [
      "\r",
      " 53%|██████████████████████████████████████████                                      | 134/255 [51:43<20:42, 10.27s/it]"
     ]
    },
    {
     "name": "stdout",
     "output_type": "stream",
     "text": [
      "[(array([0], dtype=int16), -50.81216812133789)]\n"
     ]
    },
    {
     "name": "stderr",
     "output_type": "stream",
     "text": [
      "\r",
      " 53%|██████████████████████████████████████████▎                                     | 135/255 [51:44<14:35,  7.29s/it]"
     ]
    },
    {
     "name": "stdout",
     "output_type": "stream",
     "text": [
      "[(array([0], dtype=int16), 8.901622772216797)]\n"
     ]
    },
    {
     "name": "stderr",
     "output_type": "stream",
     "text": [
      "\r",
      " 53%|██████████████████████████████████████████▋                                     | 136/255 [51:54<16:20,  8.24s/it]"
     ]
    },
    {
     "name": "stdout",
     "output_type": "stream",
     "text": [
      "[(array([0, 3, 1, 3, 1], dtype=int16), -18.503426551818848)]\n"
     ]
    },
    {
     "name": "stderr",
     "output_type": "stream",
     "text": [
      "\r",
      " 54%|██████████████████████████████████████████▉                                     | 137/255 [51:54<11:32,  5.87s/it]"
     ]
    },
    {
     "name": "stdout",
     "output_type": "stream",
     "text": [
      "[(array([0], dtype=int16), -14.154973030090332)]\n"
     ]
    },
    {
     "name": "stderr",
     "output_type": "stream",
     "text": [
      "\r",
      " 54%|███████████████████████████████████████████▎                                    | 138/255 [52:05<14:04,  7.22s/it]"
     ]
    },
    {
     "name": "stdout",
     "output_type": "stream",
     "text": [
      "[(array([2, 4, 4, 0, 4], dtype=int16), -99.9891529083252)]\n"
     ]
    },
    {
     "name": "stderr",
     "output_type": "stream",
     "text": [
      "\r",
      " 55%|███████████████████████████████████████████▌                                    | 139/255 [52:15<15:46,  8.16s/it]"
     ]
    },
    {
     "name": "stdout",
     "output_type": "stream",
     "text": [
      "[(array([0, 3, 1, 3, 1], dtype=int16), -18.503426551818848)]\n"
     ]
    },
    {
     "name": "stderr",
     "output_type": "stream",
     "text": [
      "\r",
      " 55%|███████████████████████████████████████████▉                                    | 140/255 [52:16<11:08,  5.81s/it]"
     ]
    },
    {
     "name": "stdout",
     "output_type": "stream",
     "text": [
      "[(array([0], dtype=int16), -28.623661041259766)]\n"
     ]
    },
    {
     "name": "stderr",
     "output_type": "stream",
     "text": [
      "\r",
      " 55%|████████████████████████████████████████████▏                                   | 141/255 [52:26<13:32,  7.13s/it]"
     ]
    },
    {
     "name": "stdout",
     "output_type": "stream",
     "text": [
      "[(array([0, 3, 1, 3, 1], dtype=int16), -18.503334999084473)]\n"
     ]
    },
    {
     "name": "stderr",
     "output_type": "stream",
     "text": [
      "\r",
      " 56%|████████████████████████████████████████████▌                                   | 142/255 [53:01<29:04, 15.44s/it]"
     ]
    },
    {
     "name": "stdout",
     "output_type": "stream",
     "text": [
      "[(array([2, 0, 4, 2, 7, 7, 2], dtype=int16), -86.52420997619629)]\n"
     ]
    },
    {
     "name": "stderr",
     "output_type": "stream",
     "text": [
      "\r",
      " 56%|████████████████████████████████████████████▊                                   | 143/255 [53:23<32:40, 17.51s/it]"
     ]
    },
    {
     "name": "stdout",
     "output_type": "stream",
     "text": [
      "[(array([0, 1, 1, 5, 1, 1], dtype=int16), -63.111860275268555)]\n"
     ]
    },
    {
     "name": "stderr",
     "output_type": "stream",
     "text": [
      "\r",
      " 56%|█████████████████████████████████████████████▏                                  | 144/255 [53:36<29:41, 16.05s/it]"
     ]
    },
    {
     "name": "stdout",
     "output_type": "stream",
     "text": [
      "[(array([0, 3, 1, 3, 1], dtype=int16), -18.50336265563965)]\n"
     ]
    },
    {
     "name": "stderr",
     "output_type": "stream",
     "text": [
      "\r",
      " 57%|█████████████████████████████████████████████▍                                  | 145/255 [53:50<28:41, 15.65s/it]"
     ]
    },
    {
     "name": "stdout",
     "output_type": "stream",
     "text": [
      "[(array([2, 0, 5, 5, 2], dtype=int16), -73.17780017852783)]\n"
     ]
    },
    {
     "name": "stderr",
     "output_type": "stream",
     "text": [
      "\r",
      " 57%|█████████████████████████████████████████████▊                                  | 146/255 [54:04<27:11, 14.96s/it]"
     ]
    },
    {
     "name": "stdout",
     "output_type": "stream",
     "text": [
      "[(array([0, 3, 1, 3, 1], dtype=int16), -18.503426551818848)]\n"
     ]
    },
    {
     "name": "stderr",
     "output_type": "stream",
     "text": [
      "\r",
      " 58%|██████████████████████████████████████████████                                  | 147/255 [54:27<31:33, 17.53s/it]"
     ]
    },
    {
     "name": "stdout",
     "output_type": "stream",
     "text": [
      "[(array([0, 4, 4, 1, 6, 4], dtype=int16), 226.71831703186035)]\n"
     ]
    },
    {
     "name": "stderr",
     "output_type": "stream",
     "text": [
      "\r",
      " 58%|██████████████████████████████████████████████▍                                 | 148/255 [54:51<34:42, 19.47s/it]"
     ]
    },
    {
     "name": "stdout",
     "output_type": "stream",
     "text": [
      "[(array([4, 4, 1, 0, 4, 1], dtype=int16), -47.193891525268555)]\n"
     ]
    },
    {
     "name": "stderr",
     "output_type": "stream",
     "text": [
      "\r",
      " 58%|██████████████████████████████████████████████▋                                 | 149/255 [54:58<27:58, 15.83s/it]"
     ]
    },
    {
     "name": "stdout",
     "output_type": "stream",
     "text": [
      "[(array([0, 3, 1, 1], dtype=int16), -0.9082069396972656)]\n"
     ]
    },
    {
     "name": "stderr",
     "output_type": "stream",
     "text": [
      "\r",
      " 59%|███████████████████████████████████████████████                                 | 150/255 [55:12<26:35, 15.19s/it]"
     ]
    },
    {
     "name": "stdout",
     "output_type": "stream",
     "text": [
      "[(array([0, 1, 5, 5, 1], dtype=int16), -55.03519248962402)]\n"
     ]
    },
    {
     "name": "stderr",
     "output_type": "stream",
     "text": [
      "\r",
      " 59%|███████████████████████████████████████████████▎                                | 151/255 [55:22<23:19, 13.46s/it]"
     ]
    },
    {
     "name": "stdout",
     "output_type": "stream",
     "text": [
      "[(array([0, 3, 1, 1], dtype=int16), -0.9082069396972656)]\n"
     ]
    },
    {
     "name": "stderr",
     "output_type": "stream",
     "text": [
      "\r",
      " 60%|███████████████████████████████████████████████▋                                | 152/255 [55:31<20:58, 12.22s/it]"
     ]
    },
    {
     "name": "stdout",
     "output_type": "stream",
     "text": [
      "[(array([0, 3, 1, 1], dtype=int16), -0.9082126617431641)]\n"
     ]
    },
    {
     "name": "stderr",
     "output_type": "stream",
     "text": [
      "\r",
      " 60%|████████████████████████████████████████████████                                | 153/255 [56:20<39:26, 23.20s/it]"
     ]
    },
    {
     "name": "stdout",
     "output_type": "stream",
     "text": [
      "[(array([5, 1, 5, 1, 0, 7, 5, 7], dtype=int16), -103.26944637298584)]\n"
     ]
    },
    {
     "name": "stderr",
     "output_type": "stream",
     "text": [
      "\r",
      " 60%|████████████████████████████████████████████████▎                               | 154/255 [56:48<41:25, 24.61s/it]"
     ]
    },
    {
     "name": "stdout",
     "output_type": "stream",
     "text": [
      "[(array([4, 3, 4, 0, 7, 7, 1], dtype=int16), -98.15212631225586)]\n"
     ]
    },
    {
     "name": "stderr",
     "output_type": "stream",
     "text": [
      "\r",
      " 61%|████████████████████████████████████████████████▋                               | 155/255 [57:05<37:27, 22.48s/it]"
     ]
    },
    {
     "name": "stdout",
     "output_type": "stream",
     "text": [
      "[(array([0, 4, 4, 1, 6, 4], dtype=int16), 306.3125591278076)]\n"
     ]
    },
    {
     "name": "stderr",
     "output_type": "stream",
     "text": [
      "\r",
      " 61%|████████████████████████████████████████████████▉                               | 156/255 [57:05<26:08, 15.84s/it]"
     ]
    },
    {
     "name": "stdout",
     "output_type": "stream",
     "text": [
      "[(array([0], dtype=int16), -39.61559295654297)]\n"
     ]
    },
    {
     "name": "stderr",
     "output_type": "stream",
     "text": [
      "\r",
      " 62%|█████████████████████████████████████████████████▎                              | 157/255 [57:08<19:23, 11.87s/it]"
     ]
    },
    {
     "name": "stdout",
     "output_type": "stream",
     "text": [
      "[(array([0, 1, 1], dtype=int16), 3.746964454650879)]\n"
     ]
    },
    {
     "name": "stderr",
     "output_type": "stream",
     "text": [
      "\r",
      " 62%|█████████████████████████████████████████████████▌                              | 158/255 [57:09<13:56,  8.62s/it]"
     ]
    },
    {
     "name": "stdout",
     "output_type": "stream",
     "text": [
      "[(array([0, 1], dtype=int16), -48.43818473815918)]\n"
     ]
    },
    {
     "name": "stderr",
     "output_type": "stream",
     "text": [
      "\r",
      " 62%|█████████████████████████████████████████████████▉                              | 159/255 [57:15<12:22,  7.73s/it]"
     ]
    },
    {
     "name": "stdout",
     "output_type": "stream",
     "text": [
      "[(array([2, 0, 4, 2], dtype=int16), 151.94210243225098)]\n"
     ]
    },
    {
     "name": "stderr",
     "output_type": "stream",
     "text": [
      "\r",
      " 63%|██████████████████████████████████████████████████▏                             | 160/255 [57:15<08:43,  5.51s/it]"
     ]
    },
    {
     "name": "stdout",
     "output_type": "stream",
     "text": [
      "[(array([0], dtype=int16), -43.50286102294922)]\n"
     ]
    },
    {
     "name": "stderr",
     "output_type": "stream",
     "text": [
      "\r",
      " 63%|██████████████████████████████████████████████████▌                             | 161/255 [57:15<06:11,  3.95s/it]"
     ]
    },
    {
     "name": "stdout",
     "output_type": "stream",
     "text": [
      "[(array([0], dtype=int16), -15.696906089782715)]\n"
     ]
    },
    {
     "name": "stderr",
     "output_type": "stream",
     "text": [
      "\r",
      " 64%|██████████████████████████████████████████████████▊                             | 162/255 [57:16<04:45,  3.07s/it]"
     ]
    },
    {
     "name": "stdout",
     "output_type": "stream",
     "text": [
      "[(array([2, 0], dtype=int16), -25.96731185913086)]\n"
     ]
    },
    {
     "name": "stderr",
     "output_type": "stream",
     "text": [
      "\r",
      " 64%|███████████████████████████████████████████████████▏                            | 163/255 [57:19<04:30,  2.94s/it]"
     ]
    },
    {
     "name": "stdout",
     "output_type": "stream",
     "text": [
      "[(array([0, 3, 1], dtype=int16), -60.39206886291504)]\n"
     ]
    },
    {
     "name": "stderr",
     "output_type": "stream",
     "text": [
      "\r",
      " 64%|███████████████████████████████████████████████████▍                            | 164/255 [57:20<03:35,  2.37s/it]"
     ]
    },
    {
     "name": "stdout",
     "output_type": "stream",
     "text": [
      "[(array([0, 1], dtype=int16), -48.56698799133301)]\n"
     ]
    },
    {
     "name": "stderr",
     "output_type": "stream",
     "text": [
      "\r",
      " 65%|███████████████████████████████████████████████████▊                            | 165/255 [57:20<02:37,  1.75s/it]"
     ]
    },
    {
     "name": "stdout",
     "output_type": "stream",
     "text": [
      "[(array([0], dtype=int16), -34.802215576171875)]\n"
     ]
    },
    {
     "name": "stderr",
     "output_type": "stream",
     "text": [
      "\r",
      " 65%|████████████████████████████████████████████████████                            | 166/255 [57:21<01:57,  1.32s/it]"
     ]
    },
    {
     "name": "stdout",
     "output_type": "stream",
     "text": [
      "[(array([0], dtype=int16), -8.490164756774902)]\n"
     ]
    },
    {
     "name": "stderr",
     "output_type": "stream",
     "text": [
      "\r",
      " 65%|████████████████████████████████████████████████████▍                           | 167/255 [57:21<01:30,  1.03s/it]"
     ]
    },
    {
     "name": "stdout",
     "output_type": "stream",
     "text": [
      "[(array([0], dtype=int16), -20.43378448486328)]\n"
     ]
    },
    {
     "name": "stderr",
     "output_type": "stream",
     "text": [
      "\r",
      " 66%|████████████████████████████████████████████████████▋                           | 168/255 [57:22<01:31,  1.05s/it]"
     ]
    },
    {
     "name": "stdout",
     "output_type": "stream",
     "text": [
      "[(array([2, 0], dtype=int16), -89.8062744140625)]\n"
     ]
    },
    {
     "name": "stderr",
     "output_type": "stream",
     "text": [
      "\r",
      " 66%|█████████████████████████████████████████████████████                           | 169/255 [57:50<12:58,  9.06s/it]"
     ]
    },
    {
     "name": "stdout",
     "output_type": "stream",
     "text": [
      "[(array([0, 1, 4, 7, 7, 7, 1], dtype=int16), -60.892940521240234)]\n"
     ]
    },
    {
     "name": "stderr",
     "output_type": "stream",
     "text": [
      "\r",
      " 67%|█████████████████████████████████████████████████████▎                          | 170/255 [58:32<26:52, 18.97s/it]"
     ]
    },
    {
     "name": "stdout",
     "output_type": "stream",
     "text": [
      "[(array([2, 5, 2, 5, 0, 5, 5, 5], dtype=int16), 65.0988826751709)]\n"
     ]
    },
    {
     "name": "stderr",
     "output_type": "stream",
     "text": [
      "\r",
      " 67%|█████████████████████████████████████████████████████▋                          | 171/255 [58:32<18:43, 13.38s/it]"
     ]
    },
    {
     "name": "stdout",
     "output_type": "stream",
     "text": [
      "[(array([0], dtype=int16), -26.767532348632812)]\n"
     ]
    },
    {
     "name": "stderr",
     "output_type": "stream",
     "text": [
      "\r",
      " 67%|█████████████████████████████████████████████████████▉                          | 172/255 [59:33<38:11, 27.61s/it]"
     ]
    },
    {
     "name": "stdout",
     "output_type": "stream",
     "text": [
      "[(array([8, 1, 8, 5, 0, 7, 5, 5, 8], dtype=int16), -174.39044666290283)]\n"
     ]
    },
    {
     "name": "stderr",
     "output_type": "stream",
     "text": [
      "\r",
      " 68%|████████████████████████████████████████████████████▉                         | 173/255 [1:00:34<51:18, 37.54s/it]"
     ]
    },
    {
     "name": "stdout",
     "output_type": "stream",
     "text": [
      "[(array([4, 4, 4, 0, 6, 4, 8, 6, 4], dtype=int16), -183.09688186645508)]\n"
     ]
    },
    {
     "name": "stderr",
     "output_type": "stream",
     "text": [
      "\r",
      " 68%|█████████████████████████████████████████████████████▏                        | 174/255 [1:01:34<59:42, 44.23s/it]"
     ]
    },
    {
     "name": "stdout",
     "output_type": "stream",
     "text": [
      "[(array([0, 1, 4, 1, 4, 7, 4, 4, 1], dtype=int16), -117.10605525970459)]\n"
     ]
    },
    {
     "name": "stderr",
     "output_type": "stream",
     "text": [
      "\r",
      " 69%|█████████████████████████████████████████████████████▌                        | 175/255 [1:02:17<58:28, 43.85s/it]"
     ]
    },
    {
     "name": "stdout",
     "output_type": "stream",
     "text": [
      "[(array([2, 7, 2, 5, 7, 7, 0, 7], dtype=int16), -0.9273271560668945)]\n"
     ]
    },
    {
     "name": "stderr",
     "output_type": "stream",
     "text": [
      "\r",
      " 69%|█████████████████████████████████████████████████████▊                        | 176/255 [1:02:17<40:33, 30.81s/it]"
     ]
    },
    {
     "name": "stdout",
     "output_type": "stream",
     "text": [
      "[(array([0], dtype=int16), -28.984397888183594)]\n"
     ]
    },
    {
     "name": "stderr",
     "output_type": "stream",
     "text": [
      "\r",
      " 69%|██████████████████████████████████████████████████████▏                       | 177/255 [1:02:59<44:17, 34.07s/it]"
     ]
    },
    {
     "name": "stdout",
     "output_type": "stream",
     "text": [
      "[(array([3, 3, 0, 5, 3, 5, 8, 5], dtype=int16), -67.46167469024658)]\n"
     ]
    },
    {
     "name": "stderr",
     "output_type": "stream",
     "text": [
      "\r",
      " 70%|██████████████████████████████████████████████████████▍                       | 178/255 [1:02:59<30:44, 23.95s/it]"
     ]
    },
    {
     "name": "stdout",
     "output_type": "stream",
     "text": [
      "[(array([0], dtype=int16), -8.490154266357422)]\n"
     ]
    },
    {
     "name": "stderr",
     "output_type": "stream",
     "text": [
      "\r",
      " 70%|██████████████████████████████████████████████████████▊                       | 179/255 [1:03:41<37:05, 29.28s/it]"
     ]
    },
    {
     "name": "stdout",
     "output_type": "stream",
     "text": [
      "[(array([5, 5, 5, 5, 0, 7, 5, 5], dtype=int16), -130.26058959960938)]\n"
     ]
    },
    {
     "name": "stderr",
     "output_type": "stream",
     "text": [
      "\r",
      " 71%|███████████████████████████████████████████████████████                       | 180/255 [1:04:24<41:47, 33.43s/it]"
     ]
    },
    {
     "name": "stdout",
     "output_type": "stream",
     "text": [
      "[(array([2, 5, 5, 5, 0, 7, 5, 5], dtype=int16), -156.29092407226562)]\n"
     ]
    },
    {
     "name": "stderr",
     "output_type": "stream",
     "text": [
      "\r",
      " 71%|███████████████████████████████████████████████████████▎                      | 181/255 [1:04:24<28:59, 23.51s/it]"
     ]
    },
    {
     "name": "stdout",
     "output_type": "stream",
     "text": [
      "[(array([0], dtype=int16), -1.1455802917480469)]\n"
     ]
    },
    {
     "name": "stderr",
     "output_type": "stream",
     "text": [
      "\r",
      " 71%|███████████████████████████████████████████████████████▋                      | 182/255 [1:04:52<30:06, 24.75s/it]"
     ]
    },
    {
     "name": "stdout",
     "output_type": "stream",
     "text": [
      "[(array([3, 3, 0, 6, 6, 3, 3], dtype=int16), 83.15536785125732)]\n"
     ]
    },
    {
     "name": "stderr",
     "output_type": "stream",
     "text": [
      "\r",
      " 72%|███████████████████████████████████████████████████████▉                      | 183/255 [1:05:11<27:37, 23.03s/it]"
     ]
    },
    {
     "name": "stdout",
     "output_type": "stream",
     "text": [
      "[(array([4, 3, 1, 0, 6, 1], dtype=int16), -24.072592735290527)]\n"
     ]
    },
    {
     "name": "stderr",
     "output_type": "stream",
     "text": [
      "\r",
      " 72%|████████████████████████████████████████████████████████▎                     | 184/255 [1:05:11<19:13, 16.25s/it]"
     ]
    },
    {
     "name": "stdout",
     "output_type": "stream",
     "text": [
      "[(array([0], dtype=int16), -21.231538772583008)]\n"
     ]
    },
    {
     "name": "stderr",
     "output_type": "stream",
     "text": [
      "\r",
      " 73%|████████████████████████████████████████████████████████▌                     | 185/255 [1:05:55<28:26, 24.38s/it]"
     ]
    },
    {
     "name": "stdout",
     "output_type": "stream",
     "text": [
      "[(array([3, 3, 0, 6, 7, 3, 6, 6], dtype=int16), -110.72298622131348)]\n"
     ]
    },
    {
     "name": "stderr",
     "output_type": "stream",
     "text": [
      "\r",
      " 73%|████████████████████████████████████████████████████████▉                     | 186/255 [1:05:56<19:58, 17.37s/it]"
     ]
    },
    {
     "name": "stdout",
     "output_type": "stream",
     "text": [
      "[(array([0, 1], dtype=int16), -42.7028923034668)]\n"
     ]
    },
    {
     "name": "stderr",
     "output_type": "stream",
     "text": [
      "\r",
      " 73%|█████████████████████████████████████████████████████████▏                    | 187/255 [1:05:58<14:41, 12.96s/it]"
     ]
    },
    {
     "name": "stdout",
     "output_type": "stream",
     "text": [
      "[(array([2, 0, 2], dtype=int16), -25.91667938232422)]\n"
     ]
    },
    {
     "name": "stderr",
     "output_type": "stream",
     "text": [
      "\r",
      " 74%|█████████████████████████████████████████████████████████▌                    | 188/255 [1:06:09<13:35, 12.18s/it]"
     ]
    },
    {
     "name": "stdout",
     "output_type": "stream",
     "text": [
      "[(array([3, 3, 0, 5, 3], dtype=int16), -123.68164730072021)]\n"
     ]
    },
    {
     "name": "stderr",
     "output_type": "stream",
     "text": [
      "\r",
      " 74%|█████████████████████████████████████████████████████████▊                    | 189/255 [1:06:37<18:42, 17.01s/it]"
     ]
    },
    {
     "name": "stdout",
     "output_type": "stream",
     "text": [
      "[(array([0, 1, 4, 1, 7, 7, 1], dtype=int16), 47.113800048828125)]\n"
     ]
    },
    {
     "name": "stderr",
     "output_type": "stream",
     "text": [
      "\r",
      " 75%|██████████████████████████████████████████████████████████                    | 190/255 [1:06:47<16:15, 15.01s/it]"
     ]
    },
    {
     "name": "stdout",
     "output_type": "stream",
     "text": [
      "[(array([0, 4, 4, 1, 1], dtype=int16), -89.59147262573242)]\n"
     ]
    },
    {
     "name": "stderr",
     "output_type": "stream",
     "text": [
      "\r",
      " 75%|██████████████████████████████████████████████████████████▍                   | 191/255 [1:06:53<12:59, 12.17s/it]"
     ]
    },
    {
     "name": "stdout",
     "output_type": "stream",
     "text": [
      "[(array([0, 3, 1, 1], dtype=int16), -51.56775665283203)]\n"
     ]
    },
    {
     "name": "stderr",
     "output_type": "stream",
     "text": [
      "\r",
      " 75%|██████████████████████████████████████████████████████████▋                   | 192/255 [1:07:53<28:00, 26.68s/it]"
     ]
    },
    {
     "name": "stdout",
     "output_type": "stream",
     "text": [
      "[(array([0, 3, 1, 1, 8, 7, 8, 4, 1], dtype=int16), -121.65764045715332)]\n"
     ]
    },
    {
     "name": "stderr",
     "output_type": "stream",
     "text": [
      "\r",
      " 76%|███████████████████████████████████████████████████████████                   | 193/255 [1:08:22<28:04, 27.18s/it]"
     ]
    },
    {
     "name": "stdout",
     "output_type": "stream",
     "text": [
      "[(array([0, 1, 4, 1, 7, 7, 1], dtype=int16), -23.10103130340576)]\n"
     ]
    },
    {
     "name": "stderr",
     "output_type": "stream",
     "text": [
      "\r",
      " 76%|███████████████████████████████████████████████████████████▎                  | 194/255 [1:08:28<21:05, 20.74s/it]"
     ]
    },
    {
     "name": "stdout",
     "output_type": "stream",
     "text": [
      "[(array([0, 1, 1, 1], dtype=int16), -59.240370750427246)]\n"
     ]
    },
    {
     "name": "stderr",
     "output_type": "stream",
     "text": [
      "\r",
      " 76%|███████████████████████████████████████████████████████████▋                  | 195/255 [1:08:33<16:13, 16.22s/it]"
     ]
    },
    {
     "name": "stdout",
     "output_type": "stream",
     "text": [
      "[(array([0, 3, 1, 1], dtype=int16), -39.539313316345215)]\n"
     ]
    },
    {
     "name": "stderr",
     "output_type": "stream",
     "text": [
      "\r",
      " 77%|███████████████████████████████████████████████████████████▉                  | 196/255 [1:09:34<29:01, 29.52s/it]"
     ]
    },
    {
     "name": "stdout",
     "output_type": "stream",
     "text": [
      "[(array([0, 3, 1, 8, 8, 8, 8, 3, 1], dtype=int16), -66.576340675354)]\n"
     ]
    },
    {
     "name": "stderr",
     "output_type": "stream",
     "text": [
      "\r",
      " 77%|████████████████████████████████████████████████████████████▎                 | 197/255 [1:09:44<22:59, 23.78s/it]"
     ]
    },
    {
     "name": "stdout",
     "output_type": "stream",
     "text": [
      "[(array([0, 4, 4, 1, 1], dtype=int16), -33.03915023803711)]\n"
     ]
    },
    {
     "name": "stderr",
     "output_type": "stream",
     "text": [
      "\r",
      " 78%|████████████████████████████████████████████████████████████▌                 | 198/255 [1:10:15<24:38, 25.94s/it]"
     ]
    },
    {
     "name": "stdout",
     "output_type": "stream",
     "text": [
      "[(array([2, 3, 5, 5, 0, 5, 5], dtype=int16), -152.21150588989258)]\n"
     ]
    },
    {
     "name": "stderr",
     "output_type": "stream",
     "text": [
      "\r",
      " 78%|████████████████████████████████████████████████████████████▊                 | 199/255 [1:10:21<18:31, 19.85s/it]"
     ]
    },
    {
     "name": "stdout",
     "output_type": "stream",
     "text": [
      "[(array([0, 3, 1, 1], dtype=int16), -25.383747100830078)]\n"
     ]
    },
    {
     "name": "stderr",
     "output_type": "stream",
     "text": [
      "\r",
      " 78%|█████████████████████████████████████████████████████████████▏                | 200/255 [1:10:31<15:34, 17.00s/it]"
     ]
    },
    {
     "name": "stdout",
     "output_type": "stream",
     "text": [
      "[(array([0, 3, 4, 1, 4], dtype=int16), -153.85088920593262)]\n"
     ]
    },
    {
     "name": "stderr",
     "output_type": "stream",
     "text": [
      "\r",
      " 79%|█████████████████████████████████████████████████████████████▍                | 201/255 [1:10:41<13:31, 15.02s/it]"
     ]
    },
    {
     "name": "stdout",
     "output_type": "stream",
     "text": [
      "[(array([3, 3, 0, 5, 3], dtype=int16), -56.78388595581055)]\n"
     ]
    },
    {
     "name": "stderr",
     "output_type": "stream",
     "text": [
      "\r",
      " 79%|█████████████████████████████████████████████████████████████▊                | 202/255 [1:10:44<09:59, 11.31s/it]"
     ]
    },
    {
     "name": "stdout",
     "output_type": "stream",
     "text": [
      "[(array([2, 0, 2], dtype=int16), -62.498796463012695)]\n"
     ]
    },
    {
     "name": "stderr",
     "output_type": "stream",
     "text": [
      "\r",
      " 80%|██████████████████████████████████████████████████████████████                | 203/255 [1:10:50<08:18,  9.59s/it]"
     ]
    },
    {
     "name": "stdout",
     "output_type": "stream",
     "text": [
      "[(array([4, 4, 4, 0], dtype=int16), -92.46246242523193)]\n"
     ]
    },
    {
     "name": "stderr",
     "output_type": "stream",
     "text": [
      "\r",
      " 80%|██████████████████████████████████████████████████████████████▍               | 204/255 [1:10:55<07:06,  8.37s/it]"
     ]
    },
    {
     "name": "stdout",
     "output_type": "stream",
     "text": [
      "[(array([4, 4, 4, 0], dtype=int16), -80.06383800506592)]\n"
     ]
    },
    {
     "name": "stderr",
     "output_type": "stream",
     "text": [
      "\r",
      " 80%|██████████████████████████████████████████████████████████████▋               | 205/255 [1:10:56<04:57,  5.96s/it]"
     ]
    },
    {
     "name": "stdout",
     "output_type": "stream",
     "text": [
      "[(array([0], dtype=int16), -19.12884521484375)]\n"
     ]
    },
    {
     "name": "stderr",
     "output_type": "stream",
     "text": [
      "\r",
      " 81%|███████████████████████████████████████████████████████████████               | 206/255 [1:11:38<13:49, 16.93s/it]"
     ]
    },
    {
     "name": "stdout",
     "output_type": "stream",
     "text": [
      "[(array([0, 1, 7, 7, 7, 7, 1, 7], dtype=int16), -126.88262462615967)]\n"
     ]
    },
    {
     "name": "stderr",
     "output_type": "stream",
     "text": [
      "\r",
      " 81%|███████████████████████████████████████████████████████████████▎              | 207/255 [1:12:39<24:02, 30.06s/it]"
     ]
    },
    {
     "name": "stdout",
     "output_type": "stream",
     "text": [
      "[(array([2, 0, 5, 5, 9, 5, 8, 9, 1], dtype=int16), -22.16806411743164)]\n"
     ]
    },
    {
     "name": "stderr",
     "output_type": "stream",
     "text": [
      "\r",
      " 82%|███████████████████████████████████████████████████████████████▌              | 208/255 [1:13:20<26:12, 33.46s/it]"
     ]
    },
    {
     "name": "stdout",
     "output_type": "stream",
     "text": [
      "[(array([2, 8, 5, 5, 2, 5, 8, 0], dtype=int16), 45.427757263183594)]\n"
     ]
    },
    {
     "name": "stderr",
     "output_type": "stream",
     "text": [
      "\r",
      " 82%|███████████████████████████████████████████████████████████████▉              | 209/255 [1:13:26<19:14, 25.10s/it]"
     ]
    },
    {
     "name": "stdout",
     "output_type": "stream",
     "text": [
      "[(array([2, 3, 0, 3], dtype=int16), -87.22410774230957)]\n"
     ]
    },
    {
     "name": "stderr",
     "output_type": "stream",
     "text": [
      "\r",
      " 82%|████████████████████████████████████████████████████████████████▏             | 210/255 [1:13:29<13:48, 18.41s/it]"
     ]
    },
    {
     "name": "stdout",
     "output_type": "stream",
     "text": [
      "[(array([2, 0, 1], dtype=int16), -65.53939247131348)]\n"
     ]
    },
    {
     "name": "stderr",
     "output_type": "stream",
     "text": [
      "\r",
      " 83%|████████████████████████████████████████████████████████████████▌             | 211/255 [1:13:57<15:36, 21.28s/it]"
     ]
    },
    {
     "name": "stdout",
     "output_type": "stream",
     "text": [
      "[(array([2, 0, 5, 5, 2, 5, 4], dtype=int16), 15.088113784790039)]\n"
     ]
    },
    {
     "name": "stderr",
     "output_type": "stream",
     "text": [
      "\r",
      " 83%|████████████████████████████████████████████████████████████████▊             | 212/255 [1:14:39<19:45, 27.56s/it]"
     ]
    },
    {
     "name": "stdout",
     "output_type": "stream",
     "text": [
      "[(array([2, 7, 5, 5, 2, 5, 8, 0], dtype=int16), 57.81930923461914)]\n"
     ]
    },
    {
     "name": "stderr",
     "output_type": "stream",
     "text": [
      "\r",
      " 84%|█████████████████████████████████████████████████████████████████▏            | 213/255 [1:14:44<14:40, 20.98s/it]"
     ]
    },
    {
     "name": "stdout",
     "output_type": "stream",
     "text": [
      "[(array([2, 3, 4, 0], dtype=int16), -60.225725173950195)]\n"
     ]
    },
    {
     "name": "stderr",
     "output_type": "stream",
     "text": [
      "\r",
      " 84%|█████████████████████████████████████████████████████████████████▍            | 214/255 [1:14:55<12:16, 17.96s/it]"
     ]
    },
    {
     "name": "stdout",
     "output_type": "stream",
     "text": [
      "[(array([2, 0, 2, 2, 2], dtype=int16), -101.91682624816895)]\n"
     ]
    },
    {
     "name": "stderr",
     "output_type": "stream",
     "text": [
      "\r",
      " 84%|█████████████████████████████████████████████████████████████████▊            | 215/255 [1:15:37<16:47, 25.18s/it]"
     ]
    },
    {
     "name": "stdout",
     "output_type": "stream",
     "text": [
      "[(array([0, 1, 7, 7, 7, 7, 1, 7], dtype=int16), -136.15226459503174)]\n"
     ]
    },
    {
     "name": "stderr",
     "output_type": "stream",
     "text": [
      "\r",
      " 85%|██████████████████████████████████████████████████████████████████            | 216/255 [1:16:20<19:41, 30.30s/it]"
     ]
    },
    {
     "name": "stdout",
     "output_type": "stream",
     "text": [
      "[(array([4, 1, 7, 7, 6, 7, 0, 7], dtype=int16), -119.50796318054199)]\n"
     ]
    },
    {
     "name": "stderr",
     "output_type": "stream",
     "text": [
      "\r",
      " 85%|██████████████████████████████████████████████████████████████████▍           | 217/255 [1:16:25<14:32, 22.95s/it]"
     ]
    },
    {
     "name": "stdout",
     "output_type": "stream",
     "text": [
      "[(array([2, 0, 2, 3], dtype=int16), -78.22123336791992)]\n"
     ]
    },
    {
     "name": "stderr",
     "output_type": "stream",
     "text": [
      "\r",
      " 85%|██████████████████████████████████████████████████████████████████▋           | 218/255 [1:16:31<10:55, 17.73s/it]"
     ]
    },
    {
     "name": "stdout",
     "output_type": "stream",
     "text": [
      "[(array([2, 4, 4, 0], dtype=int16), -19.375828742980957)]\n"
     ]
    },
    {
     "name": "stderr",
     "output_type": "stream",
     "text": [
      "\r",
      " 86%|██████████████████████████████████████████████████████████████████▉           | 219/255 [1:16:34<07:55, 13.20s/it]"
     ]
    },
    {
     "name": "stdout",
     "output_type": "stream",
     "text": [
      "[(array([0, 3, 1], dtype=int16), -51.94955062866211)]\n"
     ]
    },
    {
     "name": "stderr",
     "output_type": "stream",
     "text": [
      "\r",
      " 86%|███████████████████████████████████████████████████████████████████▎          | 220/255 [1:17:15<12:43, 21.81s/it]"
     ]
    },
    {
     "name": "stdout",
     "output_type": "stream",
     "text": [
      "[(array([2, 4, 4, 0, 4, 4, 4, 3], dtype=int16), -107.25607681274414)]\n"
     ]
    },
    {
     "name": "stderr",
     "output_type": "stream",
     "text": [
      "\r",
      " 87%|███████████████████████████████████████████████████████████████████▌          | 221/255 [1:17:33<11:39, 20.58s/it]"
     ]
    },
    {
     "name": "stdout",
     "output_type": "stream",
     "text": [
      "[(array([3, 0, 4, 2, 4, 3], dtype=int16), -113.1006908416748)]\n"
     ]
    },
    {
     "name": "stderr",
     "output_type": "stream",
     "text": [
      "\r",
      " 87%|███████████████████████████████████████████████████████████████████▉          | 222/255 [1:17:44<09:39, 17.55s/it]"
     ]
    },
    {
     "name": "stdout",
     "output_type": "stream",
     "text": [
      "[(array([0, 4, 4, 1, 1], dtype=int16), -56.80116558074951)]\n"
     ]
    },
    {
     "name": "stderr",
     "output_type": "stream",
     "text": [
      "\r",
      " 87%|████████████████████████████████████████████████████████████████████▏         | 223/255 [1:17:46<06:59, 13.10s/it]"
     ]
    },
    {
     "name": "stdout",
     "output_type": "stream",
     "text": [
      "[(array([0, 1, 1], dtype=int16), -29.368846893310547)]\n"
     ]
    },
    {
     "name": "stderr",
     "output_type": "stream",
     "text": [
      "\r",
      " 88%|████████████████████████████████████████████████████████████████████▌         | 224/255 [1:17:57<06:23, 12.39s/it]"
     ]
    },
    {
     "name": "stdout",
     "output_type": "stream",
     "text": [
      "[(array([0, 4, 4, 1, 1], dtype=int16), -18.85919761657715)]\n"
     ]
    },
    {
     "name": "stderr",
     "output_type": "stream",
     "text": [
      "\r",
      " 88%|████████████████████████████████████████████████████████████████████▊         | 225/255 [1:18:25<08:32, 17.08s/it]"
     ]
    },
    {
     "name": "stdout",
     "output_type": "stream",
     "text": [
      "[(array([0, 6, 6, 5, 6, 1, 1], dtype=int16), 23.97089195251465)]\n"
     ]
    },
    {
     "name": "stderr",
     "output_type": "stream",
     "text": [
      "\r",
      " 89%|█████████████████████████████████████████████████████████████████████▏        | 226/255 [1:19:08<12:02, 24.91s/it]"
     ]
    },
    {
     "name": "stdout",
     "output_type": "stream",
     "text": [
      "[(array([0, 6, 4, 6, 6, 1, 6, 1], dtype=int16), -1.5345344543457031)]\n"
     ]
    },
    {
     "name": "stderr",
     "output_type": "stream",
     "text": [
      "\r",
      " 89%|█████████████████████████████████████████████████████████████████████▍        | 227/255 [1:20:10<16:47, 36.00s/it]"
     ]
    },
    {
     "name": "stdout",
     "output_type": "stream",
     "text": [
      "[(array([0, 1, 6, 6, 6, 1, 8, 1, 1], dtype=int16), -77.25110244750977)]\n"
     ]
    },
    {
     "name": "stderr",
     "output_type": "stream",
     "text": [
      "\r",
      " 89%|█████████████████████████████████████████████████████████████████████▋        | 228/255 [1:20:16<12:05, 26.88s/it]"
     ]
    },
    {
     "name": "stdout",
     "output_type": "stream",
     "text": [
      "[(array([0, 3, 1, 1], dtype=int16), -41.37871265411377)]\n"
     ]
    },
    {
     "name": "stderr",
     "output_type": "stream",
     "text": [
      "\r",
      " 90%|██████████████████████████████████████████████████████████████████████        | 229/255 [1:20:17<08:17, 19.15s/it]"
     ]
    },
    {
     "name": "stdout",
     "output_type": "stream",
     "text": [
      "[(array([0, 1], dtype=int16), -55.0849609375)]\n"
     ]
    },
    {
     "name": "stderr",
     "output_type": "stream",
     "text": [
      "\r",
      " 90%|██████████████████████████████████████████████████████████████████████▎       | 230/255 [1:21:18<13:14, 31.77s/it]"
     ]
    },
    {
     "name": "stdout",
     "output_type": "stream",
     "text": [
      "[(array([0, 1, 4, 1, 7, 9, 9, 9, 1], dtype=int16), -39.93326759338379)]\n"
     ]
    },
    {
     "name": "stderr",
     "output_type": "stream",
     "text": [
      "\r",
      " 91%|██████████████████████████████████████████████████████████████████████▋       | 231/255 [1:21:24<09:34, 23.94s/it]"
     ]
    },
    {
     "name": "stdout",
     "output_type": "stream",
     "text": [
      "[(array([0, 3, 1, 1], dtype=int16), -13.198201179504395)]\n"
     ]
    },
    {
     "name": "stderr",
     "output_type": "stream",
     "text": [
      "\r",
      " 91%|██████████████████████████████████████████████████████████████████████▉       | 232/255 [1:21:29<07:04, 18.47s/it]"
     ]
    },
    {
     "name": "stdout",
     "output_type": "stream",
     "text": [
      "[(array([0, 1, 1, 1], dtype=int16), -145.924072265625)]\n"
     ]
    },
    {
     "name": "stderr",
     "output_type": "stream",
     "text": [
      "\r",
      " 91%|███████████████████████████████████████████████████████████████████████▎      | 233/255 [1:22:30<11:26, 31.21s/it]"
     ]
    },
    {
     "name": "stdout",
     "output_type": "stream",
     "text": [
      "[(array([0, 4, 4, 1, 8, 8, 8, 1, 1], dtype=int16), -35.0600061416626)]\n"
     ]
    },
    {
     "name": "stderr",
     "output_type": "stream",
     "text": [
      "\r",
      " 92%|███████████████████████████████████████████████████████████████████████▌      | 234/255 [1:22:41<08:44, 24.99s/it]"
     ]
    },
    {
     "name": "stdout",
     "output_type": "stream",
     "text": [
      "[(array([0, 3, 1, 3, 1], dtype=int16), -103.42123794555664)]\n"
     ]
    },
    {
     "name": "stderr",
     "output_type": "stream",
     "text": [
      "\r",
      " 92%|███████████████████████████████████████████████████████████████████████▉      | 235/255 [1:23:42<11:58, 35.91s/it]"
     ]
    },
    {
     "name": "stdout",
     "output_type": "stream",
     "text": [
      "[(array([0, 5, 5, 8, 1, 8, 8, 5, 1], dtype=int16), -51.999863624572754)]\n"
     ]
    },
    {
     "name": "stderr",
     "output_type": "stream",
     "text": [
      "\r",
      " 93%|████████████████████████████████████████████████████████████████████████▏     | 236/255 [1:23:53<09:00, 28.45s/it]"
     ]
    },
    {
     "name": "stdout",
     "output_type": "stream",
     "text": [
      "[(array([0, 1, 4, 1, 1], dtype=int16), -42.77834701538086)]\n"
     ]
    },
    {
     "name": "stderr",
     "output_type": "stream",
     "text": [
      "\r",
      " 93%|████████████████████████████████████████████████████████████████████████▍     | 237/255 [1:24:23<08:36, 28.68s/it]"
     ]
    },
    {
     "name": "stdout",
     "output_type": "stream",
     "text": [
      "[(array([0, 3, 6, 5, 6, 1, 1], dtype=int16), -21.154075622558594)]\n"
     ]
    },
    {
     "name": "stderr",
     "output_type": "stream",
     "text": [
      "\r",
      " 93%|████████████████████████████████████████████████████████████████████████▊     | 238/255 [1:24:33<06:34, 23.23s/it]"
     ]
    },
    {
     "name": "stdout",
     "output_type": "stream",
     "text": [
      "[(array([0, 4, 4, 1, 1], dtype=int16), -2.630138397216797)]\n"
     ]
    },
    {
     "name": "stderr",
     "output_type": "stream",
     "text": [
      "\r",
      " 94%|█████████████████████████████████████████████████████████████████████████     | 239/255 [1:25:01<06:35, 24.71s/it]"
     ]
    },
    {
     "name": "stdout",
     "output_type": "stream",
     "text": [
      "[(array([0, 1, 2, 6, 6, 1, 1], dtype=int16), -104.27547073364258)]\n"
     ]
    },
    {
     "name": "stderr",
     "output_type": "stream",
     "text": [
      "\r",
      " 94%|█████████████████████████████████████████████████████████████████████████▍    | 240/255 [1:25:07<04:44, 19.00s/it]"
     ]
    },
    {
     "name": "stdout",
     "output_type": "stream",
     "text": [
      "[(array([0, 3, 1, 1], dtype=int16), -55.40878868103027)]\n"
     ]
    },
    {
     "name": "stderr",
     "output_type": "stream",
     "text": [
      "\r",
      " 95%|█████████████████████████████████████████████████████████████████████████▋    | 241/255 [1:26:08<07:23, 31.65s/it]"
     ]
    },
    {
     "name": "stdout",
     "output_type": "stream",
     "text": [
      "[(array([0, 3, 1, 5, 1, 8, 8, 5, 1], dtype=int16), -61.496657371520996)]\n"
     ]
    },
    {
     "name": "stderr",
     "output_type": "stream",
     "text": [
      "\r",
      " 95%|██████████████████████████████████████████████████████████████████████████    | 242/255 [1:26:08<04:49, 22.26s/it]"
     ]
    },
    {
     "name": "stdout",
     "output_type": "stream",
     "text": [
      "[(array([0], dtype=int16), -23.07329750061035)]\n"
     ]
    },
    {
     "name": "stderr",
     "output_type": "stream",
     "text": [
      "\r",
      " 95%|██████████████████████████████████████████████████████████████████████████▎   | 243/255 [1:26:37<04:48, 24.01s/it]"
     ]
    },
    {
     "name": "stdout",
     "output_type": "stream",
     "text": [
      "[(array([2, 4, 4, 0, 6, 4, 4], dtype=int16), -17.038793563842773)]\n"
     ]
    },
    {
     "name": "stderr",
     "output_type": "stream",
     "text": [
      "\r",
      " 96%|██████████████████████████████████████████████████████████████████████████▋   | 244/255 [1:27:05<04:38, 25.32s/it]"
     ]
    },
    {
     "name": "stdout",
     "output_type": "stream",
     "text": [
      "[(array([3, 4, 0, 3, 6, 3, 3], dtype=int16), -72.8083667755127)]\n"
     ]
    },
    {
     "name": "stderr",
     "output_type": "stream",
     "text": [
      "\r",
      " 96%|██████████████████████████████████████████████████████████████████████████▉   | 245/255 [1:27:15<03:28, 20.89s/it]"
     ]
    },
    {
     "name": "stdout",
     "output_type": "stream",
     "text": [
      "[(array([0, 1, 1, 3, 4], dtype=int16), -16.81060791015625)]\n"
     ]
    },
    {
     "name": "stderr",
     "output_type": "stream",
     "text": [
      "\r",
      " 96%|███████████████████████████████████████████████████████████████████████████▏  | 246/255 [1:27:26<02:40, 17.78s/it]"
     ]
    },
    {
     "name": "stdout",
     "output_type": "stream",
     "text": [
      "[(array([0, 3, 1, 1, 1], dtype=int16), -105.16841125488281)]\n"
     ]
    },
    {
     "name": "stderr",
     "output_type": "stream",
     "text": [
      "\r",
      " 97%|███████████████████████████████████████████████████████████████████████████▌  | 247/255 [1:27:32<01:53, 14.16s/it]"
     ]
    },
    {
     "name": "stdout",
     "output_type": "stream",
     "text": [
      "[(array([0, 3, 1, 1], dtype=int16), -70.23286247253418)]\n"
     ]
    },
    {
     "name": "stderr",
     "output_type": "stream",
     "text": [
      "\r",
      " 97%|███████████████████████████████████████████████████████████████████████████▊  | 248/255 [1:28:01<02:10, 18.68s/it]"
     ]
    },
    {
     "name": "stdout",
     "output_type": "stream",
     "text": [
      "[(array([2, 4, 6, 6, 6, 0, 6], dtype=int16), -72.46463394165039)]\n"
     ]
    },
    {
     "name": "stderr",
     "output_type": "stream",
     "text": [
      "\r",
      " 98%|████████████████████████████████████████████████████████████████████████████▏ | 249/255 [1:28:44<02:35, 25.95s/it]"
     ]
    },
    {
     "name": "stdout",
     "output_type": "stream",
     "text": [
      "[(array([0, 1, 4, 2, 7, 7, 2, 2], dtype=int16), -91.8675422668457)]\n"
     ]
    },
    {
     "name": "stderr",
     "output_type": "stream",
     "text": [
      "\r",
      " 98%|████████████████████████████████████████████████████████████████████████████▍ | 250/255 [1:28:54<01:46, 21.36s/it]"
     ]
    },
    {
     "name": "stdout",
     "output_type": "stream",
     "text": [
      "[(array([0, 4, 4, 1, 1], dtype=int16), -67.60564041137695)]\n"
     ]
    },
    {
     "name": "stderr",
     "output_type": "stream",
     "text": [
      "\r",
      " 98%|████████████████████████████████████████████████████████████████████████████▊ | 251/255 [1:29:57<02:15, 33.77s/it]"
     ]
    },
    {
     "name": "stdout",
     "output_type": "stream",
     "text": [
      "[(array([3, 3, 0, 3, 3, 3, 8, 3, 8], dtype=int16), 13.974969863891602)]\n"
     ]
    },
    {
     "name": "stderr",
     "output_type": "stream",
     "text": [
      "\r",
      " 99%|█████████████████████████████████████████████████████████████████████████████ | 252/255 [1:30:15<01:26, 28.97s/it]"
     ]
    },
    {
     "name": "stdout",
     "output_type": "stream",
     "text": [
      "[(array([2, 0, 5, 5, 2, 2], dtype=int16), -33.03053283691406)]\n"
     ]
    },
    {
     "name": "stderr",
     "output_type": "stream",
     "text": [
      "\r",
      " 99%|█████████████████████████████████████████████████████████████████████████████▍| 253/255 [1:30:43<00:57, 28.72s/it]"
     ]
    },
    {
     "name": "stdout",
     "output_type": "stream",
     "text": [
      "[(array([0, 6, 6, 3, 6, 1, 1], dtype=int16), -21.77836513519287)]\n"
     ]
    },
    {
     "name": "stderr",
     "output_type": "stream",
     "text": [
      "\r",
      "100%|█████████████████████████████████████████████████████████████████████████████▋| 254/255 [1:30:49<00:21, 21.78s/it]"
     ]
    },
    {
     "name": "stdout",
     "output_type": "stream",
     "text": [
      "[(array([0, 3, 1, 1], dtype=int16), -36.04871368408203)]\n"
     ]
    },
    {
     "name": "stderr",
     "output_type": "stream",
     "text": [
      "100%|██████████████████████████████████████████████████████████████████████████████| 255/255 [1:31:50<00:00, 21.61s/it]"
     ]
    },
    {
     "name": "stdout",
     "output_type": "stream",
     "text": [
      "[(array([0, 4, 4, 1, 1, 8, 8, 1, 1], dtype=int16), -24.6640682220459)]\n"
     ]
    },
    {
     "name": "stderr",
     "output_type": "stream",
     "text": [
      "\n"
     ]
    }
   ],
   "source": [
    "import tqdm\n",
    "bs_mst_matches = []\n",
    "bs_mst_percent_matches = []\n",
    "num_beams = 1\n",
    "print(f'num_beams: {num_beams}')\n",
    "bs_mst_matches.append([])\n",
    "bs_mst_percent_matches.append([])\n",
    "for j in tqdm.tqdm(range(len(val_short_data) -1)):\n",
    "    input_data = val_short_data[j:j+2]\n",
    "    sentences_embedding, sentences_word_embeddings, targets = get_embeddings(input_data, tokenizer, model)\n",
    "    i = 0\n",
    "    word_embeddings, sentence_embedding, target = sentences_word_embeddings[i], sentences_embedding[i], targets[i]\n",
    "\n",
    "    loss, pred, constr, mst_prob, mst_neg_log_prob, target_prob, target_neg_log_probs = train_on_sentence(word_embeddings, sentence_embedding, target, scorer)\n",
    "\n",
    "\n",
    "    big_mat = scorer(torch.concat([sentence_embedding, word_embeddings]), tanh=False)\n",
    "\n",
    "    mat = big_mat[1:, 1:]  # nxn word head x dep scores\n",
    "    r = big_mat[0, 1:]  # n root -> word scores\n",
    "\n",
    "    extended_mat = torch.concat([r.unsqueeze(dim=0), mat], dim=0)\n",
    "    extended_mat_np = extended_mat.detach().cpu().numpy()\n",
    "\n",
    "    bs_out = beam_search_matrix_fsa(extended_mat_np, const_fsa, length_sequence, n_beam=num_beams)\n",
    "\n",
    "    bs_parse = bs_out[0][0]\n",
    "    bs_mst_match = np.all(bs_parse == constr[1:])\n",
    "    bs_mst_percent_match = np.sum(bs_parse == constr[1:])/len(bs_parse == constr[1:])\n",
    "\n",
    "    bs_mst_matches[-1].append(bs_mst_match)\n",
    "    bs_mst_percent_matches[-1].append(bs_mst_percent_match)"
   ]
  },
  {
   "cell_type": "code",
   "execution_count": 47,
   "metadata": {
    "colab": {
     "base_uri": "https://localhost:8080/"
    },
    "id": "Ur0jSji3B1ZP",
    "outputId": "512765e7-2cd8-4c9d-cc9d-d819ac0bffce"
   },
   "outputs": [
    {
     "name": "stdout",
     "output_type": "stream",
     "text": [
      "num_beams: 2\n"
     ]
    },
    {
     "name": "stderr",
     "output_type": "stream",
     "text": [
      "100%|██████████████████████████████████████████████████████████████████████████████| 255/255 [2:37:20<00:00, 37.02s/it]\n"
     ]
    },
    {
     "name": "stdout",
     "output_type": "stream",
     "text": [
      "num_beams: 3\n"
     ]
    },
    {
     "name": "stderr",
     "output_type": "stream",
     "text": [
      "100%|██████████████████████████████████████████████████████████████████████████████| 255/255 [3:44:58<00:00, 52.93s/it]\n"
     ]
    }
   ],
   "source": [
    "for num_beams in range(2, 4):\n",
    "  print(f'num_beams: {num_beams}')\n",
    "  bs_mst_matches.append([])\n",
    "  bs_mst_percent_matches.append([])\n",
    "  for j in tqdm.tqdm(range(len(val_short_data) -1)):\n",
    "    input_data = val_short_data[j:j+2]\n",
    "    sentences_embedding, sentences_word_embeddings, targets = get_embeddings(input_data, tokenizer, model)\n",
    "    i = 0\n",
    "    word_embeddings, sentence_embedding, target = sentences_word_embeddings[i], sentences_embedding[i], targets[i]\n",
    "\n",
    "    loss, pred, constr, mst_prob, mst_neg_log_prob, target_prob, target_neg_log_probs = train_on_sentence(word_embeddings, sentence_embedding, target, scorer)\n",
    "\n",
    "\n",
    "    big_mat = scorer(torch.concat([sentence_embedding, word_embeddings]), tanh=False)\n",
    "\n",
    "    mat = big_mat[1:, 1:]  # nxn word head x dep scores\n",
    "    r = big_mat[0, 1:]  # n root -> word scores\n",
    "\n",
    "    extended_mat = torch.concat([r.unsqueeze(dim=0), mat], dim=0)\n",
    "    extended_mat_np = extended_mat.detach().cpu().numpy()\n",
    "\n",
    "    bs_out = beam_search_matrix_fsa(extended_mat_np, const_fsa, length_sequence, n_beam=num_beams)\n",
    "\n",
    "\n",
    "    bs_parse = bs_out[0][0]\n",
    "    bs_mst_match = np.all(bs_parse == constr[1:])\n",
    "    bs_mst_percent_match = np.sum(bs_parse == constr[1:])/len(bs_parse == constr[1:])\n",
    "\n",
    "    bs_mst_matches[-1].append(bs_mst_match)\n",
    "    bs_mst_percent_matches[-1].append(bs_mst_percent_match)\n",
    "\n"
   ]
  },
  {
   "cell_type": "code",
   "execution_count": 48,
   "metadata": {},
   "outputs": [
    {
     "name": "stdout",
     "output_type": "stream",
     "text": [
      "0.9137254901960784 0.9665873015873017\n",
      "0.9686274509803922 0.9871568627450981\n",
      "0.9764705882352941 0.9891176470588235\n"
     ]
    }
   ],
   "source": [
    "for a, b in zip(bs_mst_matches, bs_mst_percent_matches):\n",
    "  print(np.mean(a), np.mean(b))"
   ]
  },
  {
   "cell_type": "code",
   "execution_count": 49,
   "metadata": {},
   "outputs": [],
   "source": [
    "bs_fsa_mst_matches = bs_mst_matches\n",
    "bs_fsa_mst_percent_matches = bs_mst_percent_matches"
   ]
  },
  {
   "cell_type": "markdown",
   "metadata": {},
   "source": [
    "## Parsing with matrix constraint"
   ]
  },
  {
   "cell_type": "code",
   "execution_count": 50,
   "metadata": {},
   "outputs": [
    {
     "name": "stdout",
     "output_type": "stream",
     "text": [
      "num_beams: 1\n"
     ]
    },
    {
     "name": "stderr",
     "output_type": "stream",
     "text": [
      "100%|████████████████████████████████████████████████████████████████████████████████| 539/539 [01:35<00:00,  5.64it/s]\n"
     ]
    },
    {
     "name": "stdout",
     "output_type": "stream",
     "text": [
      "num_beams: 2\n"
     ]
    },
    {
     "name": "stderr",
     "output_type": "stream",
     "text": [
      "100%|████████████████████████████████████████████████████████████████████████████████| 539/539 [02:01<00:00,  4.45it/s]\n"
     ]
    },
    {
     "name": "stdout",
     "output_type": "stream",
     "text": [
      "num_beams: 3\n"
     ]
    },
    {
     "name": "stderr",
     "output_type": "stream",
     "text": [
      "100%|████████████████████████████████████████████████████████████████████████████████| 539/539 [02:22<00:00,  3.77it/s]\n"
     ]
    }
   ],
   "source": [
    "import tqdm\n",
    "bs_mst_matches = []\n",
    "bs_mst_percent_matches = []\n",
    "for num_beams in range(1, 4):\n",
    "  print(f'num_beams: {num_beams}')\n",
    "  bs_mst_matches.append([])\n",
    "  bs_mst_percent_matches.append([])\n",
    "  for j in tqdm.tqdm(range(len(val_data) -1)):\n",
    "    input_data = val_data[j:j+2]\n",
    "    sentences_embedding, sentences_word_embeddings, targets = get_embeddings(input_data, tokenizer, model)\n",
    "    i = 0\n",
    "    word_embeddings, sentence_embedding, target = sentences_word_embeddings[i], sentences_embedding[i], targets[i]\n",
    "\n",
    "    loss, pred, constr, mst_prob, mst_neg_log_prob, target_prob, target_neg_log_probs = train_on_sentence(word_embeddings, sentence_embedding, target, scorer)\n",
    "\n",
    "\n",
    "    big_mat = scorer(torch.concat([sentence_embedding, word_embeddings]), tanh=False)\n",
    "\n",
    "    mat = big_mat[1:, 1:]  # nxn word head x dep scores\n",
    "    r = big_mat[0, 1:]  # n root -> word scores\n",
    "\n",
    "    extended_mat = torch.concat([r.unsqueeze(dim=0), mat], dim=0)\n",
    "    extended_mat_np = extended_mat.detach().cpu().numpy()\n",
    "\n",
    "    bs_out = beam_search_matrix(extended_mat_np, n_beam=num_beams)\n",
    "\n",
    "\n",
    "    bs_parse = bs_out[0][1]\n",
    "    bs_mst_match = np.all(bs_parse == constr[1:])\n",
    "    bs_mst_percent_match = np.sum(bs_parse == constr[1:])/len(bs_parse == constr[1:])\n",
    "\n",
    "    bs_mst_matches[-1].append(bs_mst_match)\n",
    "    bs_mst_percent_matches[-1].append(bs_mst_percent_match)\n",
    "\n",
    "\n",
    "    # parses = [triple[1] for triple in bs_out]\n",
    "\n",
    "\n",
    "    # mst_correct = [np.all(parse == constr[1:]) for parse in parses]\n",
    "    # mst_correct_i = np.where(mst_correct)[0]\n",
    "    # mst_correct_i = mst_correct_i[0] if len(mst_correct_i) != 0 else None\n",
    "\n"
   ]
  },
  {
   "cell_type": "code",
   "execution_count": 51,
   "metadata": {},
   "outputs": [
    {
     "name": "stdout",
     "output_type": "stream",
     "text": [
      "0.8998144712430427 0.9741388205896497\n",
      "0.9461966604823747 0.987172224165969\n",
      "0.961038961038961 0.9902204364578789\n"
     ]
    }
   ],
   "source": [
    "for a, b in zip(bs_mst_matches, bs_mst_percent_matches):\n",
    "  print(np.mean(a), np.mean(b))"
   ]
  },
  {
   "cell_type": "code",
   "execution_count": 52,
   "metadata": {},
   "outputs": [
    {
     "name": "stdout",
     "output_type": "stream",
     "text": [
      "0.9137254901960784 0.9665873015873017\n",
      "0.9686274509803922 0.9871568627450981\n",
      "0.9764705882352941 0.9891176470588235\n"
     ]
    }
   ],
   "source": [
    "for a, b in zip(bs_fsa_mst_matches, bs_fsa_mst_percent_matches):\n",
    "  print(np.mean(a), np.mean(b))"
   ]
  },
  {
   "cell_type": "code",
   "execution_count": 69,
   "metadata": {
    "id": "TXt68QHBDT5h"
   },
   "outputs": [
    {
     "data": {
      "text/plain": [
       "[<matplotlib.lines.Line2D at 0x1ac435a28f0>]"
      ]
     },
     "execution_count": 69,
     "metadata": {},
     "output_type": "execute_result"
    },
    {
     "data": {
      "text/plain": [
       "[<matplotlib.lines.Line2D at 0x1ac435a2d70>]"
      ]
     },
     "execution_count": 69,
     "metadata": {},
     "output_type": "execute_result"
    },
    {
     "data": {
      "text/plain": [
       "[<matplotlib.lines.Line2D at 0x1ac435a1510>]"
      ]
     },
     "execution_count": 69,
     "metadata": {},
     "output_type": "execute_result"
    },
    {
     "data": {
      "text/plain": [
       "[<matplotlib.lines.Line2D at 0x1ac45edbbe0>]"
      ]
     },
     "execution_count": 69,
     "metadata": {},
     "output_type": "execute_result"
    },
    {
     "data": {
      "text/plain": [
       "<matplotlib.lines.Line2D at 0x1ac3d619e40>"
      ]
     },
     "execution_count": 69,
     "metadata": {},
     "output_type": "execute_result"
    },
    {
     "data": {
      "text/plain": [
       "<matplotlib.lines.Line2D at 0x1ac435a3070>"
      ]
     },
     "execution_count": 69,
     "metadata": {},
     "output_type": "execute_result"
    },
    {
     "data": {
      "text/plain": [
       "<matplotlib.legend.Legend at 0x1ac45edb2e0>"
      ]
     },
     "execution_count": 69,
     "metadata": {},
     "output_type": "execute_result"
    },
    {
     "data": {
      "text/plain": [
       "Text(0.5, 0, 'number of beams')"
      ]
     },
     "execution_count": 69,
     "metadata": {},
     "output_type": "execute_result"
    },
    {
     "data": {
      "text/plain": [
       "([<matplotlib.axis.XTick at 0x1ac3fc94ac0>,\n",
       "  <matplotlib.axis.XTick at 0x1ac466c94b0>,\n",
       "  <matplotlib.axis.XTick at 0x1ac4050df00>],\n",
       " [Text(0, 0, ''), Text(0, 0, ''), Text(0, 0, '')])"
      ]
     },
     "execution_count": 69,
     "metadata": {},
     "output_type": "execute_result"
    },
    {
     "data": {
      "text/plain": [
       "Text(0.5, 1.0, 'Beam Search Performance')"
      ]
     },
     "execution_count": 69,
     "metadata": {},
     "output_type": "execute_result"
    },
    {
     "data": {
      "image/png": "[encoded data removed]",
      "text/plain": [
       "<Figure size 432x288 with 1 Axes>"
      ]
     },
     "metadata": {
      "needs_background": "light"
     },
     "output_type": "display_data"
    }
   ],
   "source": [
    "\n",
    "import matplotlib.pyplot as plt\n",
    "nbs = list(range(1, 4))\n",
    "plt.plot(nbs, [np.mean(x) for x in bs_mst_matches], label=\"exact match MST\", color='navy')\n",
    "plt.plot(nbs, [np.mean(x) for x in bs_mst_percent_matches], label=\"percent match MST\", color='blue')\n",
    "plt.plot(nbs, [np.mean(x) for x in bs_fsa_mst_matches], label=\"exact match MST with FSA\", color='darkgreen')\n",
    "plt.plot(nbs, [np.mean(x) for x in bs_fsa_mst_percent_matches], label=\"percent match MST with FSA\", color='lime')\n",
    "plt.axhline(y=np.mean(mst_matches), label=\"exact match without constraints\", linewidth=1, linestyle='dashed', color='maroon')\n",
    "plt.axhline(y=np.mean(mst_percent_matches), label=\"percent match without constraints\", linewidth=1, linestyle='dashed', color='red')\n",
    "plt.legend(loc=\"center left\" ,prop={'size': 7})\n",
    "plt.xlabel(\"number of beams\")\n",
    "plt.xticks(nbs)\n",
    "plt.title(\"Beam Search Performance\")"
   ]
  },
  {
   "cell_type": "code",
   "execution_count": null,
   "metadata": {},
   "outputs": [],
   "source": []
  }
 ],
 "metadata": {
  "colab": {
   "authorship_tag": "ABX9TyMaryfdWotNQ+0WujsI4xVX",
   "collapsed_sections": [],
   "name": "dep_parse_beam_search_stats.ipynb",
   "provenance": [
    {
     "file_id": "12vhDIBr99WdBUBjJo8g4NhdysReIVbpD",
     "timestamp": 1660223041876
    }
   ]
  },
  "kernelspec": {
   "display_name": "afltproj",
   "language": "python",
   "name": "afltproj"
  },
  "language_info": {
   "codemirror_mode": {
    "name": "ipython",
    "version": 3
   },
   "file_extension": ".py",
   "mimetype": "text/x-python",
   "name": "python",
   "nbconvert_exporter": "python",
   "pygments_lexer": "ipython3",
   "version": "3.10.4"
  },
  "widgets": {
   "application/vnd.jupyter.widget-state+json": {
    "01310df292ee43709de11cf4f2aa4ccd": {
     "model_module": "@jupyter-widgets/controls",
     "model_module_version": "1.5.0",
     "model_name": "HBoxModel",
     "state": {
      "_dom_classes": [],
      "_model_module": "@jupyter-widgets/controls",
      "_model_module_version": "1.5.0",
      "_model_name": "HBoxModel",
      "_view_count": null,
      "_view_module": "@jupyter-widgets/controls",
      "_view_module_version": "1.5.0",
      "_view_name": "HBoxView",
      "box_style": "",
      "children": [
       "IPY_MODEL_a593548ae92c4928b6638cf53efb0876",
       "IPY_MODEL_a755cac4cd544a44a946ab7f3ac050e9",
       "IPY_MODEL_684021e59dae4fc7890617ccdfcf6c33"
      ],
      "layout": "IPY_MODEL_27e7aad89ccd4936be0f6b4acc06dd5b"
     }
    },
    "01fc9fbb98104b4daf77b222d5d3e37d": {
     "model_module": "@jupyter-widgets/controls",
     "model_module_version": "1.5.0",
     "model_name": "DescriptionStyleModel",
     "state": {
      "_model_module": "@jupyter-widgets/controls",
      "_model_module_version": "1.5.0",
      "_model_name": "DescriptionStyleModel",
      "_view_count": null,
      "_view_module": "@jupyter-widgets/base",
      "_view_module_version": "1.2.0",
      "_view_name": "StyleView",
      "description_width": ""
     }
    },
    "0398b5b564c74ece99b3b03723cb5736": {
     "model_module": "@jupyter-widgets/base",
     "model_module_version": "1.2.0",
     "model_name": "LayoutModel",
     "state": {
      "_model_module": "@jupyter-widgets/base",
      "_model_module_version": "1.2.0",
      "_model_name": "LayoutModel",
      "_view_count": null,
      "_view_module": "@jupyter-widgets/base",
      "_view_module_version": "1.2.0",
      "_view_name": "LayoutView",
      "align_content": null,
      "align_items": null,
      "align_self": null,
      "border": null,
      "bottom": null,
      "display": null,
      "flex": null,
      "flex_flow": null,
      "grid_area": null,
      "grid_auto_columns": null,
      "grid_auto_flow": null,
      "grid_auto_rows": null,
      "grid_column": null,
      "grid_gap": null,
      "grid_row": null,
      "grid_template_areas": null,
      "grid_template_columns": null,
      "grid_template_rows": null,
      "height": null,
      "justify_content": null,
      "justify_items": null,
      "left": null,
      "margin": null,
      "max_height": null,
      "max_width": null,
      "min_height": null,
      "min_width": null,
      "object_fit": null,
      "object_position": null,
      "order": null,
      "overflow": null,
      "overflow_x": null,
      "overflow_y": null,
      "padding": null,
      "right": null,
      "top": null,
      "visibility": null,
      "width": null
     }
    },
    "05a409713172412badd66b81773d6014": {
     "model_module": "@jupyter-widgets/controls",
     "model_module_version": "1.5.0",
     "model_name": "HTMLModel",
     "state": {
      "_dom_classes": [],
      "_model_module": "@jupyter-widgets/controls",
      "_model_module_version": "1.5.0",
      "_model_name": "HTMLModel",
      "_view_count": null,
      "_view_module": "@jupyter-widgets/controls",
      "_view_module_version": "1.5.0",
      "_view_name": "HTMLView",
      "description": "",
      "description_tooltip": null,
      "layout": "IPY_MODEL_cbeeb337829d43c79c279275cedb9852",
      "placeholder": "​",
      "style": "IPY_MODEL_9890fe952c0240a89ceabe7380e9898e",
      "value": " 208k/208k [00:00&lt;00:00, 675kB/s]"
     }
    },
    "0a68acd4aa444895934c2ad8de1b7cb4": {
     "model_module": "@jupyter-widgets/controls",
     "model_module_version": "1.5.0",
     "model_name": "DescriptionStyleModel",
     "state": {
      "_model_module": "@jupyter-widgets/controls",
      "_model_module_version": "1.5.0",
      "_model_name": "DescriptionStyleModel",
      "_view_count": null,
      "_view_module": "@jupyter-widgets/base",
      "_view_module_version": "1.2.0",
      "_view_name": "StyleView",
      "description_width": ""
     }
    },
    "0afc35c935874ab3b99ce1d7a1ba05f9": {
     "model_module": "@jupyter-widgets/controls",
     "model_module_version": "1.5.0",
     "model_name": "FloatProgressModel",
     "state": {
      "_dom_classes": [],
      "_model_module": "@jupyter-widgets/controls",
      "_model_module_version": "1.5.0",
      "_model_name": "FloatProgressModel",
      "_view_count": null,
      "_view_module": "@jupyter-widgets/controls",
      "_view_module_version": "1.5.0",
      "_view_name": "ProgressView",
      "bar_style": "",
      "description": "",
      "description_tooltip": null,
      "layout": "IPY_MODEL_b19e9f92ef014513a7bbd3a13486c013",
      "max": 4287,
      "min": 0,
      "orientation": "horizontal",
      "style": "IPY_MODEL_5162823d4b3043aaa349387aef3289d1",
      "value": 4287
     }
    },
    "0b7384a87f1f48fb97d042b4caa70df6": {
     "model_module": "@jupyter-widgets/base",
     "model_module_version": "1.2.0",
     "model_name": "LayoutModel",
     "state": {
      "_model_module": "@jupyter-widgets/base",
      "_model_module_version": "1.2.0",
      "_model_name": "LayoutModel",
      "_view_count": null,
      "_view_module": "@jupyter-widgets/base",
      "_view_module_version": "1.2.0",
      "_view_name": "LayoutView",
      "align_content": null,
      "align_items": null,
      "align_self": null,
      "border": null,
      "bottom": null,
      "display": null,
      "flex": null,
      "flex_flow": null,
      "grid_area": null,
      "grid_auto_columns": null,
      "grid_auto_flow": null,
      "grid_auto_rows": null,
      "grid_column": null,
      "grid_gap": null,
      "grid_row": null,
      "grid_template_areas": null,
      "grid_template_columns": null,
      "grid_template_rows": null,
      "height": null,
      "justify_content": null,
      "justify_items": null,
      "left": null,
      "margin": null,
      "max_height": null,
      "max_width": null,
      "min_height": null,
      "min_width": null,
      "object_fit": null,
      "object_position": null,
      "order": null,
      "overflow": null,
      "overflow_x": null,
      "overflow_y": null,
      "padding": null,
      "right": null,
      "top": null,
      "visibility": null,
      "width": null
     }
    },
    "0c312f30ced14eb79ea5dd7612246544": {
     "model_module": "@jupyter-widgets/controls",
     "model_module_version": "1.5.0",
     "model_name": "FloatProgressModel",
     "state": {
      "_dom_classes": [],
      "_model_module": "@jupyter-widgets/controls",
      "_model_module_version": "1.5.0",
      "_model_name": "FloatProgressModel",
      "_view_count": null,
      "_view_module": "@jupyter-widgets/controls",
      "_view_module_version": "1.5.0",
      "_view_name": "ProgressView",
      "bar_style": "success",
      "description": "",
      "description_tooltip": null,
      "layout": "IPY_MODEL_a0687b0ad2f545bc992220cc10648fe3",
      "max": 213450,
      "min": 0,
      "orientation": "horizontal",
      "style": "IPY_MODEL_68f54113a4e44ca7ad1092a579fcd742",
      "value": 213450
     }
    },
    "0fe618c5a010448bb62f2b0df2031a9f": {
     "model_module": "@jupyter-widgets/controls",
     "model_module_version": "1.5.0",
     "model_name": "HTMLModel",
     "state": {
      "_dom_classes": [],
      "_model_module": "@jupyter-widgets/controls",
      "_model_module_version": "1.5.0",
      "_model_name": "HTMLModel",
      "_view_count": null,
      "_view_module": "@jupyter-widgets/controls",
      "_view_module_version": "1.5.0",
      "_view_name": "HTMLView",
      "description": "",
      "description_tooltip": null,
      "layout": "IPY_MODEL_a5c4d0f5f79542dea7d2a0c588d9d5ef",
      "placeholder": "​",
      "style": "IPY_MODEL_bedf5f275ad94e46a582c28e1f306107",
      "value": "Extracting data files: 100%"
     }
    },
    "15100945961745c5a950f1376603cc74": {
     "model_module": "@jupyter-widgets/controls",
     "model_module_version": "1.5.0",
     "model_name": "ProgressStyleModel",
     "state": {
      "_model_module": "@jupyter-widgets/controls",
      "_model_module_version": "1.5.0",
      "_model_name": "ProgressStyleModel",
      "_view_count": null,
      "_view_module": "@jupyter-widgets/base",
      "_view_module_version": "1.2.0",
      "_view_name": "StyleView",
      "bar_color": null,
      "description_width": ""
     }
    },
    "15e54667ece74fc0974f59614f842e91": {
     "model_module": "@jupyter-widgets/controls",
     "model_module_version": "1.5.0",
     "model_name": "DescriptionStyleModel",
     "state": {
      "_model_module": "@jupyter-widgets/controls",
      "_model_module_version": "1.5.0",
      "_model_name": "DescriptionStyleModel",
      "_view_count": null,
      "_view_module": "@jupyter-widgets/base",
      "_view_module_version": "1.2.0",
      "_view_name": "StyleView",
      "description_width": ""
     }
    },
    "176592c89ed34a16b1876e97b899d423": {
     "model_module": "@jupyter-widgets/base",
     "model_module_version": "1.2.0",
     "model_name": "LayoutModel",
     "state": {
      "_model_module": "@jupyter-widgets/base",
      "_model_module_version": "1.2.0",
      "_model_name": "LayoutModel",
      "_view_count": null,
      "_view_module": "@jupyter-widgets/base",
      "_view_module_version": "1.2.0",
      "_view_name": "LayoutView",
      "align_content": null,
      "align_items": null,
      "align_self": null,
      "border": null,
      "bottom": null,
      "display": null,
      "flex": null,
      "flex_flow": null,
      "grid_area": null,
      "grid_auto_columns": null,
      "grid_auto_flow": null,
      "grid_auto_rows": null,
      "grid_column": null,
      "grid_gap": null,
      "grid_row": null,
      "grid_template_areas": null,
      "grid_template_columns": null,
      "grid_template_rows": null,
      "height": null,
      "justify_content": null,
      "justify_items": null,
      "left": null,
      "margin": null,
      "max_height": null,
      "max_width": null,
      "min_height": null,
      "min_width": null,
      "object_fit": null,
      "object_position": null,
      "order": null,
      "overflow": null,
      "overflow_x": null,
      "overflow_y": null,
      "padding": null,
      "right": null,
      "top": null,
      "visibility": null,
      "width": null
     }
    },
    "17a26ccfea9047449857153dccd2a7ed": {
     "model_module": "@jupyter-widgets/base",
     "model_module_version": "1.2.0",
     "model_name": "LayoutModel",
     "state": {
      "_model_module": "@jupyter-widgets/base",
      "_model_module_version": "1.2.0",
      "_model_name": "LayoutModel",
      "_view_count": null,
      "_view_module": "@jupyter-widgets/base",
      "_view_module_version": "1.2.0",
      "_view_name": "LayoutView",
      "align_content": null,
      "align_items": null,
      "align_self": null,
      "border": null,
      "bottom": null,
      "display": null,
      "flex": null,
      "flex_flow": null,
      "grid_area": null,
      "grid_auto_columns": null,
      "grid_auto_flow": null,
      "grid_auto_rows": null,
      "grid_column": null,
      "grid_gap": null,
      "grid_row": null,
      "grid_template_areas": null,
      "grid_template_columns": null,
      "grid_template_rows": null,
      "height": null,
      "justify_content": null,
      "justify_items": null,
      "left": null,
      "margin": null,
      "max_height": null,
      "max_width": null,
      "min_height": null,
      "min_width": null,
      "object_fit": null,
      "object_position": null,
      "order": null,
      "overflow": null,
      "overflow_x": null,
      "overflow_y": null,
      "padding": null,
      "right": null,
      "top": null,
      "visibility": null,
      "width": null
     }
    },
    "17df30852cef4b21afff78563efc79ad": {
     "model_module": "@jupyter-widgets/base",
     "model_module_version": "1.2.0",
     "model_name": "LayoutModel",
     "state": {
      "_model_module": "@jupyter-widgets/base",
      "_model_module_version": "1.2.0",
      "_model_name": "LayoutModel",
      "_view_count": null,
      "_view_module": "@jupyter-widgets/base",
      "_view_module_version": "1.2.0",
      "_view_name": "LayoutView",
      "align_content": null,
      "align_items": null,
      "align_self": null,
      "border": null,
      "bottom": null,
      "display": null,
      "flex": null,
      "flex_flow": null,
      "grid_area": null,
      "grid_auto_columns": null,
      "grid_auto_flow": null,
      "grid_auto_rows": null,
      "grid_column": null,
      "grid_gap": null,
      "grid_row": null,
      "grid_template_areas": null,
      "grid_template_columns": null,
      "grid_template_rows": null,
      "height": null,
      "justify_content": null,
      "justify_items": null,
      "left": null,
      "margin": null,
      "max_height": null,
      "max_width": null,
      "min_height": null,
      "min_width": null,
      "object_fit": null,
      "object_position": null,
      "order": null,
      "overflow": null,
      "overflow_x": null,
      "overflow_y": null,
      "padding": null,
      "right": null,
      "top": null,
      "visibility": null,
      "width": null
     }
    },
    "18f3083df3fe4bc2a9363642cc80e139": {
     "model_module": "@jupyter-widgets/base",
     "model_module_version": "1.2.0",
     "model_name": "LayoutModel",
     "state": {
      "_model_module": "@jupyter-widgets/base",
      "_model_module_version": "1.2.0",
      "_model_name": "LayoutModel",
      "_view_count": null,
      "_view_module": "@jupyter-widgets/base",
      "_view_module_version": "1.2.0",
      "_view_name": "LayoutView",
      "align_content": null,
      "align_items": null,
      "align_self": null,
      "border": null,
      "bottom": null,
      "display": null,
      "flex": null,
      "flex_flow": null,
      "grid_area": null,
      "grid_auto_columns": null,
      "grid_auto_flow": null,
      "grid_auto_rows": null,
      "grid_column": null,
      "grid_gap": null,
      "grid_row": null,
      "grid_template_areas": null,
      "grid_template_columns": null,
      "grid_template_rows": null,
      "height": null,
      "justify_content": null,
      "justify_items": null,
      "left": null,
      "margin": null,
      "max_height": null,
      "max_width": null,
      "min_height": null,
      "min_width": null,
      "object_fit": null,
      "object_position": null,
      "order": null,
      "overflow": null,
      "overflow_x": null,
      "overflow_y": null,
      "padding": null,
      "right": null,
      "top": null,
      "visibility": null,
      "width": null
     }
    },
    "1c393ec54d1f462b939600af9330b151": {
     "model_module": "@jupyter-widgets/controls",
     "model_module_version": "1.5.0",
     "model_name": "HTMLModel",
     "state": {
      "_dom_classes": [],
      "_model_module": "@jupyter-widgets/controls",
      "_model_module_version": "1.5.0",
      "_model_name": "HTMLModel",
      "_view_count": null,
      "_view_module": "@jupyter-widgets/controls",
      "_view_module_version": "1.5.0",
      "_view_name": "HTMLView",
      "description": "",
      "description_tooltip": null,
      "layout": "IPY_MODEL_0b7384a87f1f48fb97d042b4caa70df6",
      "placeholder": "​",
      "style": "IPY_MODEL_adc1203fadaf4f4593a8cf214ac68c99",
      "value": " 29.0/29.0 [00:00&lt;00:00, 225B/s]"
     }
    },
    "1c3d6c0af27a40538b7a3cf03dc1efc4": {
     "model_module": "@jupyter-widgets/base",
     "model_module_version": "1.2.0",
     "model_name": "LayoutModel",
     "state": {
      "_model_module": "@jupyter-widgets/base",
      "_model_module_version": "1.2.0",
      "_model_name": "LayoutModel",
      "_view_count": null,
      "_view_module": "@jupyter-widgets/base",
      "_view_module_version": "1.2.0",
      "_view_name": "LayoutView",
      "align_content": null,
      "align_items": null,
      "align_self": null,
      "border": null,
      "bottom": null,
      "display": null,
      "flex": null,
      "flex_flow": null,
      "grid_area": null,
      "grid_auto_columns": null,
      "grid_auto_flow": null,
      "grid_auto_rows": null,
      "grid_column": null,
      "grid_gap": null,
      "grid_row": null,
      "grid_template_areas": null,
      "grid_template_columns": null,
      "grid_template_rows": null,
      "height": null,
      "justify_content": null,
      "justify_items": null,
      "left": null,
      "margin": null,
      "max_height": null,
      "max_width": null,
      "min_height": null,
      "min_width": null,
      "object_fit": null,
      "object_position": null,
      "order": null,
      "overflow": null,
      "overflow_x": null,
      "overflow_y": null,
      "padding": null,
      "right": null,
      "top": null,
      "visibility": null,
      "width": null
     }
    },
    "1cbe812b5c0441408cc6c477b8d5098a": {
     "model_module": "@jupyter-widgets/controls",
     "model_module_version": "1.5.0",
     "model_name": "DescriptionStyleModel",
     "state": {
      "_model_module": "@jupyter-widgets/controls",
      "_model_module_version": "1.5.0",
      "_model_name": "DescriptionStyleModel",
      "_view_count": null,
      "_view_module": "@jupyter-widgets/base",
      "_view_module_version": "1.2.0",
      "_view_name": "StyleView",
      "description_width": ""
     }
    },
    "1cfc4e1f2f07493e9a4d06175a4fe249": {
     "model_module": "@jupyter-widgets/controls",
     "model_module_version": "1.5.0",
     "model_name": "HBoxModel",
     "state": {
      "_dom_classes": [],
      "_model_module": "@jupyter-widgets/controls",
      "_model_module_version": "1.5.0",
      "_model_name": "HBoxModel",
      "_view_count": null,
      "_view_module": "@jupyter-widgets/controls",
      "_view_module_version": "1.5.0",
      "_view_name": "HBoxView",
      "box_style": "",
      "children": [
       "IPY_MODEL_b656cfac056740e8b99b81cf6a92f104",
       "IPY_MODEL_215c37dc96e94fa9a9447707861753be",
       "IPY_MODEL_80413e28c57041c7b45c8bd22319c1f5"
      ],
      "layout": "IPY_MODEL_87c57c9cf3884b80bade9c80d1b0b96a"
     }
    },
    "1ef42ceebb55402fbc42d48c1c34c7b6": {
     "model_module": "@jupyter-widgets/controls",
     "model_module_version": "1.5.0",
     "model_name": "HTMLModel",
     "state": {
      "_dom_classes": [],
      "_model_module": "@jupyter-widgets/controls",
      "_model_module_version": "1.5.0",
      "_model_name": "HTMLModel",
      "_view_count": null,
      "_view_module": "@jupyter-widgets/controls",
      "_view_module_version": "1.5.0",
      "_view_name": "HTMLView",
      "description": "",
      "description_tooltip": null,
      "layout": "IPY_MODEL_c210828d03504160afe9850ad0dd3032",
      "placeholder": "​",
      "style": "IPY_MODEL_dab3bb4ada6846c8b61861d3faf168be",
      "value": " 1.05M/? [00:00&lt;00:00, 15.1kB/s]"
     }
    },
    "202086d9a08540a68e3aa7441bad5d39": {
     "model_module": "@jupyter-widgets/controls",
     "model_module_version": "1.5.0",
     "model_name": "DescriptionStyleModel",
     "state": {
      "_model_module": "@jupyter-widgets/controls",
      "_model_module_version": "1.5.0",
      "_model_name": "DescriptionStyleModel",
      "_view_count": null,
      "_view_module": "@jupyter-widgets/base",
      "_view_module_version": "1.2.0",
      "_view_name": "StyleView",
      "description_width": ""
     }
    },
    "215c37dc96e94fa9a9447707861753be": {
     "model_module": "@jupyter-widgets/controls",
     "model_module_version": "1.5.0",
     "model_name": "FloatProgressModel",
     "state": {
      "_dom_classes": [],
      "_model_module": "@jupyter-widgets/controls",
      "_model_module_version": "1.5.0",
      "_model_name": "FloatProgressModel",
      "_view_count": null,
      "_view_module": "@jupyter-widgets/controls",
      "_view_module_version": "1.5.0",
      "_view_name": "ProgressView",
      "bar_style": "success",
      "description": "",
      "description_tooltip": null,
      "layout": "IPY_MODEL_313a0dcfc09d4ca7973ccdc1a1f54d1c",
      "max": 59485,
      "min": 0,
      "orientation": "horizontal",
      "style": "IPY_MODEL_c863c8c3692245d49ccd3667f9e54dd7",
      "value": 59485
     }
    },
    "21fa453f4ea941eb806c08e3ca7d846d": {
     "model_module": "@jupyter-widgets/base",
     "model_module_version": "1.2.0",
     "model_name": "LayoutModel",
     "state": {
      "_model_module": "@jupyter-widgets/base",
      "_model_module_version": "1.2.0",
      "_model_name": "LayoutModel",
      "_view_count": null,
      "_view_module": "@jupyter-widgets/base",
      "_view_module_version": "1.2.0",
      "_view_name": "LayoutView",
      "align_content": null,
      "align_items": null,
      "align_self": null,
      "border": null,
      "bottom": null,
      "display": null,
      "flex": null,
      "flex_flow": null,
      "grid_area": null,
      "grid_auto_columns": null,
      "grid_auto_flow": null,
      "grid_auto_rows": null,
      "grid_column": null,
      "grid_gap": null,
      "grid_row": null,
      "grid_template_areas": null,
      "grid_template_columns": null,
      "grid_template_rows": null,
      "height": null,
      "justify_content": null,
      "justify_items": null,
      "left": null,
      "margin": null,
      "max_height": null,
      "max_width": null,
      "min_height": null,
      "min_width": null,
      "object_fit": null,
      "object_position": null,
      "order": null,
      "overflow": null,
      "overflow_x": null,
      "overflow_y": null,
      "padding": null,
      "right": null,
      "top": null,
      "visibility": null,
      "width": null
     }
    },
    "23d77f335f5541b380d0ca13610b2239": {
     "model_module": "@jupyter-widgets/base",
     "model_module_version": "1.2.0",
     "model_name": "LayoutModel",
     "state": {
      "_model_module": "@jupyter-widgets/base",
      "_model_module_version": "1.2.0",
      "_model_name": "LayoutModel",
      "_view_count": null,
      "_view_module": "@jupyter-widgets/base",
      "_view_module_version": "1.2.0",
      "_view_name": "LayoutView",
      "align_content": null,
      "align_items": null,
      "align_self": null,
      "border": null,
      "bottom": null,
      "display": null,
      "flex": null,
      "flex_flow": null,
      "grid_area": null,
      "grid_auto_columns": null,
      "grid_auto_flow": null,
      "grid_auto_rows": null,
      "grid_column": null,
      "grid_gap": null,
      "grid_row": null,
      "grid_template_areas": null,
      "grid_template_columns": null,
      "grid_template_rows": null,
      "height": null,
      "justify_content": null,
      "justify_items": null,
      "left": null,
      "margin": null,
      "max_height": null,
      "max_width": null,
      "min_height": null,
      "min_width": null,
      "object_fit": null,
      "object_position": null,
      "order": null,
      "overflow": null,
      "overflow_x": null,
      "overflow_y": null,
      "padding": null,
      "right": null,
      "top": null,
      "visibility": null,
      "width": null
     }
    },
    "23f900649d0a4d849f06ad6fdc12cb8a": {
     "model_module": "@jupyter-widgets/controls",
     "model_module_version": "1.5.0",
     "model_name": "HBoxModel",
     "state": {
      "_dom_classes": [],
      "_model_module": "@jupyter-widgets/controls",
      "_model_module_version": "1.5.0",
      "_model_name": "HBoxModel",
      "_view_count": null,
      "_view_module": "@jupyter-widgets/controls",
      "_view_module_version": "1.5.0",
      "_view_name": "HBoxView",
      "box_style": "",
      "children": [
       "IPY_MODEL_9b9fec6b947646a3b840c61be493a36f",
       "IPY_MODEL_af9b950d445e48c09c683dd71c3bb33a",
       "IPY_MODEL_89ada6c4b6dc4f3fb498558f725a65ec"
      ],
      "layout": "IPY_MODEL_3a6003fe7dcc495fab4e5a908fc8c139"
     }
    },
    "24a335d68f9941448e9609da200198a1": {
     "model_module": "@jupyter-widgets/controls",
     "model_module_version": "1.5.0",
     "model_name": "HBoxModel",
     "state": {
      "_dom_classes": [],
      "_model_module": "@jupyter-widgets/controls",
      "_model_module_version": "1.5.0",
      "_model_name": "HBoxModel",
      "_view_count": null,
      "_view_module": "@jupyter-widgets/controls",
      "_view_module_version": "1.5.0",
      "_view_name": "HBoxView",
      "box_style": "",
      "children": [
       "IPY_MODEL_5162c1b4e09a4a2d8976bc2dcc5ee6ae",
       "IPY_MODEL_0c312f30ced14eb79ea5dd7612246544",
       "IPY_MODEL_05a409713172412badd66b81773d6014"
      ],
      "layout": "IPY_MODEL_17df30852cef4b21afff78563efc79ad"
     }
    },
    "27e7aad89ccd4936be0f6b4acc06dd5b": {
     "model_module": "@jupyter-widgets/base",
     "model_module_version": "1.2.0",
     "model_name": "LayoutModel",
     "state": {
      "_model_module": "@jupyter-widgets/base",
      "_model_module_version": "1.2.0",
      "_model_name": "LayoutModel",
      "_view_count": null,
      "_view_module": "@jupyter-widgets/base",
      "_view_module_version": "1.2.0",
      "_view_name": "LayoutView",
      "align_content": null,
      "align_items": null,
      "align_self": null,
      "border": null,
      "bottom": null,
      "display": null,
      "flex": null,
      "flex_flow": null,
      "grid_area": null,
      "grid_auto_columns": null,
      "grid_auto_flow": null,
      "grid_auto_rows": null,
      "grid_column": null,
      "grid_gap": null,
      "grid_row": null,
      "grid_template_areas": null,
      "grid_template_columns": null,
      "grid_template_rows": null,
      "height": null,
      "justify_content": null,
      "justify_items": null,
      "left": null,
      "margin": null,
      "max_height": null,
      "max_width": null,
      "min_height": null,
      "min_width": null,
      "object_fit": null,
      "object_position": null,
      "order": null,
      "overflow": null,
      "overflow_x": null,
      "overflow_y": null,
      "padding": null,
      "right": null,
      "top": null,
      "visibility": null,
      "width": null
     }
    },
    "29dbaabd0991420fb3a92f5cf80793f7": {
     "model_module": "@jupyter-widgets/base",
     "model_module_version": "1.2.0",
     "model_name": "LayoutModel",
     "state": {
      "_model_module": "@jupyter-widgets/base",
      "_model_module_version": "1.2.0",
      "_model_name": "LayoutModel",
      "_view_count": null,
      "_view_module": "@jupyter-widgets/base",
      "_view_module_version": "1.2.0",
      "_view_name": "LayoutView",
      "align_content": null,
      "align_items": null,
      "align_self": null,
      "border": null,
      "bottom": null,
      "display": null,
      "flex": null,
      "flex_flow": null,
      "grid_area": null,
      "grid_auto_columns": null,
      "grid_auto_flow": null,
      "grid_auto_rows": null,
      "grid_column": null,
      "grid_gap": null,
      "grid_row": null,
      "grid_template_areas": null,
      "grid_template_columns": null,
      "grid_template_rows": null,
      "height": null,
      "justify_content": null,
      "justify_items": null,
      "left": null,
      "margin": null,
      "max_height": null,
      "max_width": null,
      "min_height": null,
      "min_width": null,
      "object_fit": null,
      "object_position": null,
      "order": null,
      "overflow": null,
      "overflow_x": null,
      "overflow_y": null,
      "padding": null,
      "right": null,
      "top": null,
      "visibility": null,
      "width": null
     }
    },
    "31069fab2d714bfaa91568fa1a1c03fb": {
     "model_module": "@jupyter-widgets/base",
     "model_module_version": "1.2.0",
     "model_name": "LayoutModel",
     "state": {
      "_model_module": "@jupyter-widgets/base",
      "_model_module_version": "1.2.0",
      "_model_name": "LayoutModel",
      "_view_count": null,
      "_view_module": "@jupyter-widgets/base",
      "_view_module_version": "1.2.0",
      "_view_name": "LayoutView",
      "align_content": null,
      "align_items": null,
      "align_self": null,
      "border": null,
      "bottom": null,
      "display": null,
      "flex": null,
      "flex_flow": null,
      "grid_area": null,
      "grid_auto_columns": null,
      "grid_auto_flow": null,
      "grid_auto_rows": null,
      "grid_column": null,
      "grid_gap": null,
      "grid_row": null,
      "grid_template_areas": null,
      "grid_template_columns": null,
      "grid_template_rows": null,
      "height": null,
      "justify_content": null,
      "justify_items": null,
      "left": null,
      "margin": null,
      "max_height": null,
      "max_width": null,
      "min_height": null,
      "min_width": null,
      "object_fit": null,
      "object_position": null,
      "order": null,
      "overflow": null,
      "overflow_x": null,
      "overflow_y": null,
      "padding": null,
      "right": null,
      "top": null,
      "visibility": null,
      "width": null
     }
    },
    "313a0dcfc09d4ca7973ccdc1a1f54d1c": {
     "model_module": "@jupyter-widgets/base",
     "model_module_version": "1.2.0",
     "model_name": "LayoutModel",
     "state": {
      "_model_module": "@jupyter-widgets/base",
      "_model_module_version": "1.2.0",
      "_model_name": "LayoutModel",
      "_view_count": null,
      "_view_module": "@jupyter-widgets/base",
      "_view_module_version": "1.2.0",
      "_view_name": "LayoutView",
      "align_content": null,
      "align_items": null,
      "align_self": null,
      "border": null,
      "bottom": null,
      "display": null,
      "flex": null,
      "flex_flow": null,
      "grid_area": null,
      "grid_auto_columns": null,
      "grid_auto_flow": null,
      "grid_auto_rows": null,
      "grid_column": null,
      "grid_gap": null,
      "grid_row": null,
      "grid_template_areas": null,
      "grid_template_columns": null,
      "grid_template_rows": null,
      "height": null,
      "justify_content": null,
      "justify_items": null,
      "left": null,
      "margin": null,
      "max_height": null,
      "max_width": null,
      "min_height": null,
      "min_width": null,
      "object_fit": null,
      "object_position": null,
      "order": null,
      "overflow": null,
      "overflow_x": null,
      "overflow_y": null,
      "padding": null,
      "right": null,
      "top": null,
      "visibility": null,
      "width": null
     }
    },
    "32442c56e3354f5e96bccb115f2207de": {
     "model_module": "@jupyter-widgets/controls",
     "model_module_version": "1.5.0",
     "model_name": "DescriptionStyleModel",
     "state": {
      "_model_module": "@jupyter-widgets/controls",
      "_model_module_version": "1.5.0",
      "_model_name": "DescriptionStyleModel",
      "_view_count": null,
      "_view_module": "@jupyter-widgets/base",
      "_view_module_version": "1.2.0",
      "_view_name": "StyleView",
      "description_width": ""
     }
    },
    "35cc4e22470a4a63b10f4303e939f0ff": {
     "model_module": "@jupyter-widgets/controls",
     "model_module_version": "1.5.0",
     "model_name": "DescriptionStyleModel",
     "state": {
      "_model_module": "@jupyter-widgets/controls",
      "_model_module_version": "1.5.0",
      "_model_name": "DescriptionStyleModel",
      "_view_count": null,
      "_view_module": "@jupyter-widgets/base",
      "_view_module_version": "1.2.0",
      "_view_name": "StyleView",
      "description_width": ""
     }
    },
    "3860157ad93d4aac9de1b983793a9a98": {
     "model_module": "@jupyter-widgets/base",
     "model_module_version": "1.2.0",
     "model_name": "LayoutModel",
     "state": {
      "_model_module": "@jupyter-widgets/base",
      "_model_module_version": "1.2.0",
      "_model_name": "LayoutModel",
      "_view_count": null,
      "_view_module": "@jupyter-widgets/base",
      "_view_module_version": "1.2.0",
      "_view_name": "LayoutView",
      "align_content": null,
      "align_items": null,
      "align_self": null,
      "border": null,
      "bottom": null,
      "display": null,
      "flex": null,
      "flex_flow": null,
      "grid_area": null,
      "grid_auto_columns": null,
      "grid_auto_flow": null,
      "grid_auto_rows": null,
      "grid_column": null,
      "grid_gap": null,
      "grid_row": null,
      "grid_template_areas": null,
      "grid_template_columns": null,
      "grid_template_rows": null,
      "height": null,
      "justify_content": null,
      "justify_items": null,
      "left": null,
      "margin": null,
      "max_height": null,
      "max_width": null,
      "min_height": null,
      "min_width": null,
      "object_fit": null,
      "object_position": null,
      "order": null,
      "overflow": null,
      "overflow_x": null,
      "overflow_y": null,
      "padding": null,
      "right": null,
      "top": null,
      "visibility": null,
      "width": null
     }
    },
    "39e77f29553c455ebea790f613b09448": {
     "model_module": "@jupyter-widgets/base",
     "model_module_version": "1.2.0",
     "model_name": "LayoutModel",
     "state": {
      "_model_module": "@jupyter-widgets/base",
      "_model_module_version": "1.2.0",
      "_model_name": "LayoutModel",
      "_view_count": null,
      "_view_module": "@jupyter-widgets/base",
      "_view_module_version": "1.2.0",
      "_view_name": "LayoutView",
      "align_content": null,
      "align_items": null,
      "align_self": null,
      "border": null,
      "bottom": null,
      "display": null,
      "flex": null,
      "flex_flow": null,
      "grid_area": null,
      "grid_auto_columns": null,
      "grid_auto_flow": null,
      "grid_auto_rows": null,
      "grid_column": null,
      "grid_gap": null,
      "grid_row": null,
      "grid_template_areas": null,
      "grid_template_columns": null,
      "grid_template_rows": null,
      "height": null,
      "justify_content": null,
      "justify_items": null,
      "left": null,
      "margin": null,
      "max_height": null,
      "max_width": null,
      "min_height": null,
      "min_width": null,
      "object_fit": null,
      "object_position": null,
      "order": null,
      "overflow": null,
      "overflow_x": null,
      "overflow_y": null,
      "padding": null,
      "right": null,
      "top": null,
      "visibility": null,
      "width": null
     }
    },
    "3a6003fe7dcc495fab4e5a908fc8c139": {
     "model_module": "@jupyter-widgets/base",
     "model_module_version": "1.2.0",
     "model_name": "LayoutModel",
     "state": {
      "_model_module": "@jupyter-widgets/base",
      "_model_module_version": "1.2.0",
      "_model_name": "LayoutModel",
      "_view_count": null,
      "_view_module": "@jupyter-widgets/base",
      "_view_module_version": "1.2.0",
      "_view_name": "LayoutView",
      "align_content": null,
      "align_items": null,
      "align_self": null,
      "border": null,
      "bottom": null,
      "display": null,
      "flex": null,
      "flex_flow": null,
      "grid_area": null,
      "grid_auto_columns": null,
      "grid_auto_flow": null,
      "grid_auto_rows": null,
      "grid_column": null,
      "grid_gap": null,
      "grid_row": null,
      "grid_template_areas": null,
      "grid_template_columns": null,
      "grid_template_rows": null,
      "height": null,
      "justify_content": null,
      "justify_items": null,
      "left": null,
      "margin": null,
      "max_height": null,
      "max_width": null,
      "min_height": null,
      "min_width": null,
      "object_fit": null,
      "object_position": null,
      "order": null,
      "overflow": null,
      "overflow_x": null,
      "overflow_y": null,
      "padding": null,
      "right": null,
      "top": null,
      "visibility": null,
      "width": null
     }
    },
    "3b0f718a5540494e95507457ee6ab2fa": {
     "model_module": "@jupyter-widgets/controls",
     "model_module_version": "1.5.0",
     "model_name": "DescriptionStyleModel",
     "state": {
      "_model_module": "@jupyter-widgets/controls",
      "_model_module_version": "1.5.0",
      "_model_name": "DescriptionStyleModel",
      "_view_count": null,
      "_view_module": "@jupyter-widgets/base",
      "_view_module_version": "1.2.0",
      "_view_name": "StyleView",
      "description_width": ""
     }
    },
    "3b60ef22d3874e1db64a2fa02ba24924": {
     "model_module": "@jupyter-widgets/controls",
     "model_module_version": "1.5.0",
     "model_name": "DescriptionStyleModel",
     "state": {
      "_model_module": "@jupyter-widgets/controls",
      "_model_module_version": "1.5.0",
      "_model_name": "DescriptionStyleModel",
      "_view_count": null,
      "_view_module": "@jupyter-widgets/base",
      "_view_module_version": "1.2.0",
      "_view_name": "StyleView",
      "description_width": ""
     }
    },
    "3d637b688fe44fdeaf6e6ca36e7798a0": {
     "model_module": "@jupyter-widgets/controls",
     "model_module_version": "1.5.0",
     "model_name": "HTMLModel",
     "state": {
      "_dom_classes": [],
      "_model_module": "@jupyter-widgets/controls",
      "_model_module_version": "1.5.0",
      "_model_name": "HTMLModel",
      "_view_count": null,
      "_view_module": "@jupyter-widgets/controls",
      "_view_module_version": "1.5.0",
      "_view_name": "HTMLView",
      "description": "",
      "description_tooltip": null,
      "layout": "IPY_MODEL_c5e9dee8a14d4119b8d3d176d644c6fa",
      "placeholder": "​",
      "style": "IPY_MODEL_8066755cca9f4ed980893dfc4c2c6c23",
      "value": " 570/570 [00:00&lt;00:00, 6.96kB/s]"
     }
    },
    "3dc9e4d8780641c98abb807360707430": {
     "model_module": "@jupyter-widgets/base",
     "model_module_version": "1.2.0",
     "model_name": "LayoutModel",
     "state": {
      "_model_module": "@jupyter-widgets/base",
      "_model_module_version": "1.2.0",
      "_model_name": "LayoutModel",
      "_view_count": null,
      "_view_module": "@jupyter-widgets/base",
      "_view_module_version": "1.2.0",
      "_view_name": "LayoutView",
      "align_content": null,
      "align_items": null,
      "align_self": null,
      "border": null,
      "bottom": null,
      "display": null,
      "flex": null,
      "flex_flow": null,
      "grid_area": null,
      "grid_auto_columns": null,
      "grid_auto_flow": null,
      "grid_auto_rows": null,
      "grid_column": null,
      "grid_gap": null,
      "grid_row": null,
      "grid_template_areas": null,
      "grid_template_columns": null,
      "grid_template_rows": null,
      "height": null,
      "justify_content": null,
      "justify_items": null,
      "left": null,
      "margin": null,
      "max_height": null,
      "max_width": null,
      "min_height": null,
      "min_width": null,
      "object_fit": null,
      "object_position": null,
      "order": null,
      "overflow": null,
      "overflow_x": null,
      "overflow_y": null,
      "padding": null,
      "right": null,
      "top": null,
      "visibility": null,
      "width": null
     }
    },
    "40f3ff1ad2554b9cb8b3d947aa7fdbe0": {
     "model_module": "@jupyter-widgets/controls",
     "model_module_version": "1.5.0",
     "model_name": "HBoxModel",
     "state": {
      "_dom_classes": [],
      "_model_module": "@jupyter-widgets/controls",
      "_model_module_version": "1.5.0",
      "_model_name": "HBoxModel",
      "_view_count": null,
      "_view_module": "@jupyter-widgets/controls",
      "_view_module_version": "1.5.0",
      "_view_name": "HBoxView",
      "box_style": "",
      "children": [
       "IPY_MODEL_978ca4fe6b1f4edb81264ec347879f4b",
       "IPY_MODEL_0afc35c935874ab3b99ce1d7a1ba05f9",
       "IPY_MODEL_986ed9fb283144308512f31bbd83fc2b"
      ],
      "layout": "IPY_MODEL_615f9754930d4a3d9318fd1dfc5d86a5"
     }
    },
    "426ef7f531ac463997dc10b1af0c89d3": {
     "model_module": "@jupyter-widgets/controls",
     "model_module_version": "1.5.0",
     "model_name": "ProgressStyleModel",
     "state": {
      "_model_module": "@jupyter-widgets/controls",
      "_model_module_version": "1.5.0",
      "_model_name": "ProgressStyleModel",
      "_view_count": null,
      "_view_module": "@jupyter-widgets/base",
      "_view_module_version": "1.2.0",
      "_view_name": "StyleView",
      "bar_color": null,
      "description_width": ""
     }
    },
    "4314191836fc450f8a64085f45f623e8": {
     "model_module": "@jupyter-widgets/base",
     "model_module_version": "1.2.0",
     "model_name": "LayoutModel",
     "state": {
      "_model_module": "@jupyter-widgets/base",
      "_model_module_version": "1.2.0",
      "_model_name": "LayoutModel",
      "_view_count": null,
      "_view_module": "@jupyter-widgets/base",
      "_view_module_version": "1.2.0",
      "_view_name": "LayoutView",
      "align_content": null,
      "align_items": null,
      "align_self": null,
      "border": null,
      "bottom": null,
      "display": null,
      "flex": null,
      "flex_flow": null,
      "grid_area": null,
      "grid_auto_columns": null,
      "grid_auto_flow": null,
      "grid_auto_rows": null,
      "grid_column": null,
      "grid_gap": null,
      "grid_row": null,
      "grid_template_areas": null,
      "grid_template_columns": null,
      "grid_template_rows": null,
      "height": null,
      "justify_content": null,
      "justify_items": null,
      "left": null,
      "margin": null,
      "max_height": null,
      "max_width": null,
      "min_height": null,
      "min_width": null,
      "object_fit": null,
      "object_position": null,
      "order": null,
      "overflow": null,
      "overflow_x": null,
      "overflow_y": null,
      "padding": null,
      "right": null,
      "top": null,
      "visibility": null,
      "width": null
     }
    },
    "43738b8a3b8041d4a9bd5e5619f0058b": {
     "model_module": "@jupyter-widgets/base",
     "model_module_version": "1.2.0",
     "model_name": "LayoutModel",
     "state": {
      "_model_module": "@jupyter-widgets/base",
      "_model_module_version": "1.2.0",
      "_model_name": "LayoutModel",
      "_view_count": null,
      "_view_module": "@jupyter-widgets/base",
      "_view_module_version": "1.2.0",
      "_view_name": "LayoutView",
      "align_content": null,
      "align_items": null,
      "align_self": null,
      "border": null,
      "bottom": null,
      "display": null,
      "flex": null,
      "flex_flow": null,
      "grid_area": null,
      "grid_auto_columns": null,
      "grid_auto_flow": null,
      "grid_auto_rows": null,
      "grid_column": null,
      "grid_gap": null,
      "grid_row": null,
      "grid_template_areas": null,
      "grid_template_columns": null,
      "grid_template_rows": null,
      "height": null,
      "justify_content": null,
      "justify_items": null,
      "left": null,
      "margin": null,
      "max_height": null,
      "max_width": null,
      "min_height": null,
      "min_width": null,
      "object_fit": null,
      "object_position": null,
      "order": null,
      "overflow": null,
      "overflow_x": null,
      "overflow_y": null,
      "padding": null,
      "right": null,
      "top": null,
      "visibility": null,
      "width": null
     }
    },
    "4666c5e6b6cf4dc187b7328d1e01a866": {
     "model_module": "@jupyter-widgets/controls",
     "model_module_version": "1.5.0",
     "model_name": "HBoxModel",
     "state": {
      "_dom_classes": [],
      "_model_module": "@jupyter-widgets/controls",
      "_model_module_version": "1.5.0",
      "_model_name": "HBoxModel",
      "_view_count": null,
      "_view_module": "@jupyter-widgets/controls",
      "_view_module_version": "1.5.0",
      "_view_name": "HBoxView",
      "box_style": "",
      "children": [
       "IPY_MODEL_fe3b0f825f254387b80fd10682f421dc",
       "IPY_MODEL_d2c7346dc0034df39eb01199c4a6be64",
       "IPY_MODEL_f35e2f7dc684472fbefecd2143049ff4"
      ],
      "layout": "IPY_MODEL_dc5b3b514c874cbba0c959e062cf9262"
     }
    },
    "4a65196dd5184089b1da25e8020bc4b0": {
     "model_module": "@jupyter-widgets/controls",
     "model_module_version": "1.5.0",
     "model_name": "ProgressStyleModel",
     "state": {
      "_model_module": "@jupyter-widgets/controls",
      "_model_module_version": "1.5.0",
      "_model_name": "ProgressStyleModel",
      "_view_count": null,
      "_view_module": "@jupyter-widgets/base",
      "_view_module_version": "1.2.0",
      "_view_name": "StyleView",
      "bar_color": null,
      "description_width": ""
     }
    },
    "4b5178d20d7247978cd456903fcbaa6e": {
     "model_module": "@jupyter-widgets/controls",
     "model_module_version": "1.5.0",
     "model_name": "HBoxModel",
     "state": {
      "_dom_classes": [],
      "_model_module": "@jupyter-widgets/controls",
      "_model_module_version": "1.5.0",
      "_model_name": "HBoxModel",
      "_view_count": null,
      "_view_module": "@jupyter-widgets/controls",
      "_view_module_version": "1.5.0",
      "_view_name": "HBoxView",
      "box_style": "",
      "children": [
       "IPY_MODEL_0fe618c5a010448bb62f2b0df2031a9f",
       "IPY_MODEL_99bbdf663e7844a08da97c3488c28dc6",
       "IPY_MODEL_aa15cf0487ac4350b2f24514bc926969"
      ],
      "layout": "IPY_MODEL_e48791eb74dd47a59ece78ff031a4d5a"
     }
    },
    "4cf16db5ddb74bf798c560d62042e6e9": {
     "model_module": "@jupyter-widgets/base",
     "model_module_version": "1.2.0",
     "model_name": "LayoutModel",
     "state": {
      "_model_module": "@jupyter-widgets/base",
      "_model_module_version": "1.2.0",
      "_model_name": "LayoutModel",
      "_view_count": null,
      "_view_module": "@jupyter-widgets/base",
      "_view_module_version": "1.2.0",
      "_view_name": "LayoutView",
      "align_content": null,
      "align_items": null,
      "align_self": null,
      "border": null,
      "bottom": null,
      "display": null,
      "flex": null,
      "flex_flow": null,
      "grid_area": null,
      "grid_auto_columns": null,
      "grid_auto_flow": null,
      "grid_auto_rows": null,
      "grid_column": null,
      "grid_gap": null,
      "grid_row": null,
      "grid_template_areas": null,
      "grid_template_columns": null,
      "grid_template_rows": null,
      "height": null,
      "justify_content": null,
      "justify_items": null,
      "left": null,
      "margin": null,
      "max_height": null,
      "max_width": null,
      "min_height": null,
      "min_width": null,
      "object_fit": null,
      "object_position": null,
      "order": null,
      "overflow": null,
      "overflow_x": null,
      "overflow_y": null,
      "padding": null,
      "right": null,
      "top": null,
      "visibility": null,
      "width": null
     }
    },
    "4e2ca3929a34420d8eafef9cc6386078": {
     "model_module": "@jupyter-widgets/controls",
     "model_module_version": "1.5.0",
     "model_name": "ProgressStyleModel",
     "state": {
      "_model_module": "@jupyter-widgets/controls",
      "_model_module_version": "1.5.0",
      "_model_name": "ProgressStyleModel",
      "_view_count": null,
      "_view_module": "@jupyter-widgets/base",
      "_view_module_version": "1.2.0",
      "_view_name": "StyleView",
      "bar_color": null,
      "description_width": ""
     }
    },
    "4f0f9a6e366445ad8c977c21ecbea561": {
     "model_module": "@jupyter-widgets/controls",
     "model_module_version": "1.5.0",
     "model_name": "ProgressStyleModel",
     "state": {
      "_model_module": "@jupyter-widgets/controls",
      "_model_module_version": "1.5.0",
      "_model_name": "ProgressStyleModel",
      "_view_count": null,
      "_view_module": "@jupyter-widgets/base",
      "_view_module_version": "1.2.0",
      "_view_name": "StyleView",
      "bar_color": null,
      "description_width": ""
     }
    },
    "5162823d4b3043aaa349387aef3289d1": {
     "model_module": "@jupyter-widgets/controls",
     "model_module_version": "1.5.0",
     "model_name": "ProgressStyleModel",
     "state": {
      "_model_module": "@jupyter-widgets/controls",
      "_model_module_version": "1.5.0",
      "_model_name": "ProgressStyleModel",
      "_view_count": null,
      "_view_module": "@jupyter-widgets/base",
      "_view_module_version": "1.2.0",
      "_view_name": "StyleView",
      "bar_color": null,
      "description_width": ""
     }
    },
    "5162c1b4e09a4a2d8976bc2dcc5ee6ae": {
     "model_module": "@jupyter-widgets/controls",
     "model_module_version": "1.5.0",
     "model_name": "HTMLModel",
     "state": {
      "_dom_classes": [],
      "_model_module": "@jupyter-widgets/controls",
      "_model_module_version": "1.5.0",
      "_model_name": "HTMLModel",
      "_view_count": null,
      "_view_module": "@jupyter-widgets/controls",
      "_view_module_version": "1.5.0",
      "_view_name": "HTMLView",
      "description": "",
      "description_tooltip": null,
      "layout": "IPY_MODEL_4cf16db5ddb74bf798c560d62042e6e9",
      "placeholder": "​",
      "style": "IPY_MODEL_cc7a6c47101f416c8f96ec486920ee83",
      "value": "Downloading vocab.txt: 100%"
     }
    },
    "536a6ac4457a4e23874f4589cca4575c": {
     "model_module": "@jupyter-widgets/base",
     "model_module_version": "1.2.0",
     "model_name": "LayoutModel",
     "state": {
      "_model_module": "@jupyter-widgets/base",
      "_model_module_version": "1.2.0",
      "_model_name": "LayoutModel",
      "_view_count": null,
      "_view_module": "@jupyter-widgets/base",
      "_view_module_version": "1.2.0",
      "_view_name": "LayoutView",
      "align_content": null,
      "align_items": null,
      "align_self": null,
      "border": null,
      "bottom": null,
      "display": null,
      "flex": null,
      "flex_flow": null,
      "grid_area": null,
      "grid_auto_columns": null,
      "grid_auto_flow": null,
      "grid_auto_rows": null,
      "grid_column": null,
      "grid_gap": null,
      "grid_row": null,
      "grid_template_areas": null,
      "grid_template_columns": null,
      "grid_template_rows": null,
      "height": null,
      "justify_content": null,
      "justify_items": null,
      "left": null,
      "margin": null,
      "max_height": null,
      "max_width": null,
      "min_height": null,
      "min_width": null,
      "object_fit": null,
      "object_position": null,
      "order": null,
      "overflow": null,
      "overflow_x": null,
      "overflow_y": null,
      "padding": null,
      "right": null,
      "top": null,
      "visibility": null,
      "width": null
     }
    },
    "54a00d9507a04650955fe48a08780632": {
     "model_module": "@jupyter-widgets/controls",
     "model_module_version": "1.5.0",
     "model_name": "HBoxModel",
     "state": {
      "_dom_classes": [],
      "_model_module": "@jupyter-widgets/controls",
      "_model_module_version": "1.5.0",
      "_model_name": "HBoxModel",
      "_view_count": null,
      "_view_module": "@jupyter-widgets/controls",
      "_view_module_version": "1.5.0",
      "_view_name": "HBoxView",
      "box_style": "",
      "children": [
       "IPY_MODEL_a0ce256141f94c20a218ef172ae8f6e8",
       "IPY_MODEL_dd07de931a7d404887bb05d389345f5b",
       "IPY_MODEL_bd656132b4bd4a14954cd7190563f469"
      ],
      "layout": "IPY_MODEL_3860157ad93d4aac9de1b983793a9a98"
     }
    },
    "5a6b5a8354ee40b2be220d1dba6834cc": {
     "model_module": "@jupyter-widgets/controls",
     "model_module_version": "1.5.0",
     "model_name": "FloatProgressModel",
     "state": {
      "_dom_classes": [],
      "_model_module": "@jupyter-widgets/controls",
      "_model_module_version": "1.5.0",
      "_model_name": "FloatProgressModel",
      "_view_count": null,
      "_view_module": "@jupyter-widgets/controls",
      "_view_module_version": "1.5.0",
      "_view_name": "ProgressView",
      "bar_style": "",
      "description": "",
      "description_tooltip": null,
      "layout": "IPY_MODEL_8b3b5f4d55c04e248933d3a5cfb1a658",
      "max": 784,
      "min": 0,
      "orientation": "horizontal",
      "style": "IPY_MODEL_4f0f9a6e366445ad8c977c21ecbea561",
      "value": 784
     }
    },
    "5f04d6feff6041268763bc7674be5a2a": {
     "model_module": "@jupyter-widgets/base",
     "model_module_version": "1.2.0",
     "model_name": "LayoutModel",
     "state": {
      "_model_module": "@jupyter-widgets/base",
      "_model_module_version": "1.2.0",
      "_model_name": "LayoutModel",
      "_view_count": null,
      "_view_module": "@jupyter-widgets/base",
      "_view_module_version": "1.2.0",
      "_view_name": "LayoutView",
      "align_content": null,
      "align_items": null,
      "align_self": null,
      "border": null,
      "bottom": null,
      "display": null,
      "flex": null,
      "flex_flow": null,
      "grid_area": null,
      "grid_auto_columns": null,
      "grid_auto_flow": null,
      "grid_auto_rows": null,
      "grid_column": null,
      "grid_gap": null,
      "grid_row": null,
      "grid_template_areas": null,
      "grid_template_columns": null,
      "grid_template_rows": null,
      "height": null,
      "justify_content": null,
      "justify_items": null,
      "left": null,
      "margin": null,
      "max_height": null,
      "max_width": null,
      "min_height": null,
      "min_width": null,
      "object_fit": null,
      "object_position": null,
      "order": null,
      "overflow": null,
      "overflow_x": null,
      "overflow_y": null,
      "padding": null,
      "right": null,
      "top": null,
      "visibility": null,
      "width": null
     }
    },
    "60fca973df7842f785bf2d813627a662": {
     "model_module": "@jupyter-widgets/controls",
     "model_module_version": "1.5.0",
     "model_name": "HTMLModel",
     "state": {
      "_dom_classes": [],
      "_model_module": "@jupyter-widgets/controls",
      "_model_module_version": "1.5.0",
      "_model_name": "HTMLModel",
      "_view_count": null,
      "_view_module": "@jupyter-widgets/controls",
      "_view_module_version": "1.5.0",
      "_view_name": "HTMLView",
      "description": "",
      "description_tooltip": null,
      "layout": "IPY_MODEL_c0e76d2f04e14bb2b317cb2cce25e92b",
      "placeholder": "​",
      "style": "IPY_MODEL_a7b0c212aae84d8b969cbe0e31d2773e",
      "value": " 3/3 [00:00&lt;00:00, 48.60it/s]"
     }
    },
    "614fab9013a548a791772c7175a4df4e": {
     "model_module": "@jupyter-widgets/base",
     "model_module_version": "1.2.0",
     "model_name": "LayoutModel",
     "state": {
      "_model_module": "@jupyter-widgets/base",
      "_model_module_version": "1.2.0",
      "_model_name": "LayoutModel",
      "_view_count": null,
      "_view_module": "@jupyter-widgets/base",
      "_view_module_version": "1.2.0",
      "_view_name": "LayoutView",
      "align_content": null,
      "align_items": null,
      "align_self": null,
      "border": null,
      "bottom": null,
      "display": null,
      "flex": null,
      "flex_flow": null,
      "grid_area": null,
      "grid_auto_columns": null,
      "grid_auto_flow": null,
      "grid_auto_rows": null,
      "grid_column": null,
      "grid_gap": null,
      "grid_row": null,
      "grid_template_areas": null,
      "grid_template_columns": null,
      "grid_template_rows": null,
      "height": null,
      "justify_content": null,
      "justify_items": null,
      "left": null,
      "margin": null,
      "max_height": null,
      "max_width": null,
      "min_height": null,
      "min_width": null,
      "object_fit": null,
      "object_position": null,
      "order": null,
      "overflow": null,
      "overflow_x": null,
      "overflow_y": null,
      "padding": null,
      "right": null,
      "top": null,
      "visibility": null,
      "width": null
     }
    },
    "615f9754930d4a3d9318fd1dfc5d86a5": {
     "model_module": "@jupyter-widgets/base",
     "model_module_version": "1.2.0",
     "model_name": "LayoutModel",
     "state": {
      "_model_module": "@jupyter-widgets/base",
      "_model_module_version": "1.2.0",
      "_model_name": "LayoutModel",
      "_view_count": null,
      "_view_module": "@jupyter-widgets/base",
      "_view_module_version": "1.2.0",
      "_view_name": "LayoutView",
      "align_content": null,
      "align_items": null,
      "align_self": null,
      "border": null,
      "bottom": null,
      "display": null,
      "flex": null,
      "flex_flow": null,
      "grid_area": null,
      "grid_auto_columns": null,
      "grid_auto_flow": null,
      "grid_auto_rows": null,
      "grid_column": null,
      "grid_gap": null,
      "grid_row": null,
      "grid_template_areas": null,
      "grid_template_columns": null,
      "grid_template_rows": null,
      "height": null,
      "justify_content": null,
      "justify_items": null,
      "left": null,
      "margin": null,
      "max_height": null,
      "max_width": null,
      "min_height": null,
      "min_width": null,
      "object_fit": null,
      "object_position": null,
      "order": null,
      "overflow": null,
      "overflow_x": null,
      "overflow_y": null,
      "padding": null,
      "right": null,
      "top": null,
      "visibility": null,
      "width": null
     }
    },
    "629fdf5f59df481e9dd25fabc1d19152": {
     "model_module": "@jupyter-widgets/controls",
     "model_module_version": "1.5.0",
     "model_name": "HTMLModel",
     "state": {
      "_dom_classes": [],
      "_model_module": "@jupyter-widgets/controls",
      "_model_module_version": "1.5.0",
      "_model_name": "HTMLModel",
      "_view_count": null,
      "_view_module": "@jupyter-widgets/controls",
      "_view_module_version": "1.5.0",
      "_view_name": "HTMLView",
      "description": "",
      "description_tooltip": null,
      "layout": "IPY_MODEL_e7f0a4ded68747f49d8ea6a0d35b6361",
      "placeholder": "​",
      "style": "IPY_MODEL_dbf7da01f33e48f78fa5e345a20ac190",
      "value": " 426k/426k [00:00&lt;00:00, 1.39MB/s]"
     }
    },
    "639c7623ed784d1c988f8eabf1fdf4e5": {
     "model_module": "@jupyter-widgets/base",
     "model_module_version": "1.2.0",
     "model_name": "LayoutModel",
     "state": {
      "_model_module": "@jupyter-widgets/base",
      "_model_module_version": "1.2.0",
      "_model_name": "LayoutModel",
      "_view_count": null,
      "_view_module": "@jupyter-widgets/base",
      "_view_module_version": "1.2.0",
      "_view_name": "LayoutView",
      "align_content": null,
      "align_items": null,
      "align_self": null,
      "border": null,
      "bottom": null,
      "display": null,
      "flex": null,
      "flex_flow": null,
      "grid_area": null,
      "grid_auto_columns": null,
      "grid_auto_flow": null,
      "grid_auto_rows": null,
      "grid_column": null,
      "grid_gap": null,
      "grid_row": null,
      "grid_template_areas": null,
      "grid_template_columns": null,
      "grid_template_rows": null,
      "height": null,
      "justify_content": null,
      "justify_items": null,
      "left": null,
      "margin": null,
      "max_height": null,
      "max_width": null,
      "min_height": null,
      "min_width": null,
      "object_fit": null,
      "object_position": null,
      "order": null,
      "overflow": null,
      "overflow_x": null,
      "overflow_y": null,
      "padding": null,
      "right": null,
      "top": null,
      "visibility": null,
      "width": null
     }
    },
    "639e258521fb41189ee386167fada461": {
     "model_module": "@jupyter-widgets/base",
     "model_module_version": "1.2.0",
     "model_name": "LayoutModel",
     "state": {
      "_model_module": "@jupyter-widgets/base",
      "_model_module_version": "1.2.0",
      "_model_name": "LayoutModel",
      "_view_count": null,
      "_view_module": "@jupyter-widgets/base",
      "_view_module_version": "1.2.0",
      "_view_name": "LayoutView",
      "align_content": null,
      "align_items": null,
      "align_self": null,
      "border": null,
      "bottom": null,
      "display": null,
      "flex": null,
      "flex_flow": null,
      "grid_area": null,
      "grid_auto_columns": null,
      "grid_auto_flow": null,
      "grid_auto_rows": null,
      "grid_column": null,
      "grid_gap": null,
      "grid_row": null,
      "grid_template_areas": null,
      "grid_template_columns": null,
      "grid_template_rows": null,
      "height": null,
      "justify_content": null,
      "justify_items": null,
      "left": null,
      "margin": null,
      "max_height": null,
      "max_width": null,
      "min_height": null,
      "min_width": null,
      "object_fit": null,
      "object_position": null,
      "order": null,
      "overflow": null,
      "overflow_x": null,
      "overflow_y": null,
      "padding": null,
      "right": null,
      "top": null,
      "visibility": null,
      "width": null
     }
    },
    "66c08bb2d82f4a509b8917223171800b": {
     "model_module": "@jupyter-widgets/controls",
     "model_module_version": "1.5.0",
     "model_name": "FloatProgressModel",
     "state": {
      "_dom_classes": [],
      "_model_module": "@jupyter-widgets/controls",
      "_model_module_version": "1.5.0",
      "_model_name": "FloatProgressModel",
      "_view_count": null,
      "_view_module": "@jupyter-widgets/controls",
      "_view_module_version": "1.5.0",
      "_view_name": "ProgressView",
      "bar_style": "success",
      "description": "",
      "description_tooltip": null,
      "layout": "IPY_MODEL_17a26ccfea9047449857153dccd2a7ed",
      "max": 22681,
      "min": 0,
      "orientation": "horizontal",
      "style": "IPY_MODEL_e6cbb36b889c49fe9feebf46d45f044f",
      "value": 22681
     }
    },
    "684021e59dae4fc7890617ccdfcf6c33": {
     "model_module": "@jupyter-widgets/controls",
     "model_module_version": "1.5.0",
     "model_name": "HTMLModel",
     "state": {
      "_dom_classes": [],
      "_model_module": "@jupyter-widgets/controls",
      "_model_module_version": "1.5.0",
      "_model_name": "HTMLModel",
      "_view_count": null,
      "_view_module": "@jupyter-widgets/controls",
      "_view_module_version": "1.5.0",
      "_view_name": "HTMLView",
      "description": "",
      "description_tooltip": null,
      "layout": "IPY_MODEL_18f3083df3fe4bc2a9363642cc80e139",
      "placeholder": "​",
      "style": "IPY_MODEL_7d76ae6dc47c42688b461e081485931e",
      "value": " 814/890 [00:01&lt;00:00, 1213.59 examples/s]"
     }
    },
    "68f54113a4e44ca7ad1092a579fcd742": {
     "model_module": "@jupyter-widgets/controls",
     "model_module_version": "1.5.0",
     "model_name": "ProgressStyleModel",
     "state": {
      "_model_module": "@jupyter-widgets/controls",
      "_model_module_version": "1.5.0",
      "_model_name": "ProgressStyleModel",
      "_view_count": null,
      "_view_module": "@jupyter-widgets/base",
      "_view_module_version": "1.2.0",
      "_view_name": "StyleView",
      "bar_color": null,
      "description_width": ""
     }
    },
    "6a19c0acd9a1470d821194558a7600ab": {
     "model_module": "@jupyter-widgets/controls",
     "model_module_version": "1.5.0",
     "model_name": "DescriptionStyleModel",
     "state": {
      "_model_module": "@jupyter-widgets/controls",
      "_model_module_version": "1.5.0",
      "_model_name": "DescriptionStyleModel",
      "_view_count": null,
      "_view_module": "@jupyter-widgets/base",
      "_view_module_version": "1.2.0",
      "_view_name": "StyleView",
      "description_width": ""
     }
    },
    "6b66a63be25740f1ba03eb8bf19ae531": {
     "model_module": "@jupyter-widgets/controls",
     "model_module_version": "1.5.0",
     "model_name": "HBoxModel",
     "state": {
      "_dom_classes": [],
      "_model_module": "@jupyter-widgets/controls",
      "_model_module_version": "1.5.0",
      "_model_name": "HBoxModel",
      "_view_count": null,
      "_view_module": "@jupyter-widgets/controls",
      "_view_module_version": "1.5.0",
      "_view_name": "HBoxView",
      "box_style": "",
      "children": [
       "IPY_MODEL_c1ee1b86c9ef43359dd6ed58c3e009a8",
       "IPY_MODEL_705571dcafad4b38a79e35b4c7cf8155",
       "IPY_MODEL_60fca973df7842f785bf2d813627a662"
      ],
      "layout": "IPY_MODEL_6d381e10f6594b5e804440587fc66479"
     }
    },
    "6b9f1d6c65074d54992acd70054df0f4": {
     "model_module": "@jupyter-widgets/controls",
     "model_module_version": "1.5.0",
     "model_name": "HTMLModel",
     "state": {
      "_dom_classes": [],
      "_model_module": "@jupyter-widgets/controls",
      "_model_module_version": "1.5.0",
      "_model_name": "HTMLModel",
      "_view_count": null,
      "_view_module": "@jupyter-widgets/controls",
      "_view_module_version": "1.5.0",
      "_view_name": "HTMLView",
      "description": "",
      "description_tooltip": null,
      "layout": "IPY_MODEL_29dbaabd0991420fb3a92f5cf80793f7",
      "placeholder": "​",
      "style": "IPY_MODEL_0a68acd4aa444895934c2ad8de1b7cb4",
      "value": "Downloading tokenizer.json: 100%"
     }
    },
    "6c9b875278be4e738e535ae024ec8459": {
     "model_module": "@jupyter-widgets/base",
     "model_module_version": "1.2.0",
     "model_name": "LayoutModel",
     "state": {
      "_model_module": "@jupyter-widgets/base",
      "_model_module_version": "1.2.0",
      "_model_name": "LayoutModel",
      "_view_count": null,
      "_view_module": "@jupyter-widgets/base",
      "_view_module_version": "1.2.0",
      "_view_name": "LayoutView",
      "align_content": null,
      "align_items": null,
      "align_self": null,
      "border": null,
      "bottom": null,
      "display": null,
      "flex": null,
      "flex_flow": null,
      "grid_area": null,
      "grid_auto_columns": null,
      "grid_auto_flow": null,
      "grid_auto_rows": null,
      "grid_column": null,
      "grid_gap": null,
      "grid_row": null,
      "grid_template_areas": null,
      "grid_template_columns": null,
      "grid_template_rows": null,
      "height": null,
      "justify_content": null,
      "justify_items": null,
      "left": null,
      "margin": null,
      "max_height": null,
      "max_width": null,
      "min_height": null,
      "min_width": null,
      "object_fit": null,
      "object_position": null,
      "order": null,
      "overflow": null,
      "overflow_x": null,
      "overflow_y": null,
      "padding": null,
      "right": null,
      "top": null,
      "visibility": null,
      "width": null
     }
    },
    "6d381e10f6594b5e804440587fc66479": {
     "model_module": "@jupyter-widgets/base",
     "model_module_version": "1.2.0",
     "model_name": "LayoutModel",
     "state": {
      "_model_module": "@jupyter-widgets/base",
      "_model_module_version": "1.2.0",
      "_model_name": "LayoutModel",
      "_view_count": null,
      "_view_module": "@jupyter-widgets/base",
      "_view_module_version": "1.2.0",
      "_view_name": "LayoutView",
      "align_content": null,
      "align_items": null,
      "align_self": null,
      "border": null,
      "bottom": null,
      "display": null,
      "flex": null,
      "flex_flow": null,
      "grid_area": null,
      "grid_auto_columns": null,
      "grid_auto_flow": null,
      "grid_auto_rows": null,
      "grid_column": null,
      "grid_gap": null,
      "grid_row": null,
      "grid_template_areas": null,
      "grid_template_columns": null,
      "grid_template_rows": null,
      "height": null,
      "justify_content": null,
      "justify_items": null,
      "left": null,
      "margin": null,
      "max_height": null,
      "max_width": null,
      "min_height": null,
      "min_width": null,
      "object_fit": null,
      "object_position": null,
      "order": null,
      "overflow": null,
      "overflow_x": null,
      "overflow_y": null,
      "padding": null,
      "right": null,
      "top": null,
      "visibility": null,
      "width": null
     }
    },
    "6dabfdcf91f64a1d9402aa6c39bf5efe": {
     "model_module": "@jupyter-widgets/base",
     "model_module_version": "1.2.0",
     "model_name": "LayoutModel",
     "state": {
      "_model_module": "@jupyter-widgets/base",
      "_model_module_version": "1.2.0",
      "_model_name": "LayoutModel",
      "_view_count": null,
      "_view_module": "@jupyter-widgets/base",
      "_view_module_version": "1.2.0",
      "_view_name": "LayoutView",
      "align_content": null,
      "align_items": null,
      "align_self": null,
      "border": null,
      "bottom": null,
      "display": null,
      "flex": null,
      "flex_flow": null,
      "grid_area": null,
      "grid_auto_columns": null,
      "grid_auto_flow": null,
      "grid_auto_rows": null,
      "grid_column": null,
      "grid_gap": null,
      "grid_row": null,
      "grid_template_areas": null,
      "grid_template_columns": null,
      "grid_template_rows": null,
      "height": null,
      "justify_content": null,
      "justify_items": null,
      "left": null,
      "margin": null,
      "max_height": null,
      "max_width": null,
      "min_height": null,
      "min_width": null,
      "object_fit": null,
      "object_position": null,
      "order": null,
      "overflow": null,
      "overflow_x": null,
      "overflow_y": null,
      "padding": null,
      "right": null,
      "top": null,
      "visibility": null,
      "width": null
     }
    },
    "6ea8f1b216674fe0b3082a289ebbf9a5": {
     "model_module": "@jupyter-widgets/controls",
     "model_module_version": "1.5.0",
     "model_name": "DescriptionStyleModel",
     "state": {
      "_model_module": "@jupyter-widgets/controls",
      "_model_module_version": "1.5.0",
      "_model_name": "DescriptionStyleModel",
      "_view_count": null,
      "_view_module": "@jupyter-widgets/base",
      "_view_module_version": "1.2.0",
      "_view_name": "StyleView",
      "description_width": ""
     }
    },
    "705571dcafad4b38a79e35b4c7cf8155": {
     "model_module": "@jupyter-widgets/controls",
     "model_module_version": "1.5.0",
     "model_name": "FloatProgressModel",
     "state": {
      "_dom_classes": [],
      "_model_module": "@jupyter-widgets/controls",
      "_model_module_version": "1.5.0",
      "_model_name": "FloatProgressModel",
      "_view_count": null,
      "_view_module": "@jupyter-widgets/controls",
      "_view_module_version": "1.5.0",
      "_view_name": "ProgressView",
      "bar_style": "success",
      "description": "",
      "description_tooltip": null,
      "layout": "IPY_MODEL_6dabfdcf91f64a1d9402aa6c39bf5efe",
      "max": 3,
      "min": 0,
      "orientation": "horizontal",
      "style": "IPY_MODEL_426ef7f531ac463997dc10b1af0c89d3",
      "value": 3
     }
    },
    "73ca0d50d9d44de2bb7e24b73ebfd42f": {
     "model_module": "@jupyter-widgets/controls",
     "model_module_version": "1.5.0",
     "model_name": "DescriptionStyleModel",
     "state": {
      "_model_module": "@jupyter-widgets/controls",
      "_model_module_version": "1.5.0",
      "_model_name": "DescriptionStyleModel",
      "_view_count": null,
      "_view_module": "@jupyter-widgets/base",
      "_view_module_version": "1.2.0",
      "_view_name": "StyleView",
      "description_width": ""
     }
    },
    "7650b13297044e6c92a2b9083e466785": {
     "model_module": "@jupyter-widgets/base",
     "model_module_version": "1.2.0",
     "model_name": "LayoutModel",
     "state": {
      "_model_module": "@jupyter-widgets/base",
      "_model_module_version": "1.2.0",
      "_model_name": "LayoutModel",
      "_view_count": null,
      "_view_module": "@jupyter-widgets/base",
      "_view_module_version": "1.2.0",
      "_view_name": "LayoutView",
      "align_content": null,
      "align_items": null,
      "align_self": null,
      "border": null,
      "bottom": null,
      "display": null,
      "flex": null,
      "flex_flow": null,
      "grid_area": null,
      "grid_auto_columns": null,
      "grid_auto_flow": null,
      "grid_auto_rows": null,
      "grid_column": null,
      "grid_gap": null,
      "grid_row": null,
      "grid_template_areas": null,
      "grid_template_columns": null,
      "grid_template_rows": null,
      "height": null,
      "justify_content": null,
      "justify_items": null,
      "left": null,
      "margin": null,
      "max_height": null,
      "max_width": null,
      "min_height": null,
      "min_width": null,
      "object_fit": null,
      "object_position": null,
      "order": null,
      "overflow": null,
      "overflow_x": null,
      "overflow_y": null,
      "padding": null,
      "right": null,
      "top": null,
      "visibility": null,
      "width": null
     }
    },
    "7baf08a340754abe99d03552512d7ccb": {
     "model_module": "@jupyter-widgets/controls",
     "model_module_version": "1.5.0",
     "model_name": "ProgressStyleModel",
     "state": {
      "_model_module": "@jupyter-widgets/controls",
      "_model_module_version": "1.5.0",
      "_model_name": "ProgressStyleModel",
      "_view_count": null,
      "_view_module": "@jupyter-widgets/base",
      "_view_module_version": "1.2.0",
      "_view_name": "StyleView",
      "bar_color": null,
      "description_width": ""
     }
    },
    "7d76ae6dc47c42688b461e081485931e": {
     "model_module": "@jupyter-widgets/controls",
     "model_module_version": "1.5.0",
     "model_name": "DescriptionStyleModel",
     "state": {
      "_model_module": "@jupyter-widgets/controls",
      "_model_module_version": "1.5.0",
      "_model_name": "DescriptionStyleModel",
      "_view_count": null,
      "_view_module": "@jupyter-widgets/base",
      "_view_module_version": "1.2.0",
      "_view_name": "StyleView",
      "description_width": ""
     }
    },
    "80413e28c57041c7b45c8bd22319c1f5": {
     "model_module": "@jupyter-widgets/controls",
     "model_module_version": "1.5.0",
     "model_name": "HTMLModel",
     "state": {
      "_dom_classes": [],
      "_model_module": "@jupyter-widgets/controls",
      "_model_module_version": "1.5.0",
      "_model_name": "HTMLModel",
      "_view_count": null,
      "_view_module": "@jupyter-widgets/controls",
      "_view_module_version": "1.5.0",
      "_view_name": "HTMLView",
      "description": "",
      "description_tooltip": null,
      "layout": "IPY_MODEL_eab7eddfeb7c44c496e14f3bdd2c2591",
      "placeholder": "​",
      "style": "IPY_MODEL_32442c56e3354f5e96bccb115f2207de",
      "value": " 2.33M/? [00:00&lt;00:00, 27.9MB/s]"
     }
    },
    "8066755cca9f4ed980893dfc4c2c6c23": {
     "model_module": "@jupyter-widgets/controls",
     "model_module_version": "1.5.0",
     "model_name": "DescriptionStyleModel",
     "state": {
      "_model_module": "@jupyter-widgets/controls",
      "_model_module_version": "1.5.0",
      "_model_name": "DescriptionStyleModel",
      "_view_count": null,
      "_view_module": "@jupyter-widgets/base",
      "_view_module_version": "1.2.0",
      "_view_name": "StyleView",
      "description_width": ""
     }
    },
    "815f0734480b4c639ca8dbc39134262f": {
     "model_module": "@jupyter-widgets/controls",
     "model_module_version": "1.5.0",
     "model_name": "DescriptionStyleModel",
     "state": {
      "_model_module": "@jupyter-widgets/controls",
      "_model_module_version": "1.5.0",
      "_model_name": "DescriptionStyleModel",
      "_view_count": null,
      "_view_module": "@jupyter-widgets/base",
      "_view_module_version": "1.2.0",
      "_view_name": "StyleView",
      "description_width": ""
     }
    },
    "845656eb4e214d798cc029f012f21a09": {
     "model_module": "@jupyter-widgets/base",
     "model_module_version": "1.2.0",
     "model_name": "LayoutModel",
     "state": {
      "_model_module": "@jupyter-widgets/base",
      "_model_module_version": "1.2.0",
      "_model_name": "LayoutModel",
      "_view_count": null,
      "_view_module": "@jupyter-widgets/base",
      "_view_module_version": "1.2.0",
      "_view_name": "LayoutView",
      "align_content": null,
      "align_items": null,
      "align_self": null,
      "border": null,
      "bottom": null,
      "display": null,
      "flex": null,
      "flex_flow": null,
      "grid_area": null,
      "grid_auto_columns": null,
      "grid_auto_flow": null,
      "grid_auto_rows": null,
      "grid_column": null,
      "grid_gap": null,
      "grid_row": null,
      "grid_template_areas": null,
      "grid_template_columns": null,
      "grid_template_rows": null,
      "height": null,
      "justify_content": null,
      "justify_items": null,
      "left": null,
      "margin": null,
      "max_height": null,
      "max_width": null,
      "min_height": null,
      "min_width": null,
      "object_fit": null,
      "object_position": null,
      "order": null,
      "overflow": null,
      "overflow_x": null,
      "overflow_y": null,
      "padding": null,
      "right": null,
      "top": null,
      "visibility": null,
      "width": null
     }
    },
    "858aca51e3c941adb23c05887a8fd6c5": {
     "model_module": "@jupyter-widgets/controls",
     "model_module_version": "1.5.0",
     "model_name": "HBoxModel",
     "state": {
      "_dom_classes": [],
      "_model_module": "@jupyter-widgets/controls",
      "_model_module_version": "1.5.0",
      "_model_name": "HBoxModel",
      "_view_count": null,
      "_view_module": "@jupyter-widgets/controls",
      "_view_module_version": "1.5.0",
      "_view_name": "HBoxView",
      "box_style": "",
      "children": [
       "IPY_MODEL_e6613a12dd2d4ab1a00377d85652482e",
       "IPY_MODEL_66c08bb2d82f4a509b8917223171800b",
       "IPY_MODEL_ab5dffe74f174911a2db030911e37f6b"
      ],
      "layout": "IPY_MODEL_b235e2ca68c84d72bfda8a0bc11bd5e8"
     }
    },
    "8629e2f846524d64a9ce29d7ccd449a0": {
     "model_module": "@jupyter-widgets/controls",
     "model_module_version": "1.5.0",
     "model_name": "DescriptionStyleModel",
     "state": {
      "_model_module": "@jupyter-widgets/controls",
      "_model_module_version": "1.5.0",
      "_model_name": "DescriptionStyleModel",
      "_view_count": null,
      "_view_module": "@jupyter-widgets/base",
      "_view_module_version": "1.2.0",
      "_view_name": "StyleView",
      "description_width": ""
     }
    },
    "87c57c9cf3884b80bade9c80d1b0b96a": {
     "model_module": "@jupyter-widgets/base",
     "model_module_version": "1.2.0",
     "model_name": "LayoutModel",
     "state": {
      "_model_module": "@jupyter-widgets/base",
      "_model_module_version": "1.2.0",
      "_model_name": "LayoutModel",
      "_view_count": null,
      "_view_module": "@jupyter-widgets/base",
      "_view_module_version": "1.2.0",
      "_view_name": "LayoutView",
      "align_content": null,
      "align_items": null,
      "align_self": null,
      "border": null,
      "bottom": null,
      "display": null,
      "flex": null,
      "flex_flow": null,
      "grid_area": null,
      "grid_auto_columns": null,
      "grid_auto_flow": null,
      "grid_auto_rows": null,
      "grid_column": null,
      "grid_gap": null,
      "grid_row": null,
      "grid_template_areas": null,
      "grid_template_columns": null,
      "grid_template_rows": null,
      "height": null,
      "justify_content": null,
      "justify_items": null,
      "left": null,
      "margin": null,
      "max_height": null,
      "max_width": null,
      "min_height": null,
      "min_width": null,
      "object_fit": null,
      "object_position": null,
      "order": null,
      "overflow": null,
      "overflow_x": null,
      "overflow_y": null,
      "padding": null,
      "right": null,
      "top": null,
      "visibility": null,
      "width": null
     }
    },
    "89ada6c4b6dc4f3fb498558f725a65ec": {
     "model_module": "@jupyter-widgets/controls",
     "model_module_version": "1.5.0",
     "model_name": "HTMLModel",
     "state": {
      "_dom_classes": [],
      "_model_module": "@jupyter-widgets/controls",
      "_model_module_version": "1.5.0",
      "_model_name": "HTMLModel",
      "_view_count": null,
      "_view_module": "@jupyter-widgets/controls",
      "_view_module_version": "1.5.0",
      "_view_name": "HTMLView",
      "description": "",
      "description_tooltip": null,
      "layout": "IPY_MODEL_b577f12a5c71441a903681ae362bf3e8",
      "placeholder": "​",
      "style": "IPY_MODEL_f3cc84debfef420d9518b6b11e9dd993",
      "value": " 5.57M/? [00:00&lt;00:00, 12.2MB/s]"
     }
    },
    "89f8c69c5a88404c95e974afd3889803": {
     "model_module": "@jupyter-widgets/controls",
     "model_module_version": "1.5.0",
     "model_name": "HTMLModel",
     "state": {
      "_dom_classes": [],
      "_model_module": "@jupyter-widgets/controls",
      "_model_module_version": "1.5.0",
      "_model_name": "HTMLModel",
      "_view_count": null,
      "_view_module": "@jupyter-widgets/controls",
      "_view_module_version": "1.5.0",
      "_view_name": "HTMLView",
      "description": "",
      "description_tooltip": null,
      "layout": "IPY_MODEL_3dc9e4d8780641c98abb807360707430",
      "placeholder": "​",
      "style": "IPY_MODEL_959b48c91ca2497b8b5a7cdd85c7e4df",
      "value": "Downloading data files: 100%"
     }
    },
    "8b3b5f4d55c04e248933d3a5cfb1a658": {
     "model_module": "@jupyter-widgets/base",
     "model_module_version": "1.2.0",
     "model_name": "LayoutModel",
     "state": {
      "_model_module": "@jupyter-widgets/base",
      "_model_module_version": "1.2.0",
      "_model_name": "LayoutModel",
      "_view_count": null,
      "_view_module": "@jupyter-widgets/base",
      "_view_module_version": "1.2.0",
      "_view_name": "LayoutView",
      "align_content": null,
      "align_items": null,
      "align_self": null,
      "border": null,
      "bottom": null,
      "display": null,
      "flex": null,
      "flex_flow": null,
      "grid_area": null,
      "grid_auto_columns": null,
      "grid_auto_flow": null,
      "grid_auto_rows": null,
      "grid_column": null,
      "grid_gap": null,
      "grid_row": null,
      "grid_template_areas": null,
      "grid_template_columns": null,
      "grid_template_rows": null,
      "height": null,
      "justify_content": null,
      "justify_items": null,
      "left": null,
      "margin": null,
      "max_height": null,
      "max_width": null,
      "min_height": null,
      "min_width": null,
      "object_fit": null,
      "object_position": null,
      "order": null,
      "overflow": null,
      "overflow_x": null,
      "overflow_y": null,
      "padding": null,
      "right": null,
      "top": null,
      "visibility": null,
      "width": null
     }
    },
    "8de2ab894c5d4feb869a97904fc91692": {
     "model_module": "@jupyter-widgets/controls",
     "model_module_version": "1.5.0",
     "model_name": "FloatProgressModel",
     "state": {
      "_dom_classes": [],
      "_model_module": "@jupyter-widgets/controls",
      "_model_module_version": "1.5.0",
      "_model_name": "FloatProgressModel",
      "_view_count": null,
      "_view_module": "@jupyter-widgets/controls",
      "_view_module_version": "1.5.0",
      "_view_name": "ProgressView",
      "bar_style": "success",
      "description": "",
      "description_tooltip": null,
      "layout": "IPY_MODEL_639e258521fb41189ee386167fada461",
      "max": 3,
      "min": 0,
      "orientation": "horizontal",
      "style": "IPY_MODEL_4a65196dd5184089b1da25e8020bc4b0",
      "value": 3
     }
    },
    "9225fd2442094f0a856d9e1ccf0d836d": {
     "model_module": "@jupyter-widgets/controls",
     "model_module_version": "1.5.0",
     "model_name": "FloatProgressModel",
     "state": {
      "_dom_classes": [],
      "_model_module": "@jupyter-widgets/controls",
      "_model_module_version": "1.5.0",
      "_model_name": "FloatProgressModel",
      "_view_count": null,
      "_view_module": "@jupyter-widgets/controls",
      "_view_module_version": "1.5.0",
      "_view_name": "ProgressView",
      "bar_style": "success",
      "description": "",
      "description_tooltip": null,
      "layout": "IPY_MODEL_da5203cf0e3a4f6e93f946d0c533ca68",
      "max": 435797,
      "min": 0,
      "orientation": "horizontal",
      "style": "IPY_MODEL_9c13c9d6cd894282b8d452ba4eaf0473",
      "value": 435797
     }
    },
    "959b48c91ca2497b8b5a7cdd85c7e4df": {
     "model_module": "@jupyter-widgets/controls",
     "model_module_version": "1.5.0",
     "model_name": "DescriptionStyleModel",
     "state": {
      "_model_module": "@jupyter-widgets/controls",
      "_model_module_version": "1.5.0",
      "_model_name": "DescriptionStyleModel",
      "_view_count": null,
      "_view_module": "@jupyter-widgets/base",
      "_view_module_version": "1.2.0",
      "_view_name": "StyleView",
      "description_width": ""
     }
    },
    "96fe1966987b437ebce00832378481ab": {
     "model_module": "@jupyter-widgets/base",
     "model_module_version": "1.2.0",
     "model_name": "LayoutModel",
     "state": {
      "_model_module": "@jupyter-widgets/base",
      "_model_module_version": "1.2.0",
      "_model_name": "LayoutModel",
      "_view_count": null,
      "_view_module": "@jupyter-widgets/base",
      "_view_module_version": "1.2.0",
      "_view_name": "LayoutView",
      "align_content": null,
      "align_items": null,
      "align_self": null,
      "border": null,
      "bottom": null,
      "display": null,
      "flex": null,
      "flex_flow": null,
      "grid_area": null,
      "grid_auto_columns": null,
      "grid_auto_flow": null,
      "grid_auto_rows": null,
      "grid_column": null,
      "grid_gap": null,
      "grid_row": null,
      "grid_template_areas": null,
      "grid_template_columns": null,
      "grid_template_rows": null,
      "height": null,
      "justify_content": null,
      "justify_items": null,
      "left": null,
      "margin": null,
      "max_height": null,
      "max_width": null,
      "min_height": null,
      "min_width": null,
      "object_fit": null,
      "object_position": null,
      "order": null,
      "overflow": null,
      "overflow_x": null,
      "overflow_y": null,
      "padding": null,
      "right": null,
      "top": null,
      "visibility": null,
      "width": null
     }
    },
    "978ca4fe6b1f4edb81264ec347879f4b": {
     "model_module": "@jupyter-widgets/controls",
     "model_module_version": "1.5.0",
     "model_name": "HTMLModel",
     "state": {
      "_dom_classes": [],
      "_model_module": "@jupyter-widgets/controls",
      "_model_module_version": "1.5.0",
      "_model_name": "HTMLModel",
      "_view_count": null,
      "_view_module": "@jupyter-widgets/controls",
      "_view_module_version": "1.5.0",
      "_view_name": "HTMLView",
      "description": "",
      "description_tooltip": null,
      "layout": "IPY_MODEL_39e77f29553c455ebea790f613b09448",
      "placeholder": "​",
      "style": "IPY_MODEL_e87c504975b74979bccf9de6ce56d603",
      "value": "Generating train split:  97%"
     }
    },
    "986ed9fb283144308512f31bbd83fc2b": {
     "model_module": "@jupyter-widgets/controls",
     "model_module_version": "1.5.0",
     "model_name": "HTMLModel",
     "state": {
      "_dom_classes": [],
      "_model_module": "@jupyter-widgets/controls",
      "_model_module_version": "1.5.0",
      "_model_name": "HTMLModel",
      "_view_count": null,
      "_view_module": "@jupyter-widgets/controls",
      "_view_module_version": "1.5.0",
      "_view_name": "HTMLView",
      "description": "",
      "description_tooltip": null,
      "layout": "IPY_MODEL_23d77f335f5541b380d0ca13610b2239",
      "placeholder": "​",
      "style": "IPY_MODEL_6a19c0acd9a1470d821194558a7600ab",
      "value": " 4153/4287 [00:05&lt;00:00, 1339.42 examples/s]"
     }
    },
    "9890fe952c0240a89ceabe7380e9898e": {
     "model_module": "@jupyter-widgets/controls",
     "model_module_version": "1.5.0",
     "model_name": "DescriptionStyleModel",
     "state": {
      "_model_module": "@jupyter-widgets/controls",
      "_model_module_version": "1.5.0",
      "_model_name": "DescriptionStyleModel",
      "_view_count": null,
      "_view_module": "@jupyter-widgets/base",
      "_view_module_version": "1.2.0",
      "_view_name": "StyleView",
      "description_width": ""
     }
    },
    "99bbdf663e7844a08da97c3488c28dc6": {
     "model_module": "@jupyter-widgets/controls",
     "model_module_version": "1.5.0",
     "model_name": "FloatProgressModel",
     "state": {
      "_dom_classes": [],
      "_model_module": "@jupyter-widgets/controls",
      "_model_module_version": "1.5.0",
      "_model_name": "FloatProgressModel",
      "_view_count": null,
      "_view_module": "@jupyter-widgets/controls",
      "_view_module_version": "1.5.0",
      "_view_name": "ProgressView",
      "bar_style": "success",
      "description": "",
      "description_tooltip": null,
      "layout": "IPY_MODEL_c1c4353c96834b6496d86f2eb77048b0",
      "max": 3,
      "min": 0,
      "orientation": "horizontal",
      "style": "IPY_MODEL_15100945961745c5a950f1376603cc74",
      "value": 3
     }
    },
    "9b9fec6b947646a3b840c61be493a36f": {
     "model_module": "@jupyter-widgets/controls",
     "model_module_version": "1.5.0",
     "model_name": "HTMLModel",
     "state": {
      "_dom_classes": [],
      "_model_module": "@jupyter-widgets/controls",
      "_model_module_version": "1.5.0",
      "_model_name": "HTMLModel",
      "_view_count": null,
      "_view_module": "@jupyter-widgets/controls",
      "_view_module_version": "1.5.0",
      "_view_name": "HTMLView",
      "description": "",
      "description_tooltip": null,
      "layout": "IPY_MODEL_9d03836f04424ab9a3d5772d82c6962e",
      "placeholder": "​",
      "style": "IPY_MODEL_1cbe812b5c0441408cc6c477b8d5098a",
      "value": "Downloading data: "
     }
    },
    "9c13c9d6cd894282b8d452ba4eaf0473": {
     "model_module": "@jupyter-widgets/controls",
     "model_module_version": "1.5.0",
     "model_name": "ProgressStyleModel",
     "state": {
      "_model_module": "@jupyter-widgets/controls",
      "_model_module_version": "1.5.0",
      "_model_name": "ProgressStyleModel",
      "_view_count": null,
      "_view_module": "@jupyter-widgets/base",
      "_view_module_version": "1.2.0",
      "_view_name": "StyleView",
      "bar_color": null,
      "description_width": ""
     }
    },
    "9cf69a329bb7438ba5d5fe703ba08245": {
     "model_module": "@jupyter-widgets/controls",
     "model_module_version": "1.5.0",
     "model_name": "DescriptionStyleModel",
     "state": {
      "_model_module": "@jupyter-widgets/controls",
      "_model_module_version": "1.5.0",
      "_model_name": "DescriptionStyleModel",
      "_view_count": null,
      "_view_module": "@jupyter-widgets/base",
      "_view_module_version": "1.2.0",
      "_view_name": "StyleView",
      "description_width": ""
     }
    },
    "9d03836f04424ab9a3d5772d82c6962e": {
     "model_module": "@jupyter-widgets/base",
     "model_module_version": "1.2.0",
     "model_name": "LayoutModel",
     "state": {
      "_model_module": "@jupyter-widgets/base",
      "_model_module_version": "1.2.0",
      "_model_name": "LayoutModel",
      "_view_count": null,
      "_view_module": "@jupyter-widgets/base",
      "_view_module_version": "1.2.0",
      "_view_name": "LayoutView",
      "align_content": null,
      "align_items": null,
      "align_self": null,
      "border": null,
      "bottom": null,
      "display": null,
      "flex": null,
      "flex_flow": null,
      "grid_area": null,
      "grid_auto_columns": null,
      "grid_auto_flow": null,
      "grid_auto_rows": null,
      "grid_column": null,
      "grid_gap": null,
      "grid_row": null,
      "grid_template_areas": null,
      "grid_template_columns": null,
      "grid_template_rows": null,
      "height": null,
      "justify_content": null,
      "justify_items": null,
      "left": null,
      "margin": null,
      "max_height": null,
      "max_width": null,
      "min_height": null,
      "min_width": null,
      "object_fit": null,
      "object_position": null,
      "order": null,
      "overflow": null,
      "overflow_x": null,
      "overflow_y": null,
      "padding": null,
      "right": null,
      "top": null,
      "visibility": null,
      "width": null
     }
    },
    "9d3b9decb20a49c18b9753f012b44cff": {
     "model_module": "@jupyter-widgets/controls",
     "model_module_version": "1.5.0",
     "model_name": "ProgressStyleModel",
     "state": {
      "_model_module": "@jupyter-widgets/controls",
      "_model_module_version": "1.5.0",
      "_model_name": "ProgressStyleModel",
      "_view_count": null,
      "_view_module": "@jupyter-widgets/base",
      "_view_module_version": "1.2.0",
      "_view_name": "StyleView",
      "bar_color": null,
      "description_width": ""
     }
    },
    "9f684070b1394e36ab2bde172acf1ab8": {
     "model_module": "@jupyter-widgets/base",
     "model_module_version": "1.2.0",
     "model_name": "LayoutModel",
     "state": {
      "_model_module": "@jupyter-widgets/base",
      "_model_module_version": "1.2.0",
      "_model_name": "LayoutModel",
      "_view_count": null,
      "_view_module": "@jupyter-widgets/base",
      "_view_module_version": "1.2.0",
      "_view_name": "LayoutView",
      "align_content": null,
      "align_items": null,
      "align_self": null,
      "border": null,
      "bottom": null,
      "display": null,
      "flex": null,
      "flex_flow": null,
      "grid_area": null,
      "grid_auto_columns": null,
      "grid_auto_flow": null,
      "grid_auto_rows": null,
      "grid_column": null,
      "grid_gap": null,
      "grid_row": null,
      "grid_template_areas": null,
      "grid_template_columns": null,
      "grid_template_rows": null,
      "height": null,
      "justify_content": null,
      "justify_items": null,
      "left": null,
      "margin": null,
      "max_height": null,
      "max_width": null,
      "min_height": null,
      "min_width": null,
      "object_fit": null,
      "object_position": null,
      "order": null,
      "overflow": null,
      "overflow_x": null,
      "overflow_y": null,
      "padding": null,
      "right": null,
      "top": null,
      "visibility": null,
      "width": null
     }
    },
    "9f6e14f4bd234909b6bf7abdc8608ad5": {
     "model_module": "@jupyter-widgets/controls",
     "model_module_version": "1.5.0",
     "model_name": "HTMLModel",
     "state": {
      "_dom_classes": [],
      "_model_module": "@jupyter-widgets/controls",
      "_model_module_version": "1.5.0",
      "_model_name": "HTMLModel",
      "_view_count": null,
      "_view_module": "@jupyter-widgets/controls",
      "_view_module_version": "1.5.0",
      "_view_name": "HTMLView",
      "description": "",
      "description_tooltip": null,
      "layout": "IPY_MODEL_6c9b875278be4e738e535ae024ec8459",
      "placeholder": "​",
      "style": "IPY_MODEL_35cc4e22470a4a63b10f4303e939f0ff",
      "value": " 3/3 [00:03&lt;00:00,  1.13s/it]"
     }
    },
    "a0687b0ad2f545bc992220cc10648fe3": {
     "model_module": "@jupyter-widgets/base",
     "model_module_version": "1.2.0",
     "model_name": "LayoutModel",
     "state": {
      "_model_module": "@jupyter-widgets/base",
      "_model_module_version": "1.2.0",
      "_model_name": "LayoutModel",
      "_view_count": null,
      "_view_module": "@jupyter-widgets/base",
      "_view_module_version": "1.2.0",
      "_view_name": "LayoutView",
      "align_content": null,
      "align_items": null,
      "align_self": null,
      "border": null,
      "bottom": null,
      "display": null,
      "flex": null,
      "flex_flow": null,
      "grid_area": null,
      "grid_auto_columns": null,
      "grid_auto_flow": null,
      "grid_auto_rows": null,
      "grid_column": null,
      "grid_gap": null,
      "grid_row": null,
      "grid_template_areas": null,
      "grid_template_columns": null,
      "grid_template_rows": null,
      "height": null,
      "justify_content": null,
      "justify_items": null,
      "left": null,
      "margin": null,
      "max_height": null,
      "max_width": null,
      "min_height": null,
      "min_width": null,
      "object_fit": null,
      "object_position": null,
      "order": null,
      "overflow": null,
      "overflow_x": null,
      "overflow_y": null,
      "padding": null,
      "right": null,
      "top": null,
      "visibility": null,
      "width": null
     }
    },
    "a0ce256141f94c20a218ef172ae8f6e8": {
     "model_module": "@jupyter-widgets/controls",
     "model_module_version": "1.5.0",
     "model_name": "HTMLModel",
     "state": {
      "_dom_classes": [],
      "_model_module": "@jupyter-widgets/controls",
      "_model_module_version": "1.5.0",
      "_model_name": "HTMLModel",
      "_view_count": null,
      "_view_module": "@jupyter-widgets/controls",
      "_view_module_version": "1.5.0",
      "_view_name": "HTMLView",
      "description": "",
      "description_tooltip": null,
      "layout": "IPY_MODEL_176592c89ed34a16b1876e97b899d423",
      "placeholder": "​",
      "style": "IPY_MODEL_9cf69a329bb7438ba5d5fe703ba08245",
      "value": "Downloading pytorch_model.bin: 100%"
     }
    },
    "a593548ae92c4928b6638cf53efb0876": {
     "model_module": "@jupyter-widgets/controls",
     "model_module_version": "1.5.0",
     "model_name": "HTMLModel",
     "state": {
      "_dom_classes": [],
      "_model_module": "@jupyter-widgets/controls",
      "_model_module_version": "1.5.0",
      "_model_name": "HTMLModel",
      "_view_count": null,
      "_view_module": "@jupyter-widgets/controls",
      "_view_module_version": "1.5.0",
      "_view_name": "HTMLView",
      "description": "",
      "description_tooltip": null,
      "layout": "IPY_MODEL_d263c6fc5a3d449984c2c71201b8350a",
      "placeholder": "​",
      "style": "IPY_MODEL_aa7767a7fbbe47a9b85b452fd0149caa",
      "value": "Generating test split:  91%"
     }
    },
    "a5c4d0f5f79542dea7d2a0c588d9d5ef": {
     "model_module": "@jupyter-widgets/base",
     "model_module_version": "1.2.0",
     "model_name": "LayoutModel",
     "state": {
      "_model_module": "@jupyter-widgets/base",
      "_model_module_version": "1.2.0",
      "_model_name": "LayoutModel",
      "_view_count": null,
      "_view_module": "@jupyter-widgets/base",
      "_view_module_version": "1.2.0",
      "_view_name": "LayoutView",
      "align_content": null,
      "align_items": null,
      "align_self": null,
      "border": null,
      "bottom": null,
      "display": null,
      "flex": null,
      "flex_flow": null,
      "grid_area": null,
      "grid_auto_columns": null,
      "grid_auto_flow": null,
      "grid_auto_rows": null,
      "grid_column": null,
      "grid_gap": null,
      "grid_row": null,
      "grid_template_areas": null,
      "grid_template_columns": null,
      "grid_template_rows": null,
      "height": null,
      "justify_content": null,
      "justify_items": null,
      "left": null,
      "margin": null,
      "max_height": null,
      "max_width": null,
      "min_height": null,
      "min_width": null,
      "object_fit": null,
      "object_position": null,
      "order": null,
      "overflow": null,
      "overflow_x": null,
      "overflow_y": null,
      "padding": null,
      "right": null,
      "top": null,
      "visibility": null,
      "width": null
     }
    },
    "a755cac4cd544a44a946ab7f3ac050e9": {
     "model_module": "@jupyter-widgets/controls",
     "model_module_version": "1.5.0",
     "model_name": "FloatProgressModel",
     "state": {
      "_dom_classes": [],
      "_model_module": "@jupyter-widgets/controls",
      "_model_module_version": "1.5.0",
      "_model_name": "FloatProgressModel",
      "_view_count": null,
      "_view_module": "@jupyter-widgets/controls",
      "_view_module_version": "1.5.0",
      "_view_name": "ProgressView",
      "bar_style": "",
      "description": "",
      "description_tooltip": null,
      "layout": "IPY_MODEL_9f684070b1394e36ab2bde172acf1ab8",
      "max": 890,
      "min": 0,
      "orientation": "horizontal",
      "style": "IPY_MODEL_b98d91479ce54b2d8d0f31ca9502a0aa",
      "value": 890
     }
    },
    "a7b0c212aae84d8b969cbe0e31d2773e": {
     "model_module": "@jupyter-widgets/controls",
     "model_module_version": "1.5.0",
     "model_name": "DescriptionStyleModel",
     "state": {
      "_model_module": "@jupyter-widgets/controls",
      "_model_module_version": "1.5.0",
      "_model_name": "DescriptionStyleModel",
      "_view_count": null,
      "_view_module": "@jupyter-widgets/base",
      "_view_module_version": "1.2.0",
      "_view_name": "StyleView",
      "description_width": ""
     }
    },
    "aa15cf0487ac4350b2f24514bc926969": {
     "model_module": "@jupyter-widgets/controls",
     "model_module_version": "1.5.0",
     "model_name": "HTMLModel",
     "state": {
      "_dom_classes": [],
      "_model_module": "@jupyter-widgets/controls",
      "_model_module_version": "1.5.0",
      "_model_name": "HTMLModel",
      "_view_count": null,
      "_view_module": "@jupyter-widgets/controls",
      "_view_module_version": "1.5.0",
      "_view_name": "HTMLView",
      "description": "",
      "description_tooltip": null,
      "layout": "IPY_MODEL_f268c424d43141de977373c93cd7f06d",
      "placeholder": "​",
      "style": "IPY_MODEL_fdbc14baed124afd91f6803f6afe14a9",
      "value": " 3/3 [00:00&lt;00:00, 52.45it/s]"
     }
    },
    "aa4a5ca4b6b24cfb9f2a0d0370f03150": {
     "model_module": "@jupyter-widgets/controls",
     "model_module_version": "1.5.0",
     "model_name": "ProgressStyleModel",
     "state": {
      "_model_module": "@jupyter-widgets/controls",
      "_model_module_version": "1.5.0",
      "_model_name": "ProgressStyleModel",
      "_view_count": null,
      "_view_module": "@jupyter-widgets/base",
      "_view_module_version": "1.2.0",
      "_view_name": "StyleView",
      "bar_color": null,
      "description_width": ""
     }
    },
    "aa7767a7fbbe47a9b85b452fd0149caa": {
     "model_module": "@jupyter-widgets/controls",
     "model_module_version": "1.5.0",
     "model_name": "DescriptionStyleModel",
     "state": {
      "_model_module": "@jupyter-widgets/controls",
      "_model_module_version": "1.5.0",
      "_model_name": "DescriptionStyleModel",
      "_view_count": null,
      "_view_module": "@jupyter-widgets/base",
      "_view_module_version": "1.2.0",
      "_view_name": "StyleView",
      "description_width": ""
     }
    },
    "aa78f5fdeb99409ea5c4f841e7240765": {
     "model_module": "@jupyter-widgets/controls",
     "model_module_version": "1.5.0",
     "model_name": "FloatProgressModel",
     "state": {
      "_dom_classes": [],
      "_model_module": "@jupyter-widgets/controls",
      "_model_module_version": "1.5.0",
      "_model_name": "FloatProgressModel",
      "_view_count": null,
      "_view_module": "@jupyter-widgets/controls",
      "_view_module_version": "1.5.0",
      "_view_name": "ProgressView",
      "bar_style": "success",
      "description": "",
      "description_tooltip": null,
      "layout": "IPY_MODEL_0398b5b564c74ece99b3b03723cb5736",
      "max": 199281,
      "min": 0,
      "orientation": "horizontal",
      "style": "IPY_MODEL_ca93ebcfa1e74289ba0d3cb797830704",
      "value": 199281
     }
    },
    "ab5dffe74f174911a2db030911e37f6b": {
     "model_module": "@jupyter-widgets/controls",
     "model_module_version": "1.5.0",
     "model_name": "HTMLModel",
     "state": {
      "_dom_classes": [],
      "_model_module": "@jupyter-widgets/controls",
      "_model_module_version": "1.5.0",
      "_model_name": "HTMLModel",
      "_view_count": null,
      "_view_module": "@jupyter-widgets/controls",
      "_view_module_version": "1.5.0",
      "_view_name": "HTMLView",
      "description": "",
      "description_tooltip": null,
      "layout": "IPY_MODEL_eedbdeac83fd4948955639cb68f595be",
      "placeholder": "​",
      "style": "IPY_MODEL_202086d9a08540a68e3aa7441bad5d39",
      "value": " 87.8k/? [00:00&lt;00:00, 11.6kB/s]"
     }
    },
    "ac381b3d52464711a4781331dbf98e91": {
     "model_module": "@jupyter-widgets/controls",
     "model_module_version": "1.5.0",
     "model_name": "HBoxModel",
     "state": {
      "_dom_classes": [],
      "_model_module": "@jupyter-widgets/controls",
      "_model_module_version": "1.5.0",
      "_model_name": "HBoxModel",
      "_view_count": null,
      "_view_module": "@jupyter-widgets/controls",
      "_view_module_version": "1.5.0",
      "_view_name": "HBoxView",
      "box_style": "",
      "children": [
       "IPY_MODEL_bf374a4e5065406d9ebf4e73120d9c64",
       "IPY_MODEL_ace0fea60d394aff9cbe880bf7659aff",
       "IPY_MODEL_1c393ec54d1f462b939600af9330b151"
      ],
      "layout": "IPY_MODEL_21fa453f4ea941eb806c08e3ca7d846d"
     }
    },
    "ace0fea60d394aff9cbe880bf7659aff": {
     "model_module": "@jupyter-widgets/controls",
     "model_module_version": "1.5.0",
     "model_name": "FloatProgressModel",
     "state": {
      "_dom_classes": [],
      "_model_module": "@jupyter-widgets/controls",
      "_model_module_version": "1.5.0",
      "_model_name": "FloatProgressModel",
      "_view_count": null,
      "_view_module": "@jupyter-widgets/controls",
      "_view_module_version": "1.5.0",
      "_view_name": "ProgressView",
      "bar_style": "success",
      "description": "",
      "description_tooltip": null,
      "layout": "IPY_MODEL_b298f63095de4ce08fabf13f6cdc7708",
      "max": 29,
      "min": 0,
      "orientation": "horizontal",
      "style": "IPY_MODEL_4e2ca3929a34420d8eafef9cc6386078",
      "value": 29
     }
    },
    "adc1203fadaf4f4593a8cf214ac68c99": {
     "model_module": "@jupyter-widgets/controls",
     "model_module_version": "1.5.0",
     "model_name": "DescriptionStyleModel",
     "state": {
      "_model_module": "@jupyter-widgets/controls",
      "_model_module_version": "1.5.0",
      "_model_name": "DescriptionStyleModel",
      "_view_count": null,
      "_view_module": "@jupyter-widgets/base",
      "_view_module_version": "1.2.0",
      "_view_name": "StyleView",
      "description_width": ""
     }
    },
    "af6412e64b40437a8ac1442a466d522c": {
     "model_module": "@jupyter-widgets/base",
     "model_module_version": "1.2.0",
     "model_name": "LayoutModel",
     "state": {
      "_model_module": "@jupyter-widgets/base",
      "_model_module_version": "1.2.0",
      "_model_name": "LayoutModel",
      "_view_count": null,
      "_view_module": "@jupyter-widgets/base",
      "_view_module_version": "1.2.0",
      "_view_name": "LayoutView",
      "align_content": null,
      "align_items": null,
      "align_self": null,
      "border": null,
      "bottom": null,
      "display": null,
      "flex": null,
      "flex_flow": null,
      "grid_area": null,
      "grid_auto_columns": null,
      "grid_auto_flow": null,
      "grid_auto_rows": null,
      "grid_column": null,
      "grid_gap": null,
      "grid_row": null,
      "grid_template_areas": null,
      "grid_template_columns": null,
      "grid_template_rows": null,
      "height": null,
      "justify_content": null,
      "justify_items": null,
      "left": null,
      "margin": null,
      "max_height": null,
      "max_width": null,
      "min_height": null,
      "min_width": null,
      "object_fit": null,
      "object_position": null,
      "order": null,
      "overflow": null,
      "overflow_x": null,
      "overflow_y": null,
      "padding": null,
      "right": null,
      "top": null,
      "visibility": null,
      "width": null
     }
    },
    "af9b950d445e48c09c683dd71c3bb33a": {
     "model_module": "@jupyter-widgets/controls",
     "model_module_version": "1.5.0",
     "model_name": "FloatProgressModel",
     "state": {
      "_dom_classes": [],
      "_model_module": "@jupyter-widgets/controls",
      "_model_module_version": "1.5.0",
      "_model_name": "FloatProgressModel",
      "_view_count": null,
      "_view_module": "@jupyter-widgets/controls",
      "_view_module_version": "1.5.0",
      "_view_name": "ProgressView",
      "bar_style": "success",
      "description": "",
      "description_tooltip": null,
      "layout": "IPY_MODEL_c002f88955fc4854874428a216d0045a",
      "max": 1051359,
      "min": 0,
      "orientation": "horizontal",
      "style": "IPY_MODEL_fc4fab18d128426293d814dad9d78659",
      "value": 1051359
     }
    },
    "b19e9f92ef014513a7bbd3a13486c013": {
     "model_module": "@jupyter-widgets/base",
     "model_module_version": "1.2.0",
     "model_name": "LayoutModel",
     "state": {
      "_model_module": "@jupyter-widgets/base",
      "_model_module_version": "1.2.0",
      "_model_name": "LayoutModel",
      "_view_count": null,
      "_view_module": "@jupyter-widgets/base",
      "_view_module_version": "1.2.0",
      "_view_name": "LayoutView",
      "align_content": null,
      "align_items": null,
      "align_self": null,
      "border": null,
      "bottom": null,
      "display": null,
      "flex": null,
      "flex_flow": null,
      "grid_area": null,
      "grid_auto_columns": null,
      "grid_auto_flow": null,
      "grid_auto_rows": null,
      "grid_column": null,
      "grid_gap": null,
      "grid_row": null,
      "grid_template_areas": null,
      "grid_template_columns": null,
      "grid_template_rows": null,
      "height": null,
      "justify_content": null,
      "justify_items": null,
      "left": null,
      "margin": null,
      "max_height": null,
      "max_width": null,
      "min_height": null,
      "min_width": null,
      "object_fit": null,
      "object_position": null,
      "order": null,
      "overflow": null,
      "overflow_x": null,
      "overflow_y": null,
      "padding": null,
      "right": null,
      "top": null,
      "visibility": null,
      "width": null
     }
    },
    "b1e1baf4494d4daa8121dc5401997600": {
     "model_module": "@jupyter-widgets/controls",
     "model_module_version": "1.5.0",
     "model_name": "DescriptionStyleModel",
     "state": {
      "_model_module": "@jupyter-widgets/controls",
      "_model_module_version": "1.5.0",
      "_model_name": "DescriptionStyleModel",
      "_view_count": null,
      "_view_module": "@jupyter-widgets/base",
      "_view_module_version": "1.2.0",
      "_view_name": "StyleView",
      "description_width": ""
     }
    },
    "b235e2ca68c84d72bfda8a0bc11bd5e8": {
     "model_module": "@jupyter-widgets/base",
     "model_module_version": "1.2.0",
     "model_name": "LayoutModel",
     "state": {
      "_model_module": "@jupyter-widgets/base",
      "_model_module_version": "1.2.0",
      "_model_name": "LayoutModel",
      "_view_count": null,
      "_view_module": "@jupyter-widgets/base",
      "_view_module_version": "1.2.0",
      "_view_name": "LayoutView",
      "align_content": null,
      "align_items": null,
      "align_self": null,
      "border": null,
      "bottom": null,
      "display": null,
      "flex": null,
      "flex_flow": null,
      "grid_area": null,
      "grid_auto_columns": null,
      "grid_auto_flow": null,
      "grid_auto_rows": null,
      "grid_column": null,
      "grid_gap": null,
      "grid_row": null,
      "grid_template_areas": null,
      "grid_template_columns": null,
      "grid_template_rows": null,
      "height": null,
      "justify_content": null,
      "justify_items": null,
      "left": null,
      "margin": null,
      "max_height": null,
      "max_width": null,
      "min_height": null,
      "min_width": null,
      "object_fit": null,
      "object_position": null,
      "order": null,
      "overflow": null,
      "overflow_x": null,
      "overflow_y": null,
      "padding": null,
      "right": null,
      "top": null,
      "visibility": null,
      "width": null
     }
    },
    "b298f63095de4ce08fabf13f6cdc7708": {
     "model_module": "@jupyter-widgets/base",
     "model_module_version": "1.2.0",
     "model_name": "LayoutModel",
     "state": {
      "_model_module": "@jupyter-widgets/base",
      "_model_module_version": "1.2.0",
      "_model_name": "LayoutModel",
      "_view_count": null,
      "_view_module": "@jupyter-widgets/base",
      "_view_module_version": "1.2.0",
      "_view_name": "LayoutView",
      "align_content": null,
      "align_items": null,
      "align_self": null,
      "border": null,
      "bottom": null,
      "display": null,
      "flex": null,
      "flex_flow": null,
      "grid_area": null,
      "grid_auto_columns": null,
      "grid_auto_flow": null,
      "grid_auto_rows": null,
      "grid_column": null,
      "grid_gap": null,
      "grid_row": null,
      "grid_template_areas": null,
      "grid_template_columns": null,
      "grid_template_rows": null,
      "height": null,
      "justify_content": null,
      "justify_items": null,
      "left": null,
      "margin": null,
      "max_height": null,
      "max_width": null,
      "min_height": null,
      "min_width": null,
      "object_fit": null,
      "object_position": null,
      "order": null,
      "overflow": null,
      "overflow_x": null,
      "overflow_y": null,
      "padding": null,
      "right": null,
      "top": null,
      "visibility": null,
      "width": null
     }
    },
    "b577f12a5c71441a903681ae362bf3e8": {
     "model_module": "@jupyter-widgets/base",
     "model_module_version": "1.2.0",
     "model_name": "LayoutModel",
     "state": {
      "_model_module": "@jupyter-widgets/base",
      "_model_module_version": "1.2.0",
      "_model_name": "LayoutModel",
      "_view_count": null,
      "_view_module": "@jupyter-widgets/base",
      "_view_module_version": "1.2.0",
      "_view_name": "LayoutView",
      "align_content": null,
      "align_items": null,
      "align_self": null,
      "border": null,
      "bottom": null,
      "display": null,
      "flex": null,
      "flex_flow": null,
      "grid_area": null,
      "grid_auto_columns": null,
      "grid_auto_flow": null,
      "grid_auto_rows": null,
      "grid_column": null,
      "grid_gap": null,
      "grid_row": null,
      "grid_template_areas": null,
      "grid_template_columns": null,
      "grid_template_rows": null,
      "height": null,
      "justify_content": null,
      "justify_items": null,
      "left": null,
      "margin": null,
      "max_height": null,
      "max_width": null,
      "min_height": null,
      "min_width": null,
      "object_fit": null,
      "object_position": null,
      "order": null,
      "overflow": null,
      "overflow_x": null,
      "overflow_y": null,
      "padding": null,
      "right": null,
      "top": null,
      "visibility": null,
      "width": null
     }
    },
    "b656cfac056740e8b99b81cf6a92f104": {
     "model_module": "@jupyter-widgets/controls",
     "model_module_version": "1.5.0",
     "model_name": "HTMLModel",
     "state": {
      "_dom_classes": [],
      "_model_module": "@jupyter-widgets/controls",
      "_model_module_version": "1.5.0",
      "_model_name": "HTMLModel",
      "_view_count": null,
      "_view_module": "@jupyter-widgets/controls",
      "_view_module_version": "1.5.0",
      "_view_name": "HTMLView",
      "description": "",
      "description_tooltip": null,
      "layout": "IPY_MODEL_1c3d6c0af27a40538b7a3cf03dc1efc4",
      "placeholder": "​",
      "style": "IPY_MODEL_01fc9fbb98104b4daf77b222d5d3e37d",
      "value": "Downloading metadata: "
     }
    },
    "b7cea8bc17e04e488abd2159c215bc2a": {
     "model_module": "@jupyter-widgets/base",
     "model_module_version": "1.2.0",
     "model_name": "LayoutModel",
     "state": {
      "_model_module": "@jupyter-widgets/base",
      "_model_module_version": "1.2.0",
      "_model_name": "LayoutModel",
      "_view_count": null,
      "_view_module": "@jupyter-widgets/base",
      "_view_module_version": "1.2.0",
      "_view_name": "LayoutView",
      "align_content": null,
      "align_items": null,
      "align_self": null,
      "border": null,
      "bottom": null,
      "display": null,
      "flex": null,
      "flex_flow": null,
      "grid_area": null,
      "grid_auto_columns": null,
      "grid_auto_flow": null,
      "grid_auto_rows": null,
      "grid_column": null,
      "grid_gap": null,
      "grid_row": null,
      "grid_template_areas": null,
      "grid_template_columns": null,
      "grid_template_rows": null,
      "height": null,
      "justify_content": null,
      "justify_items": null,
      "left": null,
      "margin": null,
      "max_height": null,
      "max_width": null,
      "min_height": null,
      "min_width": null,
      "object_fit": null,
      "object_position": null,
      "order": null,
      "overflow": null,
      "overflow_x": null,
      "overflow_y": null,
      "padding": null,
      "right": null,
      "top": null,
      "visibility": null,
      "width": null
     }
    },
    "b98d91479ce54b2d8d0f31ca9502a0aa": {
     "model_module": "@jupyter-widgets/controls",
     "model_module_version": "1.5.0",
     "model_name": "ProgressStyleModel",
     "state": {
      "_model_module": "@jupyter-widgets/controls",
      "_model_module_version": "1.5.0",
      "_model_name": "ProgressStyleModel",
      "_view_count": null,
      "_view_module": "@jupyter-widgets/base",
      "_view_module_version": "1.2.0",
      "_view_name": "StyleView",
      "bar_color": null,
      "description_width": ""
     }
    },
    "bb1957f5864e4441be988c6ce3409304": {
     "model_module": "@jupyter-widgets/controls",
     "model_module_version": "1.5.0",
     "model_name": "HBoxModel",
     "state": {
      "_dom_classes": [],
      "_model_module": "@jupyter-widgets/controls",
      "_model_module_version": "1.5.0",
      "_model_name": "HBoxModel",
      "_view_count": null,
      "_view_module": "@jupyter-widgets/controls",
      "_view_module_version": "1.5.0",
      "_view_name": "HBoxView",
      "box_style": "",
      "children": [
       "IPY_MODEL_d928d75aa573495c971ba3a0ab9c999b",
       "IPY_MODEL_aa78f5fdeb99409ea5c4f841e7240765",
       "IPY_MODEL_1ef42ceebb55402fbc42d48c1c34c7b6"
      ],
      "layout": "IPY_MODEL_31069fab2d714bfaa91568fa1a1c03fb"
     }
    },
    "bd656132b4bd4a14954cd7190563f469": {
     "model_module": "@jupyter-widgets/controls",
     "model_module_version": "1.5.0",
     "model_name": "HTMLModel",
     "state": {
      "_dom_classes": [],
      "_model_module": "@jupyter-widgets/controls",
      "_model_module_version": "1.5.0",
      "_model_name": "HTMLModel",
      "_view_count": null,
      "_view_module": "@jupyter-widgets/controls",
      "_view_module_version": "1.5.0",
      "_view_name": "HTMLView",
      "description": "",
      "description_tooltip": null,
      "layout": "IPY_MODEL_536a6ac4457a4e23874f4589cca4575c",
      "placeholder": "​",
      "style": "IPY_MODEL_815f0734480b4c639ca8dbc39134262f",
      "value": " 416M/416M [00:14&lt;00:00, 46.0MB/s]"
     }
    },
    "bedf5f275ad94e46a582c28e1f306107": {
     "model_module": "@jupyter-widgets/controls",
     "model_module_version": "1.5.0",
     "model_name": "DescriptionStyleModel",
     "state": {
      "_model_module": "@jupyter-widgets/controls",
      "_model_module_version": "1.5.0",
      "_model_name": "DescriptionStyleModel",
      "_view_count": null,
      "_view_module": "@jupyter-widgets/base",
      "_view_module_version": "1.2.0",
      "_view_name": "StyleView",
      "description_width": ""
     }
    },
    "bf374a4e5065406d9ebf4e73120d9c64": {
     "model_module": "@jupyter-widgets/controls",
     "model_module_version": "1.5.0",
     "model_name": "HTMLModel",
     "state": {
      "_dom_classes": [],
      "_model_module": "@jupyter-widgets/controls",
      "_model_module_version": "1.5.0",
      "_model_name": "HTMLModel",
      "_view_count": null,
      "_view_module": "@jupyter-widgets/controls",
      "_view_module_version": "1.5.0",
      "_view_name": "HTMLView",
      "description": "",
      "description_tooltip": null,
      "layout": "IPY_MODEL_b7cea8bc17e04e488abd2159c215bc2a",
      "placeholder": "​",
      "style": "IPY_MODEL_f3088e403d774b14b89801e3e5104813",
      "value": "Downloading tokenizer_config.json: 100%"
     }
    },
    "c002f88955fc4854874428a216d0045a": {
     "model_module": "@jupyter-widgets/base",
     "model_module_version": "1.2.0",
     "model_name": "LayoutModel",
     "state": {
      "_model_module": "@jupyter-widgets/base",
      "_model_module_version": "1.2.0",
      "_model_name": "LayoutModel",
      "_view_count": null,
      "_view_module": "@jupyter-widgets/base",
      "_view_module_version": "1.2.0",
      "_view_name": "LayoutView",
      "align_content": null,
      "align_items": null,
      "align_self": null,
      "border": null,
      "bottom": null,
      "display": null,
      "flex": null,
      "flex_flow": null,
      "grid_area": null,
      "grid_auto_columns": null,
      "grid_auto_flow": null,
      "grid_auto_rows": null,
      "grid_column": null,
      "grid_gap": null,
      "grid_row": null,
      "grid_template_areas": null,
      "grid_template_columns": null,
      "grid_template_rows": null,
      "height": null,
      "justify_content": null,
      "justify_items": null,
      "left": null,
      "margin": null,
      "max_height": null,
      "max_width": null,
      "min_height": null,
      "min_width": null,
      "object_fit": null,
      "object_position": null,
      "order": null,
      "overflow": null,
      "overflow_x": null,
      "overflow_y": null,
      "padding": null,
      "right": null,
      "top": null,
      "visibility": null,
      "width": null
     }
    },
    "c0e76d2f04e14bb2b317cb2cce25e92b": {
     "model_module": "@jupyter-widgets/base",
     "model_module_version": "1.2.0",
     "model_name": "LayoutModel",
     "state": {
      "_model_module": "@jupyter-widgets/base",
      "_model_module_version": "1.2.0",
      "_model_name": "LayoutModel",
      "_view_count": null,
      "_view_module": "@jupyter-widgets/base",
      "_view_module_version": "1.2.0",
      "_view_name": "LayoutView",
      "align_content": null,
      "align_items": null,
      "align_self": null,
      "border": null,
      "bottom": null,
      "display": null,
      "flex": null,
      "flex_flow": null,
      "grid_area": null,
      "grid_auto_columns": null,
      "grid_auto_flow": null,
      "grid_auto_rows": null,
      "grid_column": null,
      "grid_gap": null,
      "grid_row": null,
      "grid_template_areas": null,
      "grid_template_columns": null,
      "grid_template_rows": null,
      "height": null,
      "justify_content": null,
      "justify_items": null,
      "left": null,
      "margin": null,
      "max_height": null,
      "max_width": null,
      "min_height": null,
      "min_width": null,
      "object_fit": null,
      "object_position": null,
      "order": null,
      "overflow": null,
      "overflow_x": null,
      "overflow_y": null,
      "padding": null,
      "right": null,
      "top": null,
      "visibility": null,
      "width": null
     }
    },
    "c1c4353c96834b6496d86f2eb77048b0": {
     "model_module": "@jupyter-widgets/base",
     "model_module_version": "1.2.0",
     "model_name": "LayoutModel",
     "state": {
      "_model_module": "@jupyter-widgets/base",
      "_model_module_version": "1.2.0",
      "_model_name": "LayoutModel",
      "_view_count": null,
      "_view_module": "@jupyter-widgets/base",
      "_view_module_version": "1.2.0",
      "_view_name": "LayoutView",
      "align_content": null,
      "align_items": null,
      "align_self": null,
      "border": null,
      "bottom": null,
      "display": null,
      "flex": null,
      "flex_flow": null,
      "grid_area": null,
      "grid_auto_columns": null,
      "grid_auto_flow": null,
      "grid_auto_rows": null,
      "grid_column": null,
      "grid_gap": null,
      "grid_row": null,
      "grid_template_areas": null,
      "grid_template_columns": null,
      "grid_template_rows": null,
      "height": null,
      "justify_content": null,
      "justify_items": null,
      "left": null,
      "margin": null,
      "max_height": null,
      "max_width": null,
      "min_height": null,
      "min_width": null,
      "object_fit": null,
      "object_position": null,
      "order": null,
      "overflow": null,
      "overflow_x": null,
      "overflow_y": null,
      "padding": null,
      "right": null,
      "top": null,
      "visibility": null,
      "width": null
     }
    },
    "c1ee1b86c9ef43359dd6ed58c3e009a8": {
     "model_module": "@jupyter-widgets/controls",
     "model_module_version": "1.5.0",
     "model_name": "HTMLModel",
     "state": {
      "_dom_classes": [],
      "_model_module": "@jupyter-widgets/controls",
      "_model_module_version": "1.5.0",
      "_model_name": "HTMLModel",
      "_view_count": null,
      "_view_module": "@jupyter-widgets/controls",
      "_view_module_version": "1.5.0",
      "_view_name": "HTMLView",
      "description": "",
      "description_tooltip": null,
      "layout": "IPY_MODEL_f04fb1fa6be84ec9bc71701ea9c0dd3a",
      "placeholder": "​",
      "style": "IPY_MODEL_6ea8f1b216674fe0b3082a289ebbf9a5",
      "value": "100%"
     }
    },
    "c210828d03504160afe9850ad0dd3032": {
     "model_module": "@jupyter-widgets/base",
     "model_module_version": "1.2.0",
     "model_name": "LayoutModel",
     "state": {
      "_model_module": "@jupyter-widgets/base",
      "_model_module_version": "1.2.0",
      "_model_name": "LayoutModel",
      "_view_count": null,
      "_view_module": "@jupyter-widgets/base",
      "_view_module_version": "1.2.0",
      "_view_name": "LayoutView",
      "align_content": null,
      "align_items": null,
      "align_self": null,
      "border": null,
      "bottom": null,
      "display": null,
      "flex": null,
      "flex_flow": null,
      "grid_area": null,
      "grid_auto_columns": null,
      "grid_auto_flow": null,
      "grid_auto_rows": null,
      "grid_column": null,
      "grid_gap": null,
      "grid_row": null,
      "grid_template_areas": null,
      "grid_template_columns": null,
      "grid_template_rows": null,
      "height": null,
      "justify_content": null,
      "justify_items": null,
      "left": null,
      "margin": null,
      "max_height": null,
      "max_width": null,
      "min_height": null,
      "min_width": null,
      "object_fit": null,
      "object_position": null,
      "order": null,
      "overflow": null,
      "overflow_x": null,
      "overflow_y": null,
      "padding": null,
      "right": null,
      "top": null,
      "visibility": null,
      "width": null
     }
    },
    "c37ffd97fd344cd1bd4400ec4931b572": {
     "model_module": "@jupyter-widgets/base",
     "model_module_version": "1.2.0",
     "model_name": "LayoutModel",
     "state": {
      "_model_module": "@jupyter-widgets/base",
      "_model_module_version": "1.2.0",
      "_model_name": "LayoutModel",
      "_view_count": null,
      "_view_module": "@jupyter-widgets/base",
      "_view_module_version": "1.2.0",
      "_view_name": "LayoutView",
      "align_content": null,
      "align_items": null,
      "align_self": null,
      "border": null,
      "bottom": null,
      "display": null,
      "flex": null,
      "flex_flow": null,
      "grid_area": null,
      "grid_auto_columns": null,
      "grid_auto_flow": null,
      "grid_auto_rows": null,
      "grid_column": null,
      "grid_gap": null,
      "grid_row": null,
      "grid_template_areas": null,
      "grid_template_columns": null,
      "grid_template_rows": null,
      "height": null,
      "justify_content": null,
      "justify_items": null,
      "left": null,
      "margin": null,
      "max_height": null,
      "max_width": null,
      "min_height": null,
      "min_width": null,
      "object_fit": null,
      "object_position": null,
      "order": null,
      "overflow": null,
      "overflow_x": null,
      "overflow_y": null,
      "padding": null,
      "right": null,
      "top": null,
      "visibility": null,
      "width": null
     }
    },
    "c5e9dee8a14d4119b8d3d176d644c6fa": {
     "model_module": "@jupyter-widgets/base",
     "model_module_version": "1.2.0",
     "model_name": "LayoutModel",
     "state": {
      "_model_module": "@jupyter-widgets/base",
      "_model_module_version": "1.2.0",
      "_model_name": "LayoutModel",
      "_view_count": null,
      "_view_module": "@jupyter-widgets/base",
      "_view_module_version": "1.2.0",
      "_view_name": "LayoutView",
      "align_content": null,
      "align_items": null,
      "align_self": null,
      "border": null,
      "bottom": null,
      "display": null,
      "flex": null,
      "flex_flow": null,
      "grid_area": null,
      "grid_auto_columns": null,
      "grid_auto_flow": null,
      "grid_auto_rows": null,
      "grid_column": null,
      "grid_gap": null,
      "grid_row": null,
      "grid_template_areas": null,
      "grid_template_columns": null,
      "grid_template_rows": null,
      "height": null,
      "justify_content": null,
      "justify_items": null,
      "left": null,
      "margin": null,
      "max_height": null,
      "max_width": null,
      "min_height": null,
      "min_width": null,
      "object_fit": null,
      "object_position": null,
      "order": null,
      "overflow": null,
      "overflow_x": null,
      "overflow_y": null,
      "padding": null,
      "right": null,
      "top": null,
      "visibility": null,
      "width": null
     }
    },
    "c863c8c3692245d49ccd3667f9e54dd7": {
     "model_module": "@jupyter-widgets/controls",
     "model_module_version": "1.5.0",
     "model_name": "ProgressStyleModel",
     "state": {
      "_model_module": "@jupyter-widgets/controls",
      "_model_module_version": "1.5.0",
      "_model_name": "ProgressStyleModel",
      "_view_count": null,
      "_view_module": "@jupyter-widgets/base",
      "_view_module_version": "1.2.0",
      "_view_name": "StyleView",
      "bar_color": null,
      "description_width": ""
     }
    },
    "ca93ebcfa1e74289ba0d3cb797830704": {
     "model_module": "@jupyter-widgets/controls",
     "model_module_version": "1.5.0",
     "model_name": "ProgressStyleModel",
     "state": {
      "_model_module": "@jupyter-widgets/controls",
      "_model_module_version": "1.5.0",
      "_model_name": "ProgressStyleModel",
      "_view_count": null,
      "_view_module": "@jupyter-widgets/base",
      "_view_module_version": "1.2.0",
      "_view_name": "StyleView",
      "bar_color": null,
      "description_width": ""
     }
    },
    "cbeeb337829d43c79c279275cedb9852": {
     "model_module": "@jupyter-widgets/base",
     "model_module_version": "1.2.0",
     "model_name": "LayoutModel",
     "state": {
      "_model_module": "@jupyter-widgets/base",
      "_model_module_version": "1.2.0",
      "_model_name": "LayoutModel",
      "_view_count": null,
      "_view_module": "@jupyter-widgets/base",
      "_view_module_version": "1.2.0",
      "_view_name": "LayoutView",
      "align_content": null,
      "align_items": null,
      "align_self": null,
      "border": null,
      "bottom": null,
      "display": null,
      "flex": null,
      "flex_flow": null,
      "grid_area": null,
      "grid_auto_columns": null,
      "grid_auto_flow": null,
      "grid_auto_rows": null,
      "grid_column": null,
      "grid_gap": null,
      "grid_row": null,
      "grid_template_areas": null,
      "grid_template_columns": null,
      "grid_template_rows": null,
      "height": null,
      "justify_content": null,
      "justify_items": null,
      "left": null,
      "margin": null,
      "max_height": null,
      "max_width": null,
      "min_height": null,
      "min_width": null,
      "object_fit": null,
      "object_position": null,
      "order": null,
      "overflow": null,
      "overflow_x": null,
      "overflow_y": null,
      "padding": null,
      "right": null,
      "top": null,
      "visibility": null,
      "width": null
     }
    },
    "cc7a6c47101f416c8f96ec486920ee83": {
     "model_module": "@jupyter-widgets/controls",
     "model_module_version": "1.5.0",
     "model_name": "DescriptionStyleModel",
     "state": {
      "_model_module": "@jupyter-widgets/controls",
      "_model_module_version": "1.5.0",
      "_model_name": "DescriptionStyleModel",
      "_view_count": null,
      "_view_module": "@jupyter-widgets/base",
      "_view_module_version": "1.2.0",
      "_view_name": "StyleView",
      "description_width": ""
     }
    },
    "d1ec5f26e08a40bea3c6645c8581b5e4": {
     "model_module": "@jupyter-widgets/base",
     "model_module_version": "1.2.0",
     "model_name": "LayoutModel",
     "state": {
      "_model_module": "@jupyter-widgets/base",
      "_model_module_version": "1.2.0",
      "_model_name": "LayoutModel",
      "_view_count": null,
      "_view_module": "@jupyter-widgets/base",
      "_view_module_version": "1.2.0",
      "_view_name": "LayoutView",
      "align_content": null,
      "align_items": null,
      "align_self": null,
      "border": null,
      "bottom": null,
      "display": null,
      "flex": null,
      "flex_flow": null,
      "grid_area": null,
      "grid_auto_columns": null,
      "grid_auto_flow": null,
      "grid_auto_rows": null,
      "grid_column": null,
      "grid_gap": null,
      "grid_row": null,
      "grid_template_areas": null,
      "grid_template_columns": null,
      "grid_template_rows": null,
      "height": null,
      "justify_content": null,
      "justify_items": null,
      "left": null,
      "margin": null,
      "max_height": null,
      "max_width": null,
      "min_height": null,
      "min_width": null,
      "object_fit": null,
      "object_position": null,
      "order": null,
      "overflow": null,
      "overflow_x": null,
      "overflow_y": null,
      "padding": null,
      "right": null,
      "top": null,
      "visibility": null,
      "width": null
     }
    },
    "d263c6fc5a3d449984c2c71201b8350a": {
     "model_module": "@jupyter-widgets/base",
     "model_module_version": "1.2.0",
     "model_name": "LayoutModel",
     "state": {
      "_model_module": "@jupyter-widgets/base",
      "_model_module_version": "1.2.0",
      "_model_name": "LayoutModel",
      "_view_count": null,
      "_view_module": "@jupyter-widgets/base",
      "_view_module_version": "1.2.0",
      "_view_name": "LayoutView",
      "align_content": null,
      "align_items": null,
      "align_self": null,
      "border": null,
      "bottom": null,
      "display": null,
      "flex": null,
      "flex_flow": null,
      "grid_area": null,
      "grid_auto_columns": null,
      "grid_auto_flow": null,
      "grid_auto_rows": null,
      "grid_column": null,
      "grid_gap": null,
      "grid_row": null,
      "grid_template_areas": null,
      "grid_template_columns": null,
      "grid_template_rows": null,
      "height": null,
      "justify_content": null,
      "justify_items": null,
      "left": null,
      "margin": null,
      "max_height": null,
      "max_width": null,
      "min_height": null,
      "min_width": null,
      "object_fit": null,
      "object_position": null,
      "order": null,
      "overflow": null,
      "overflow_x": null,
      "overflow_y": null,
      "padding": null,
      "right": null,
      "top": null,
      "visibility": null,
      "width": null
     }
    },
    "d26510e9b0254d1d938cde3ace664913": {
     "model_module": "@jupyter-widgets/controls",
     "model_module_version": "1.5.0",
     "model_name": "FloatProgressModel",
     "state": {
      "_dom_classes": [],
      "_model_module": "@jupyter-widgets/controls",
      "_model_module_version": "1.5.0",
      "_model_name": "FloatProgressModel",
      "_view_count": null,
      "_view_module": "@jupyter-widgets/controls",
      "_view_module_version": "1.5.0",
      "_view_name": "ProgressView",
      "bar_style": "success",
      "description": "",
      "description_tooltip": null,
      "layout": "IPY_MODEL_96fe1966987b437ebce00832378481ab",
      "max": 570,
      "min": 0,
      "orientation": "horizontal",
      "style": "IPY_MODEL_9d3b9decb20a49c18b9753f012b44cff",
      "value": 570
     }
    },
    "d2c7346dc0034df39eb01199c4a6be64": {
     "model_module": "@jupyter-widgets/controls",
     "model_module_version": "1.5.0",
     "model_name": "FloatProgressModel",
     "state": {
      "_dom_classes": [],
      "_model_module": "@jupyter-widgets/controls",
      "_model_module_version": "1.5.0",
      "_model_name": "FloatProgressModel",
      "_view_count": null,
      "_view_module": "@jupyter-widgets/controls",
      "_view_module_version": "1.5.0",
      "_view_name": "ProgressView",
      "bar_style": "success",
      "description": "",
      "description_tooltip": null,
      "layout": "IPY_MODEL_af6412e64b40437a8ac1442a466d522c",
      "max": 206247,
      "min": 0,
      "orientation": "horizontal",
      "style": "IPY_MODEL_aa4a5ca4b6b24cfb9f2a0d0370f03150",
      "value": 206247
     }
    },
    "d501a09fe8fc42d08e733a203af28989": {
     "model_module": "@jupyter-widgets/base",
     "model_module_version": "1.2.0",
     "model_name": "LayoutModel",
     "state": {
      "_model_module": "@jupyter-widgets/base",
      "_model_module_version": "1.2.0",
      "_model_name": "LayoutModel",
      "_view_count": null,
      "_view_module": "@jupyter-widgets/base",
      "_view_module_version": "1.2.0",
      "_view_name": "LayoutView",
      "align_content": null,
      "align_items": null,
      "align_self": null,
      "border": null,
      "bottom": null,
      "display": null,
      "flex": null,
      "flex_flow": null,
      "grid_area": null,
      "grid_auto_columns": null,
      "grid_auto_flow": null,
      "grid_auto_rows": null,
      "grid_column": null,
      "grid_gap": null,
      "grid_row": null,
      "grid_template_areas": null,
      "grid_template_columns": null,
      "grid_template_rows": null,
      "height": null,
      "justify_content": null,
      "justify_items": null,
      "left": null,
      "margin": null,
      "max_height": null,
      "max_width": null,
      "min_height": null,
      "min_width": null,
      "object_fit": null,
      "object_position": null,
      "order": null,
      "overflow": null,
      "overflow_x": null,
      "overflow_y": null,
      "padding": null,
      "right": null,
      "top": null,
      "visibility": null,
      "width": null
     }
    },
    "d928d75aa573495c971ba3a0ab9c999b": {
     "model_module": "@jupyter-widgets/controls",
     "model_module_version": "1.5.0",
     "model_name": "HTMLModel",
     "state": {
      "_dom_classes": [],
      "_model_module": "@jupyter-widgets/controls",
      "_model_module_version": "1.5.0",
      "_model_name": "HTMLModel",
      "_view_count": null,
      "_view_module": "@jupyter-widgets/controls",
      "_view_module_version": "1.5.0",
      "_view_name": "HTMLView",
      "description": "",
      "description_tooltip": null,
      "layout": "IPY_MODEL_4314191836fc450f8a64085f45f623e8",
      "placeholder": "​",
      "style": "IPY_MODEL_3b0f718a5540494e95507457ee6ab2fa",
      "value": "Downloading data: "
     }
    },
    "da5203cf0e3a4f6e93f946d0c533ca68": {
     "model_module": "@jupyter-widgets/base",
     "model_module_version": "1.2.0",
     "model_name": "LayoutModel",
     "state": {
      "_model_module": "@jupyter-widgets/base",
      "_model_module_version": "1.2.0",
      "_model_name": "LayoutModel",
      "_view_count": null,
      "_view_module": "@jupyter-widgets/base",
      "_view_module_version": "1.2.0",
      "_view_name": "LayoutView",
      "align_content": null,
      "align_items": null,
      "align_self": null,
      "border": null,
      "bottom": null,
      "display": null,
      "flex": null,
      "flex_flow": null,
      "grid_area": null,
      "grid_auto_columns": null,
      "grid_auto_flow": null,
      "grid_auto_rows": null,
      "grid_column": null,
      "grid_gap": null,
      "grid_row": null,
      "grid_template_areas": null,
      "grid_template_columns": null,
      "grid_template_rows": null,
      "height": null,
      "justify_content": null,
      "justify_items": null,
      "left": null,
      "margin": null,
      "max_height": null,
      "max_width": null,
      "min_height": null,
      "min_width": null,
      "object_fit": null,
      "object_position": null,
      "order": null,
      "overflow": null,
      "overflow_x": null,
      "overflow_y": null,
      "padding": null,
      "right": null,
      "top": null,
      "visibility": null,
      "width": null
     }
    },
    "dab3bb4ada6846c8b61861d3faf168be": {
     "model_module": "@jupyter-widgets/controls",
     "model_module_version": "1.5.0",
     "model_name": "DescriptionStyleModel",
     "state": {
      "_model_module": "@jupyter-widgets/controls",
      "_model_module_version": "1.5.0",
      "_model_name": "DescriptionStyleModel",
      "_view_count": null,
      "_view_module": "@jupyter-widgets/base",
      "_view_module_version": "1.2.0",
      "_view_name": "StyleView",
      "description_width": ""
     }
    },
    "dbf7da01f33e48f78fa5e345a20ac190": {
     "model_module": "@jupyter-widgets/controls",
     "model_module_version": "1.5.0",
     "model_name": "DescriptionStyleModel",
     "state": {
      "_model_module": "@jupyter-widgets/controls",
      "_model_module_version": "1.5.0",
      "_model_name": "DescriptionStyleModel",
      "_view_count": null,
      "_view_module": "@jupyter-widgets/base",
      "_view_module_version": "1.2.0",
      "_view_name": "StyleView",
      "description_width": ""
     }
    },
    "dc5b3b514c874cbba0c959e062cf9262": {
     "model_module": "@jupyter-widgets/base",
     "model_module_version": "1.2.0",
     "model_name": "LayoutModel",
     "state": {
      "_model_module": "@jupyter-widgets/base",
      "_model_module_version": "1.2.0",
      "_model_name": "LayoutModel",
      "_view_count": null,
      "_view_module": "@jupyter-widgets/base",
      "_view_module_version": "1.2.0",
      "_view_name": "LayoutView",
      "align_content": null,
      "align_items": null,
      "align_self": null,
      "border": null,
      "bottom": null,
      "display": null,
      "flex": null,
      "flex_flow": null,
      "grid_area": null,
      "grid_auto_columns": null,
      "grid_auto_flow": null,
      "grid_auto_rows": null,
      "grid_column": null,
      "grid_gap": null,
      "grid_row": null,
      "grid_template_areas": null,
      "grid_template_columns": null,
      "grid_template_rows": null,
      "height": null,
      "justify_content": null,
      "justify_items": null,
      "left": null,
      "margin": null,
      "max_height": null,
      "max_width": null,
      "min_height": null,
      "min_width": null,
      "object_fit": null,
      "object_position": null,
      "order": null,
      "overflow": null,
      "overflow_x": null,
      "overflow_y": null,
      "padding": null,
      "right": null,
      "top": null,
      "visibility": null,
      "width": null
     }
    },
    "dd07de931a7d404887bb05d389345f5b": {
     "model_module": "@jupyter-widgets/controls",
     "model_module_version": "1.5.0",
     "model_name": "FloatProgressModel",
     "state": {
      "_dom_classes": [],
      "_model_module": "@jupyter-widgets/controls",
      "_model_module_version": "1.5.0",
      "_model_name": "FloatProgressModel",
      "_view_count": null,
      "_view_module": "@jupyter-widgets/controls",
      "_view_module_version": "1.5.0",
      "_view_name": "ProgressView",
      "bar_style": "success",
      "description": "",
      "description_tooltip": null,
      "layout": "IPY_MODEL_5f04d6feff6041268763bc7674be5a2a",
      "max": 435779157,
      "min": 0,
      "orientation": "horizontal",
      "style": "IPY_MODEL_7baf08a340754abe99d03552512d7ccb",
      "value": 435779157
     }
    },
    "e20cd7be959d44cfa6a2ae4db48c9c61": {
     "model_module": "@jupyter-widgets/controls",
     "model_module_version": "1.5.0",
     "model_name": "HBoxModel",
     "state": {
      "_dom_classes": [],
      "_model_module": "@jupyter-widgets/controls",
      "_model_module_version": "1.5.0",
      "_model_name": "HBoxModel",
      "_view_count": null,
      "_view_module": "@jupyter-widgets/controls",
      "_view_module_version": "1.5.0",
      "_view_name": "HBoxView",
      "box_style": "",
      "children": [
       "IPY_MODEL_e21f3832ca7247c5adfa4fd6849f7c5a",
       "IPY_MODEL_d26510e9b0254d1d938cde3ace664913",
       "IPY_MODEL_3d637b688fe44fdeaf6e6ca36e7798a0"
      ],
      "layout": "IPY_MODEL_c37ffd97fd344cd1bd4400ec4931b572"
     }
    },
    "e21f3832ca7247c5adfa4fd6849f7c5a": {
     "model_module": "@jupyter-widgets/controls",
     "model_module_version": "1.5.0",
     "model_name": "HTMLModel",
     "state": {
      "_dom_classes": [],
      "_model_module": "@jupyter-widgets/controls",
      "_model_module_version": "1.5.0",
      "_model_name": "HTMLModel",
      "_view_count": null,
      "_view_module": "@jupyter-widgets/controls",
      "_view_module_version": "1.5.0",
      "_view_name": "HTMLView",
      "description": "",
      "description_tooltip": null,
      "layout": "IPY_MODEL_7650b13297044e6c92a2b9083e466785",
      "placeholder": "​",
      "style": "IPY_MODEL_8629e2f846524d64a9ce29d7ccd449a0",
      "value": "Downloading config.json: 100%"
     }
    },
    "e48791eb74dd47a59ece78ff031a4d5a": {
     "model_module": "@jupyter-widgets/base",
     "model_module_version": "1.2.0",
     "model_name": "LayoutModel",
     "state": {
      "_model_module": "@jupyter-widgets/base",
      "_model_module_version": "1.2.0",
      "_model_name": "LayoutModel",
      "_view_count": null,
      "_view_module": "@jupyter-widgets/base",
      "_view_module_version": "1.2.0",
      "_view_name": "LayoutView",
      "align_content": null,
      "align_items": null,
      "align_self": null,
      "border": null,
      "bottom": null,
      "display": null,
      "flex": null,
      "flex_flow": null,
      "grid_area": null,
      "grid_auto_columns": null,
      "grid_auto_flow": null,
      "grid_auto_rows": null,
      "grid_column": null,
      "grid_gap": null,
      "grid_row": null,
      "grid_template_areas": null,
      "grid_template_columns": null,
      "grid_template_rows": null,
      "height": null,
      "justify_content": null,
      "justify_items": null,
      "left": null,
      "margin": null,
      "max_height": null,
      "max_width": null,
      "min_height": null,
      "min_width": null,
      "object_fit": null,
      "object_position": null,
      "order": null,
      "overflow": null,
      "overflow_x": null,
      "overflow_y": null,
      "padding": null,
      "right": null,
      "top": null,
      "visibility": null,
      "width": null
     }
    },
    "e6613a12dd2d4ab1a00377d85652482e": {
     "model_module": "@jupyter-widgets/controls",
     "model_module_version": "1.5.0",
     "model_name": "HTMLModel",
     "state": {
      "_dom_classes": [],
      "_model_module": "@jupyter-widgets/controls",
      "_model_module_version": "1.5.0",
      "_model_name": "HTMLModel",
      "_view_count": null,
      "_view_module": "@jupyter-widgets/controls",
      "_view_module_version": "1.5.0",
      "_view_name": "HTMLView",
      "description": "",
      "description_tooltip": null,
      "layout": "IPY_MODEL_f5fae821f8a24b0081eda231c4fff9ed",
      "placeholder": "​",
      "style": "IPY_MODEL_e73de0df248442c0a7190464bf840e02",
      "value": "Downloading builder script: "
     }
    },
    "e6cbb36b889c49fe9feebf46d45f044f": {
     "model_module": "@jupyter-widgets/controls",
     "model_module_version": "1.5.0",
     "model_name": "ProgressStyleModel",
     "state": {
      "_model_module": "@jupyter-widgets/controls",
      "_model_module_version": "1.5.0",
      "_model_name": "ProgressStyleModel",
      "_view_count": null,
      "_view_module": "@jupyter-widgets/base",
      "_view_module_version": "1.2.0",
      "_view_name": "StyleView",
      "bar_color": null,
      "description_width": ""
     }
    },
    "e73de0df248442c0a7190464bf840e02": {
     "model_module": "@jupyter-widgets/controls",
     "model_module_version": "1.5.0",
     "model_name": "DescriptionStyleModel",
     "state": {
      "_model_module": "@jupyter-widgets/controls",
      "_model_module_version": "1.5.0",
      "_model_name": "DescriptionStyleModel",
      "_view_count": null,
      "_view_module": "@jupyter-widgets/base",
      "_view_module_version": "1.2.0",
      "_view_name": "StyleView",
      "description_width": ""
     }
    },
    "e7f0a4ded68747f49d8ea6a0d35b6361": {
     "model_module": "@jupyter-widgets/base",
     "model_module_version": "1.2.0",
     "model_name": "LayoutModel",
     "state": {
      "_model_module": "@jupyter-widgets/base",
      "_model_module_version": "1.2.0",
      "_model_name": "LayoutModel",
      "_view_count": null,
      "_view_module": "@jupyter-widgets/base",
      "_view_module_version": "1.2.0",
      "_view_name": "LayoutView",
      "align_content": null,
      "align_items": null,
      "align_self": null,
      "border": null,
      "bottom": null,
      "display": null,
      "flex": null,
      "flex_flow": null,
      "grid_area": null,
      "grid_auto_columns": null,
      "grid_auto_flow": null,
      "grid_auto_rows": null,
      "grid_column": null,
      "grid_gap": null,
      "grid_row": null,
      "grid_template_areas": null,
      "grid_template_columns": null,
      "grid_template_rows": null,
      "height": null,
      "justify_content": null,
      "justify_items": null,
      "left": null,
      "margin": null,
      "max_height": null,
      "max_width": null,
      "min_height": null,
      "min_width": null,
      "object_fit": null,
      "object_position": null,
      "order": null,
      "overflow": null,
      "overflow_x": null,
      "overflow_y": null,
      "padding": null,
      "right": null,
      "top": null,
      "visibility": null,
      "width": null
     }
    },
    "e83c2c22e21e44eebfa46f326248ffb7": {
     "model_module": "@jupyter-widgets/controls",
     "model_module_version": "1.5.0",
     "model_name": "HBoxModel",
     "state": {
      "_dom_classes": [],
      "_model_module": "@jupyter-widgets/controls",
      "_model_module_version": "1.5.0",
      "_model_name": "HBoxModel",
      "_view_count": null,
      "_view_module": "@jupyter-widgets/controls",
      "_view_module_version": "1.5.0",
      "_view_name": "HBoxView",
      "box_style": "",
      "children": [
       "IPY_MODEL_f646aceb09e240c1a16524fe9128ed95",
       "IPY_MODEL_5a6b5a8354ee40b2be220d1dba6834cc",
       "IPY_MODEL_fc2e39a7d2cd440e8524d56c9313c8ae"
      ],
      "layout": "IPY_MODEL_d1ec5f26e08a40bea3c6645c8581b5e4"
     }
    },
    "e87c504975b74979bccf9de6ce56d603": {
     "model_module": "@jupyter-widgets/controls",
     "model_module_version": "1.5.0",
     "model_name": "DescriptionStyleModel",
     "state": {
      "_model_module": "@jupyter-widgets/controls",
      "_model_module_version": "1.5.0",
      "_model_name": "DescriptionStyleModel",
      "_view_count": null,
      "_view_module": "@jupyter-widgets/base",
      "_view_module_version": "1.2.0",
      "_view_name": "StyleView",
      "description_width": ""
     }
    },
    "eab7eddfeb7c44c496e14f3bdd2c2591": {
     "model_module": "@jupyter-widgets/base",
     "model_module_version": "1.2.0",
     "model_name": "LayoutModel",
     "state": {
      "_model_module": "@jupyter-widgets/base",
      "_model_module_version": "1.2.0",
      "_model_name": "LayoutModel",
      "_view_count": null,
      "_view_module": "@jupyter-widgets/base",
      "_view_module_version": "1.2.0",
      "_view_name": "LayoutView",
      "align_content": null,
      "align_items": null,
      "align_self": null,
      "border": null,
      "bottom": null,
      "display": null,
      "flex": null,
      "flex_flow": null,
      "grid_area": null,
      "grid_auto_columns": null,
      "grid_auto_flow": null,
      "grid_auto_rows": null,
      "grid_column": null,
      "grid_gap": null,
      "grid_row": null,
      "grid_template_areas": null,
      "grid_template_columns": null,
      "grid_template_rows": null,
      "height": null,
      "justify_content": null,
      "justify_items": null,
      "left": null,
      "margin": null,
      "max_height": null,
      "max_width": null,
      "min_height": null,
      "min_width": null,
      "object_fit": null,
      "object_position": null,
      "order": null,
      "overflow": null,
      "overflow_x": null,
      "overflow_y": null,
      "padding": null,
      "right": null,
      "top": null,
      "visibility": null,
      "width": null
     }
    },
    "eedbdeac83fd4948955639cb68f595be": {
     "model_module": "@jupyter-widgets/base",
     "model_module_version": "1.2.0",
     "model_name": "LayoutModel",
     "state": {
      "_model_module": "@jupyter-widgets/base",
      "_model_module_version": "1.2.0",
      "_model_name": "LayoutModel",
      "_view_count": null,
      "_view_module": "@jupyter-widgets/base",
      "_view_module_version": "1.2.0",
      "_view_name": "LayoutView",
      "align_content": null,
      "align_items": null,
      "align_self": null,
      "border": null,
      "bottom": null,
      "display": null,
      "flex": null,
      "flex_flow": null,
      "grid_area": null,
      "grid_auto_columns": null,
      "grid_auto_flow": null,
      "grid_auto_rows": null,
      "grid_column": null,
      "grid_gap": null,
      "grid_row": null,
      "grid_template_areas": null,
      "grid_template_columns": null,
      "grid_template_rows": null,
      "height": null,
      "justify_content": null,
      "justify_items": null,
      "left": null,
      "margin": null,
      "max_height": null,
      "max_width": null,
      "min_height": null,
      "min_width": null,
      "object_fit": null,
      "object_position": null,
      "order": null,
      "overflow": null,
      "overflow_x": null,
      "overflow_y": null,
      "padding": null,
      "right": null,
      "top": null,
      "visibility": null,
      "width": null
     }
    },
    "f04fb1fa6be84ec9bc71701ea9c0dd3a": {
     "model_module": "@jupyter-widgets/base",
     "model_module_version": "1.2.0",
     "model_name": "LayoutModel",
     "state": {
      "_model_module": "@jupyter-widgets/base",
      "_model_module_version": "1.2.0",
      "_model_name": "LayoutModel",
      "_view_count": null,
      "_view_module": "@jupyter-widgets/base",
      "_view_module_version": "1.2.0",
      "_view_name": "LayoutView",
      "align_content": null,
      "align_items": null,
      "align_self": null,
      "border": null,
      "bottom": null,
      "display": null,
      "flex": null,
      "flex_flow": null,
      "grid_area": null,
      "grid_auto_columns": null,
      "grid_auto_flow": null,
      "grid_auto_rows": null,
      "grid_column": null,
      "grid_gap": null,
      "grid_row": null,
      "grid_template_areas": null,
      "grid_template_columns": null,
      "grid_template_rows": null,
      "height": null,
      "justify_content": null,
      "justify_items": null,
      "left": null,
      "margin": null,
      "max_height": null,
      "max_width": null,
      "min_height": null,
      "min_width": null,
      "object_fit": null,
      "object_position": null,
      "order": null,
      "overflow": null,
      "overflow_x": null,
      "overflow_y": null,
      "padding": null,
      "right": null,
      "top": null,
      "visibility": null,
      "width": null
     }
    },
    "f268c424d43141de977373c93cd7f06d": {
     "model_module": "@jupyter-widgets/base",
     "model_module_version": "1.2.0",
     "model_name": "LayoutModel",
     "state": {
      "_model_module": "@jupyter-widgets/base",
      "_model_module_version": "1.2.0",
      "_model_name": "LayoutModel",
      "_view_count": null,
      "_view_module": "@jupyter-widgets/base",
      "_view_module_version": "1.2.0",
      "_view_name": "LayoutView",
      "align_content": null,
      "align_items": null,
      "align_self": null,
      "border": null,
      "bottom": null,
      "display": null,
      "flex": null,
      "flex_flow": null,
      "grid_area": null,
      "grid_auto_columns": null,
      "grid_auto_flow": null,
      "grid_auto_rows": null,
      "grid_column": null,
      "grid_gap": null,
      "grid_row": null,
      "grid_template_areas": null,
      "grid_template_columns": null,
      "grid_template_rows": null,
      "height": null,
      "justify_content": null,
      "justify_items": null,
      "left": null,
      "margin": null,
      "max_height": null,
      "max_width": null,
      "min_height": null,
      "min_width": null,
      "object_fit": null,
      "object_position": null,
      "order": null,
      "overflow": null,
      "overflow_x": null,
      "overflow_y": null,
      "padding": null,
      "right": null,
      "top": null,
      "visibility": null,
      "width": null
     }
    },
    "f3088e403d774b14b89801e3e5104813": {
     "model_module": "@jupyter-widgets/controls",
     "model_module_version": "1.5.0",
     "model_name": "DescriptionStyleModel",
     "state": {
      "_model_module": "@jupyter-widgets/controls",
      "_model_module_version": "1.5.0",
      "_model_name": "DescriptionStyleModel",
      "_view_count": null,
      "_view_module": "@jupyter-widgets/base",
      "_view_module_version": "1.2.0",
      "_view_name": "StyleView",
      "description_width": ""
     }
    },
    "f35e2f7dc684472fbefecd2143049ff4": {
     "model_module": "@jupyter-widgets/controls",
     "model_module_version": "1.5.0",
     "model_name": "HTMLModel",
     "state": {
      "_dom_classes": [],
      "_model_module": "@jupyter-widgets/controls",
      "_model_module_version": "1.5.0",
      "_model_name": "HTMLModel",
      "_view_count": null,
      "_view_module": "@jupyter-widgets/controls",
      "_view_module_version": "1.5.0",
      "_view_name": "HTMLView",
      "description": "",
      "description_tooltip": null,
      "layout": "IPY_MODEL_639c7623ed784d1c988f8eabf1fdf4e5",
      "placeholder": "​",
      "style": "IPY_MODEL_15e54667ece74fc0974f59614f842e91",
      "value": " 1.08M/? [00:00&lt;00:00, 12.9MB/s]"
     }
    },
    "f3cc84debfef420d9518b6b11e9dd993": {
     "model_module": "@jupyter-widgets/controls",
     "model_module_version": "1.5.0",
     "model_name": "DescriptionStyleModel",
     "state": {
      "_model_module": "@jupyter-widgets/controls",
      "_model_module_version": "1.5.0",
      "_model_name": "DescriptionStyleModel",
      "_view_count": null,
      "_view_module": "@jupyter-widgets/base",
      "_view_module_version": "1.2.0",
      "_view_name": "StyleView",
      "description_width": ""
     }
    },
    "f5fae821f8a24b0081eda231c4fff9ed": {
     "model_module": "@jupyter-widgets/base",
     "model_module_version": "1.2.0",
     "model_name": "LayoutModel",
     "state": {
      "_model_module": "@jupyter-widgets/base",
      "_model_module_version": "1.2.0",
      "_model_name": "LayoutModel",
      "_view_count": null,
      "_view_module": "@jupyter-widgets/base",
      "_view_module_version": "1.2.0",
      "_view_name": "LayoutView",
      "align_content": null,
      "align_items": null,
      "align_self": null,
      "border": null,
      "bottom": null,
      "display": null,
      "flex": null,
      "flex_flow": null,
      "grid_area": null,
      "grid_auto_columns": null,
      "grid_auto_flow": null,
      "grid_auto_rows": null,
      "grid_column": null,
      "grid_gap": null,
      "grid_row": null,
      "grid_template_areas": null,
      "grid_template_columns": null,
      "grid_template_rows": null,
      "height": null,
      "justify_content": null,
      "justify_items": null,
      "left": null,
      "margin": null,
      "max_height": null,
      "max_width": null,
      "min_height": null,
      "min_width": null,
      "object_fit": null,
      "object_position": null,
      "order": null,
      "overflow": null,
      "overflow_x": null,
      "overflow_y": null,
      "padding": null,
      "right": null,
      "top": null,
      "visibility": null,
      "width": null
     }
    },
    "f646aceb09e240c1a16524fe9128ed95": {
     "model_module": "@jupyter-widgets/controls",
     "model_module_version": "1.5.0",
     "model_name": "HTMLModel",
     "state": {
      "_dom_classes": [],
      "_model_module": "@jupyter-widgets/controls",
      "_model_module_version": "1.5.0",
      "_model_name": "HTMLModel",
      "_view_count": null,
      "_view_module": "@jupyter-widgets/controls",
      "_view_module_version": "1.5.0",
      "_view_name": "HTMLView",
      "description": "",
      "description_tooltip": null,
      "layout": "IPY_MODEL_43738b8a3b8041d4a9bd5e5619f0058b",
      "placeholder": "​",
      "style": "IPY_MODEL_b1e1baf4494d4daa8121dc5401997600",
      "value": "Generating validation split:  98%"
     }
    },
    "f7ebbcbde3834abb8ddc609317e2f9b6": {
     "model_module": "@jupyter-widgets/base",
     "model_module_version": "1.2.0",
     "model_name": "LayoutModel",
     "state": {
      "_model_module": "@jupyter-widgets/base",
      "_model_module_version": "1.2.0",
      "_model_name": "LayoutModel",
      "_view_count": null,
      "_view_module": "@jupyter-widgets/base",
      "_view_module_version": "1.2.0",
      "_view_name": "LayoutView",
      "align_content": null,
      "align_items": null,
      "align_self": null,
      "border": null,
      "bottom": null,
      "display": null,
      "flex": null,
      "flex_flow": null,
      "grid_area": null,
      "grid_auto_columns": null,
      "grid_auto_flow": null,
      "grid_auto_rows": null,
      "grid_column": null,
      "grid_gap": null,
      "grid_row": null,
      "grid_template_areas": null,
      "grid_template_columns": null,
      "grid_template_rows": null,
      "height": null,
      "justify_content": null,
      "justify_items": null,
      "left": null,
      "margin": null,
      "max_height": null,
      "max_width": null,
      "min_height": null,
      "min_width": null,
      "object_fit": null,
      "object_position": null,
      "order": null,
      "overflow": null,
      "overflow_x": null,
      "overflow_y": null,
      "padding": null,
      "right": null,
      "top": null,
      "visibility": null,
      "width": null
     }
    },
    "f940c27ddf7b414897a7f7a60f452c85": {
     "model_module": "@jupyter-widgets/controls",
     "model_module_version": "1.5.0",
     "model_name": "HBoxModel",
     "state": {
      "_dom_classes": [],
      "_model_module": "@jupyter-widgets/controls",
      "_model_module_version": "1.5.0",
      "_model_name": "HBoxModel",
      "_view_count": null,
      "_view_module": "@jupyter-widgets/controls",
      "_view_module_version": "1.5.0",
      "_view_name": "HBoxView",
      "box_style": "",
      "children": [
       "IPY_MODEL_89f8c69c5a88404c95e974afd3889803",
       "IPY_MODEL_8de2ab894c5d4feb869a97904fc91692",
       "IPY_MODEL_9f6e14f4bd234909b6bf7abdc8608ad5"
      ],
      "layout": "IPY_MODEL_614fab9013a548a791772c7175a4df4e"
     }
    },
    "fc2e39a7d2cd440e8524d56c9313c8ae": {
     "model_module": "@jupyter-widgets/controls",
     "model_module_version": "1.5.0",
     "model_name": "HTMLModel",
     "state": {
      "_dom_classes": [],
      "_model_module": "@jupyter-widgets/controls",
      "_model_module_version": "1.5.0",
      "_model_name": "HTMLModel",
      "_view_count": null,
      "_view_module": "@jupyter-widgets/controls",
      "_view_module_version": "1.5.0",
      "_view_name": "HTMLView",
      "description": "",
      "description_tooltip": null,
      "layout": "IPY_MODEL_f7ebbcbde3834abb8ddc609317e2f9b6",
      "placeholder": "​",
      "style": "IPY_MODEL_3b60ef22d3874e1db64a2fa02ba24924",
      "value": " 772/784 [00:01&lt;00:00, 1184.94 examples/s]"
     }
    },
    "fc4fab18d128426293d814dad9d78659": {
     "model_module": "@jupyter-widgets/controls",
     "model_module_version": "1.5.0",
     "model_name": "ProgressStyleModel",
     "state": {
      "_model_module": "@jupyter-widgets/controls",
      "_model_module_version": "1.5.0",
      "_model_name": "ProgressStyleModel",
      "_view_count": null,
      "_view_module": "@jupyter-widgets/base",
      "_view_module_version": "1.2.0",
      "_view_name": "StyleView",
      "bar_color": null,
      "description_width": ""
     }
    },
    "fdbc14baed124afd91f6803f6afe14a9": {
     "model_module": "@jupyter-widgets/controls",
     "model_module_version": "1.5.0",
     "model_name": "DescriptionStyleModel",
     "state": {
      "_model_module": "@jupyter-widgets/controls",
      "_model_module_version": "1.5.0",
      "_model_name": "DescriptionStyleModel",
      "_view_count": null,
      "_view_module": "@jupyter-widgets/base",
      "_view_module_version": "1.2.0",
      "_view_name": "StyleView",
      "description_width": ""
     }
    },
    "fe2e993f8557459f973475c710625795": {
     "model_module": "@jupyter-widgets/controls",
     "model_module_version": "1.5.0",
     "model_name": "HBoxModel",
     "state": {
      "_dom_classes": [],
      "_model_module": "@jupyter-widgets/controls",
      "_model_module_version": "1.5.0",
      "_model_name": "HBoxModel",
      "_view_count": null,
      "_view_module": "@jupyter-widgets/controls",
      "_view_module_version": "1.5.0",
      "_view_name": "HBoxView",
      "box_style": "",
      "children": [
       "IPY_MODEL_6b9f1d6c65074d54992acd70054df0f4",
       "IPY_MODEL_9225fd2442094f0a856d9e1ccf0d836d",
       "IPY_MODEL_629fdf5f59df481e9dd25fabc1d19152"
      ],
      "layout": "IPY_MODEL_d501a09fe8fc42d08e733a203af28989"
     }
    },
    "fe3b0f825f254387b80fd10682f421dc": {
     "model_module": "@jupyter-widgets/controls",
     "model_module_version": "1.5.0",
     "model_name": "HTMLModel",
     "state": {
      "_dom_classes": [],
      "_model_module": "@jupyter-widgets/controls",
      "_model_module_version": "1.5.0",
      "_model_name": "HTMLModel",
      "_view_count": null,
      "_view_module": "@jupyter-widgets/controls",
      "_view_module_version": "1.5.0",
      "_view_name": "HTMLView",
      "description": "",
      "description_tooltip": null,
      "layout": "IPY_MODEL_845656eb4e214d798cc029f012f21a09",
      "placeholder": "​",
      "style": "IPY_MODEL_73ca0d50d9d44de2bb7e24b73ebfd42f",
      "value": "Downloading data: "
     }
    }
   }
  }
 },
 "nbformat": 4,
 "nbformat_minor": 1
}
